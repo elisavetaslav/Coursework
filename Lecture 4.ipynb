{
 "cells": [
  {
   "cell_type": "markdown",
   "id": "f816e9dd",
   "metadata": {},
   "source": [
    "## Лекция 4"
   ]
  },
  {
   "cell_type": "markdown",
   "id": "59a98da4",
   "metadata": {},
   "source": [
    "На прошлой лекции мы с вами познакомились с ООП. Сегодня мы продолжим.\n",
    "И начнем со статических методов"
   ]
  },
  {
   "cell_type": "markdown",
   "id": "631350e6",
   "metadata": {},
   "source": [
    "### Статические методы"
   ]
  },
  {
   "cell_type": "markdown",
   "id": "9bbb5616",
   "metadata": {},
   "source": [
    "**Статические методы** в Python - это методы класса, которые не требуют доступа к экземпляру объекта (`self`) или к классу. Они могут быть вызваны непосредственно из класса, без создания его экземпляра, и выполняются в контексте класса, а не в контексте конкретного объекта. Полезны, когда не требуется связь с объектом.\n",
    "\n",
    "Чтобы объявить такой метод, используем @staticmethod перед функцией"
   ]
  },
  {
   "cell_type": "code",
   "execution_count": 1,
   "id": "764ed48a",
   "metadata": {},
   "outputs": [],
   "source": [
    "class Dog:\n",
    "    species = \"Canis familiaris\"\n",
    "    sounds = \"Woof\"\n",
    "\n",
    "    def __init__(self, name, age, weakness):\n",
    "        self.name = name\n",
    "        self.age = age\n",
    "        self.__weakness = weakness\n",
    "\n",
    "    def speak(self):\n",
    "        return f\"{self.name} says {self.sounds}!\"\n",
    "    \n",
    "    @staticmethod\n",
    "    def about_dogs():\n",
    "        print(\"Dogs are best friends!\")"
   ]
  },
  {
   "cell_type": "code",
   "execution_count": 2,
   "id": "6e852376",
   "metadata": {},
   "outputs": [
    {
     "name": "stdout",
     "output_type": "stream",
     "text": [
      "Dogs are best friends!\n"
     ]
    }
   ],
   "source": [
    "my_dog = Dog('Bobik', 3, 'tennis balls')\n",
    "my_dog.about_dogs()"
   ]
  },
  {
   "cell_type": "markdown",
   "id": "bbf9398c",
   "metadata": {},
   "source": [
    "Существует также такой метод как @classmethod. Он используется для работы с общими атрибутами класса или для выполнения операций, которые связаны с классом в целом, а не с конкретными объектами. В такой метод передается не self, cls - т.е. сам класс."
   ]
  },
  {
   "cell_type": "code",
   "execution_count": 3,
   "id": "e8f91b66",
   "metadata": {},
   "outputs": [],
   "source": [
    "class Dog:\n",
    "    species = \"Canis familiaris\"\n",
    "    sounds = \"Woof\"\n",
    "\n",
    "    def __init__(self, name, age, weakness):\n",
    "        self.name = name\n",
    "        self.age = age\n",
    "        self.__weakness = weakness\n",
    "\n",
    "    def speak(self):\n",
    "        return f\"{self.name} says {self.sounds}!\"\n",
    "    \n",
    "    @staticmethod\n",
    "    def about_dogs():\n",
    "        print(\"Dogs are best friends!\")\n",
    "        \n",
    "    @classmethod\n",
    "    def change_sounds(cls, new_sound):\n",
    "        cls.sounds = new_sound"
   ]
  },
  {
   "cell_type": "code",
   "execution_count": 4,
   "id": "1a5ae75a",
   "metadata": {},
   "outputs": [
    {
     "name": "stdout",
     "output_type": "stream",
     "text": [
      "Bobik says Meow!\n",
      "Bobby says Woof!\n"
     ]
    }
   ],
   "source": [
    "my_dog = Dog('Bobik', 3, 'tennis balls')\n",
    "my_dog2 = Dog('Bobby', 2, 'tennis balls')\n",
    "\n",
    "# Сейчас мы изменим звук именно для экземпляра класса и сравним\n",
    "my_dog.sounds = 'Meow'\n",
    "print(my_dog.speak())\n",
    "print(my_dog2.speak())"
   ]
  },
  {
   "cell_type": "code",
   "execution_count": 5,
   "id": "cf131958",
   "metadata": {},
   "outputs": [
    {
     "name": "stdout",
     "output_type": "stream",
     "text": [
      "Bobik says AAAAAAAAAA!!\n",
      "Bobby says AAAAAAAAAA!!\n",
      "Bobik says OMG!!\n",
      "Bobby says OMG!!\n"
     ]
    }
   ],
   "source": [
    "my_dog = Dog('Bobik', 3, 'tennis balls')\n",
    "my_dog2 = Dog('Bobby', 2, 'tennis balls')\n",
    "\n",
    "# Сейчас мы изменим звук для всего класса\n",
    "my_dog.change_sounds('AAAAAAAAAA!')\n",
    "print(my_dog.speak())\n",
    "print(my_dog2.speak())\n",
    "\n",
    "# Это можно сделать еще и таким способом\n",
    "Dog.change_sounds('OMG!')\n",
    "print(my_dog.speak())\n",
    "print(my_dog2.speak())"
   ]
  },
  {
   "cell_type": "markdown",
   "id": "c7c28988",
   "metadata": {},
   "source": [
    "***\n",
    "### Setter, Getter, Property"
   ]
  },
  {
   "cell_type": "markdown",
   "id": "b8f4a794",
   "metadata": {},
   "source": [
    "**Геттер** и **сеттер** в Python - это методы, которые используются для получения (чтения) и установки (записи) значений атрибутов объекта соответственно. Они используются для обеспечения контроля доступа к атрибутам и позволяют выполнять дополнительные действия при доступе к атрибутам.\n",
    "\n",
    "1. **Геттер (getter)**: Это метод, который используется для получения значения атрибута объекта. Он обычно предназначен для чтения значений атрибутов и возвращает текущее значение атрибута.\n",
    "\n",
    "2. **Сеттер (setter)**: Это метод, который используется для установки нового значения атрибута объекта. Обычно предназначен для записи значений атрибутов и устанавливает новое значение атрибута.\n",
    "\n",
    "3. **Property** позволяет создавать атрибуты объекта с автоматическим вызовом методов при их доступе, присвоении или удалении. Это позволяет создавать атрибуты, которые выглядят как обычные атрибуты, но на самом деле вызывают определенные методы при их использовании.\n",
    "\n",
    "Проперти используются для контроля доступа к атрибутам объекта, проверки значений перед их установкой, вычисления значений на лету и других подобных задач.\n",
    "\n"
   ]
  },
  {
   "cell_type": "code",
   "execution_count": 6,
   "id": "c3928ee5",
   "metadata": {},
   "outputs": [
    {
     "name": "stdout",
     "output_type": "stream",
     "text": [
      "3\n"
     ]
    }
   ],
   "source": [
    "class Cat:\n",
    "    species = \"Felis catus\"\n",
    "    sounds = \"Meow\"\n",
    "\n",
    "    def __init__(self, name, weakness=\"Catnip\"):\n",
    "        self.name = name\n",
    "        self._age = 0\n",
    "        self.__weakness = weakness\n",
    "\n",
    "    def speak(self):\n",
    "        return f\"{self.name} says {self.sounds}!\"\n",
    "    \n",
    "    def get_age(self):\n",
    "        return self._age\n",
    "    \n",
    "    def set_age(self, age):\n",
    "        self._age = age\n",
    "        \n",
    "    def del_age(self):\n",
    "        del self.age\n",
    "        \n",
    "    age = property(get_age, set_age, del_age)\n",
    "\n",
    "my_cat = Cat('Kitty')\n",
    "my_cat.age = 3\n",
    "print(my_cat.age)\n",
    "\n",
    "# Теперь мы можем защищенно устанавливать, читать, удалять возраст. Хотя поле не публичное"
   ]
  },
  {
   "cell_type": "markdown",
   "id": "96c15d38",
   "metadata": {},
   "source": [
    "Для этих же целей можно использовать @property"
   ]
  },
  {
   "cell_type": "code",
   "execution_count": 7,
   "id": "4c668315",
   "metadata": {},
   "outputs": [
    {
     "name": "stdout",
     "output_type": "stream",
     "text": [
      "3\n"
     ]
    }
   ],
   "source": [
    "class Cat:\n",
    "    species = \"Felis catus\"\n",
    "    sounds = \"Meow\"\n",
    "\n",
    "    def __init__(self, name, weakness=\"Catnip\"):\n",
    "        self.name = name\n",
    "        self._age = 0\n",
    "        self.__weakness = weakness\n",
    "\n",
    "    def speak(self):\n",
    "        return f\"{self.name} says {self.sounds}!\"\n",
    "    \n",
    "    @property\n",
    "    def age(self):\n",
    "        return self._age\n",
    "    \n",
    "    @age.setter\n",
    "    def age(self, age):\n",
    "        self._age = age\n",
    "\n",
    "my_cat = Cat('Kitty')\n",
    "my_cat.age = 3\n",
    "print(my_cat.age)"
   ]
  },
  {
   "cell_type": "markdown",
   "id": "b6b2f540",
   "metadata": {},
   "source": [
    "***\n",
    "### Перегрузка операторов"
   ]
  },
  {
   "cell_type": "markdown",
   "id": "c513d653",
   "metadata": {},
   "source": [
    "Перегрузка операторов - это возможность переопределения поведения для встроенных операторов (например, `+, -, *, /, ==, <, >, in` и других) для объектов написанных нами классов. Это позволяет использовать эти операторы с объектами так же, как с встроенными типами данных, такими как целые числа, строки и списки.\n",
    "\n",
    "\n",
    "Какие операторы мы можем перегрузить? Ну например:\n",
    "+ `+` : `__add__`(слева),`__radd__`(справа), `__iadd__`(`+=`)\n",
    "+ `-` : `__sub__`(слева), `__rsub__`(справа), `__isub__`(`+=`)\n",
    "+ `*` : `__mul__`(слева), `__rmul__`(справа), `__imul__`(`*=`)\n",
    "+ `/` : `__div__`(слева), `__rdiv__`(справа), `__idiv__`(`/=`)\n",
    "+ `==` : `__eq__` \n",
    "+ `!=` : `__ne__`\n",
    "+ `<` : `__lt__`, `<=` : `__le__`\n",
    "+ `>` : `__gt__`, `>=` : `__ge__`\n",
    "+ `len` : `__len__`"
   ]
  },
  {
   "cell_type": "code",
   "execution_count": 8,
   "id": "4913ed42",
   "metadata": {},
   "outputs": [],
   "source": [
    "class Point:\n",
    "    def __init__(self, x, y, z):\n",
    "        self.x = x\n",
    "        self.y = y\n",
    "        self.z = z\n",
    "    \n",
    "    def __add__(self, other):\n",
    "        new_x = self.x + other.x\n",
    "        new_y = self.y + other.y\n",
    "        new_z = self.z + other.z\n",
    "        new_p = Point(new_x, new_y, new_z)\n",
    "        return new_p\n",
    "    \n",
    "    __radd__ = __add__ \n",
    "    \n",
    "    def __sub__(self, other):\n",
    "        return self.__add__(other.__mul__(-1))\n",
    "    \n",
    "    __rsub__ = __sub__ \n",
    "    \n",
    "    def __mul__(self, a):\n",
    "        new_x = self.x * a\n",
    "        new_y = self.y * a\n",
    "        new_z = self.z * a\n",
    "        new_p = Point(new_x, new_y, new_z)\n",
    "        return new_p\n",
    "    \n",
    "    __rmul__ = __mul__\n",
    "    \n",
    "    def __eq__(self, other):\n",
    "        return self.x == other.x and self.y == other.y and self.z == other.z\n",
    "    \n",
    "    def __ne__(self, other):\n",
    "        return not(self.__eq__(other))\n",
    "        \n",
    "    def __lt__(self, other):\n",
    "        dist1 = (self.x**2 + self.y**2 + self.z**2)**0.5\n",
    "        dist2 = (other.x**2 + other.y**2 + other.z**2)**0.5\n",
    "        return dist1 < dist2\n",
    "    \n",
    "    def __ge__(self, other):\n",
    "        return not(self.__lt__(other))\n",
    "    \n",
    "    def __gt__(self, other):\n",
    "        return not(self.__lt__(other) or self.__eq__(other))\n",
    "    \n",
    "    def __le__(self, other):\n",
    "        return not(self.__gt__(other))\n",
    "\n",
    "    def __len__(self):\n",
    "        return 0\n",
    "    \n",
    "    def __str__(self):\n",
    "        return f'({self.x}, {self.y}, {self.z})'"
   ]
  },
  {
   "cell_type": "code",
   "execution_count": 9,
   "id": "686f4fd6",
   "metadata": {},
   "outputs": [
    {
     "name": "stdout",
     "output_type": "stream",
     "text": [
      "(2, -2, 3)\n",
      "(0, 2, 3)\n",
      "(2, 0, 6)\n",
      "(-3, 6, 0)\n",
      "True\n",
      "False\n"
     ]
    }
   ],
   "source": [
    "a = Point(1, 0, 3)\n",
    "b = Point(1, -2, 0)\n",
    "print(a + b)\n",
    "print(a - b)\n",
    "print(a * 2)\n",
    "print(-3 * b)\n",
    "print(a > b)\n",
    "print(a < b)"
   ]
  },
  {
   "cell_type": "markdown",
   "id": "7b394beb",
   "metadata": {},
   "source": [
    "***\n",
    "### Дескрипторы"
   ]
  },
  {
   "cell_type": "markdown",
   "id": "9fb240d8",
   "metadata": {},
   "source": [
    "Что такое дескриторы? Это методы\n",
    "+ `__get__`\n",
    "+ `__set__`\n",
    "+ `__delete__`\n",
    "\n",
    "Можем их рассматривать как перегрузку присваивания `=`. `__get__` - читает (к примеру, когда значение справа от =), `__set__` - устанавливает (слева от =), а `__delete__` в свою очередь позволяет определить логику удаления атрибута.\n",
    "Что-то это напоминает? Геттер-сеттер-property? Да, но теперь мы делаем это для всех значений, а не по одному."
   ]
  },
  {
   "cell_type": "code",
   "execution_count": 10,
   "id": "85f15202",
   "metadata": {},
   "outputs": [],
   "source": [
    "class DescPoint:\n",
    "    def __init__(self, name):\n",
    "        self.name = name\n",
    "\n",
    "    def __get__(self, ins, own):\n",
    "        return ins.__dict__[self.name]\n",
    "    # Обращаемся в dict, где хранятся все имена и значения атрибутов\n",
    "    # и ищем нужное нам\n",
    "    \n",
    "    def __set__(self, ins, p):\n",
    "        if not isinstance(p, (int, float)):\n",
    "            raise ValueError(f\"{self.name} must be a number\")\n",
    "        ins.__dict__[self.name] = p\n",
    "            \n",
    "class Point:\n",
    "    def __init__(self, x, y, z):\n",
    "        self._x = x\n",
    "        self._y = y\n",
    "        self._z = z\n",
    "    \n",
    "    def __str__(self):\n",
    "        return f'({self._x}, {self._y}, {self._z})'\n",
    "    \n",
    "    x = DescPoint('_x')\n",
    "    y = DescPoint('_y')\n",
    "    z = DescPoint('_z')\n"
   ]
  },
  {
   "cell_type": "code",
   "execution_count": 11,
   "id": "88e895cb",
   "metadata": {},
   "outputs": [
    {
     "name": "stdout",
     "output_type": "stream",
     "text": [
      "(1, 0, 3)\n",
      "(1, -2, 3)\n"
     ]
    }
   ],
   "source": [
    "point = Point(1, 0, 3)\n",
    "print(point)\n",
    "\n",
    "point.y = -2\n",
    "print(point)"
   ]
  },
  {
   "cell_type": "markdown",
   "id": "4cc4b842",
   "metadata": {},
   "source": [
    "***\n",
    "###  __hash__, __eq__"
   ]
  },
  {
   "cell_type": "markdown",
   "id": "f1f08553",
   "metadata": {},
   "source": [
    "Давайте попробуем положить класс Point в set, что будет?"
   ]
  },
  {
   "cell_type": "code",
   "execution_count": 12,
   "id": "252a7d1e",
   "metadata": {},
   "outputs": [],
   "source": [
    "class Point:\n",
    "    def __init__(self, x, y, z):\n",
    "        self.x = x\n",
    "        self.y = y\n",
    "        self.z = z\n",
    "    \n",
    "    def __add__(self, other):\n",
    "        new_x = self.x + other.x\n",
    "        new_y = self.y + other.y\n",
    "        new_z = self.z + other.z\n",
    "        new_p = Point(new_x, new_y, new_z)\n",
    "        return new_p\n",
    "    \n",
    "    __radd__ = __add__ \n",
    "    \n",
    "    def __sub__(self, other):\n",
    "        return self.__add__(other.__mul__(-1))\n",
    "    \n",
    "    __rsub__ = __sub__ \n",
    "    \n",
    "    def __mul__(self, a):\n",
    "        new_x = self.x * a\n",
    "        new_y = self.y * a\n",
    "        new_z = self.z * a\n",
    "        new_p = Point(new_x, new_y, new_z)\n",
    "        return new_p\n",
    "    \n",
    "    __rmul__ = __mul__\n",
    "    \n",
    "    def __eq__(self, other):\n",
    "        return self.x == other.x and self.y == other.y and self.z == other.z\n",
    "\n",
    "    def __lt__(self, other):\n",
    "        dist1 = (self.x**2 + self.y**2 + self.z**2)**0.5\n",
    "        dist2 = (other.x**2 + other.y**2 + other.z**2)**0.5\n",
    "        return dist1 < dist2\n",
    "\n",
    "    def __len__(self):\n",
    "        return 0\n",
    "    \n",
    "    def __str__(self):\n",
    "        return f'({self.x}, {self.y}, {self.z})'"
   ]
  },
  {
   "cell_type": "code",
   "execution_count": 13,
   "id": "eb67926f",
   "metadata": {},
   "outputs": [
    {
     "ename": "TypeError",
     "evalue": "unhashable type: 'Point'",
     "output_type": "error",
     "traceback": [
      "\u001b[1;31m---------------------------------------------------------------------------\u001b[0m",
      "\u001b[1;31mTypeError\u001b[0m                                 Traceback (most recent call last)",
      "Cell \u001b[1;32mIn [13], line 3\u001b[0m\n\u001b[0;32m      1\u001b[0m point \u001b[38;5;241m=\u001b[39m Point(\u001b[38;5;241m1\u001b[39m, \u001b[38;5;241m0\u001b[39m, \u001b[38;5;241m3\u001b[39m)\n\u001b[0;32m      2\u001b[0m st \u001b[38;5;241m=\u001b[39m \u001b[38;5;28mset\u001b[39m()\n\u001b[1;32m----> 3\u001b[0m \u001b[43mst\u001b[49m\u001b[38;5;241;43m.\u001b[39;49m\u001b[43madd\u001b[49m\u001b[43m(\u001b[49m\u001b[43mpoint\u001b[49m\u001b[43m)\u001b[49m\n",
      "\u001b[1;31mTypeError\u001b[0m: unhashable type: 'Point'"
     ]
    }
   ],
   "source": [
    "point = Point(1, 0, 3)\n",
    "st = set()\n",
    "st.add(point)"
   ]
  },
  {
   "cell_type": "markdown",
   "id": "e4f64fb6",
   "metadata": {},
   "source": [
    "Мы не смогли добавить, так как для нашего класса не определен хэш. Чтож исправим это\n"
   ]
  },
  {
   "cell_type": "code",
   "execution_count": 14,
   "id": "4f04bb91",
   "metadata": {},
   "outputs": [],
   "source": [
    "class Point:\n",
    "    def __init__(self, x, y, z):\n",
    "        self.x = x\n",
    "        self.y = y\n",
    "        self.z = z\n",
    "    \n",
    "    def __add__(self, other):\n",
    "        new_x = self.x + other.x\n",
    "        new_y = self.y + other.y\n",
    "        new_z = self.z + other.z\n",
    "        new_p = Point(new_x, new_y, new_z)\n",
    "        return new_p\n",
    "    \n",
    "    __radd__ = __add__ \n",
    "    \n",
    "    def __sub__(self, other):\n",
    "        return self.__add__(other.__mul__(-1))\n",
    "    \n",
    "    __rsub__ = __sub__ \n",
    "    \n",
    "    def __mul__(self, a):\n",
    "        new_x = self.x * a\n",
    "        new_y = self.y * a\n",
    "        new_z = self.z * a\n",
    "        new_p = Point(new_x, new_y, new_z)\n",
    "        return new_p\n",
    "    \n",
    "    __rmul__ = __mul__\n",
    "    \n",
    "    def __eq__(self, other):\n",
    "        return self.x == other.x and self.y == other.y and self.z == other.z\n",
    "        \n",
    "    def __lt__(self, other):\n",
    "        dist1 = (self.x**2 + self.y**2 + self.z**2)**0.5\n",
    "        dist2 = (other.x**2 + other.y**2 + other.z**2)**0.5\n",
    "        return dist1 < dist2\n",
    "\n",
    "    def __len__(self):\n",
    "        return 0\n",
    "    \n",
    "    def __str__(self):\n",
    "        return f'({self.x}, {self.y}, {self.z})'\n",
    "    \n",
    "    def __hash__(self):\n",
    "        return hash((self.x, self.y, self.z))"
   ]
  },
  {
   "cell_type": "code",
   "execution_count": 15,
   "id": "5ac72a71",
   "metadata": {},
   "outputs": [
    {
     "name": "stdout",
     "output_type": "stream",
     "text": [
      "True\n",
      "True\n"
     ]
    }
   ],
   "source": [
    "point = Point(1, 0, 3)\n",
    "st = set()\n",
    "st.add(point)\n",
    "# Теперь все работает\n",
    "\n",
    "# Давайте посмотрим еще одну вещь\n",
    "point2 = Point(1, -2, 0)\n",
    "print(point != point2)\n",
    "print(point > point2)\n",
    "# Хоть мы и не перегружали эти операторы, они выразились через >, == и not\n",
    "\n",
    "# А вот эти придется прегрузить\n",
    "# print(point <= point2)\n",
    "# print(point >= point2)"
   ]
  },
  {
   "cell_type": "markdown",
   "id": "331f8056",
   "metadata": {},
   "source": [
    "***\n",
    "### Наследование"
   ]
  },
  {
   "cell_type": "markdown",
   "id": "045dfdb9",
   "metadata": {},
   "source": [
    "**Наследование** позволяет создавать новый класс на основе существующего класса. Новый класс, называемый подклассом (или производным классом, ребенком), наследует атрибуты и методы от базового класса (суперкласса), называемого суперклассом или родительским классом. Это позволяет повторно использовать код, избегать дублирования и создавать иерархии классов. В Python наследование реализуется путем указания имени суперкласса в скобках при определении нового класса."
   ]
  },
  {
   "cell_type": "code",
   "execution_count": 16,
   "id": "f95c910f",
   "metadata": {},
   "outputs": [
    {
     "name": "stdout",
     "output_type": "stream",
     "text": [
      "Owner: None\n",
      "Owner: Bob\n",
      "Owner: Ann\n",
      "Owner: Bob\n"
     ]
    }
   ],
   "source": [
    "class Pet:\n",
    "    def __init__(self, name, age = 0, owner = \"None\"):\n",
    "        self.name = name\n",
    "        self._age = age\n",
    "        self._owner_name = owner\n",
    "        \n",
    "    def print_owner_name(self):\n",
    "        print(f\"Owner: {self._owner_name}\")\n",
    "        \n",
    "    def set_owner_name(self, name):\n",
    "        self._owner_name = name\n",
    "    \n",
    "    \n",
    "    \n",
    "class Dog(Pet): # Dog наследник Pet\n",
    "    sound = \"Woof\"\n",
    "    \n",
    "    def __init__(self, name, age = 0, owner = \"None\"):\n",
    "        super().__init__(name, age, owner) # Явно вызываем метод суперкласса\n",
    "\n",
    "class Cat(Pet): # Cat наследник Pet\n",
    "    sound = \"Meow\"\n",
    "    # Неявно вызывается метод инициализации, т.к. в дочернем классе он не определен \n",
    "    \n",
    "    \n",
    "dog = Dog(\"Bobik\", 3, \"Bob\")\n",
    "cat = Cat(\"Kitty\", 2)\n",
    "\n",
    "# Вызываем методы суперкласса, хоть в подклассах они и не определены\n",
    "cat.print_owner_name()\n",
    "dog.print_owner_name()\n",
    "# Заметим, хоть они наследуются от одного класса. Но для каждого ребенка своя копия родителя\n",
    "# Поэтому при изменении owner_name в родительском классе из одного ребенка,\n",
    "# owner_name другого ребенка не поменяется\n",
    "\n",
    "\n",
    "# Можем также изменить его сами\n",
    "cat.set_owner_name(\"Ann\")\n",
    "cat.print_owner_name()\n",
    "dog.print_owner_name()\n",
    "    "
   ]
  },
  {
   "cell_type": "markdown",
   "id": "a1057666",
   "metadata": {},
   "source": [
    "**Множественное наследование** - когда наследуешься от нескольких классов (например, как в жизни от мамы и от папы)."
   ]
  },
  {
   "cell_type": "code",
   "execution_count": 17,
   "id": "06b29a1b",
   "metadata": {},
   "outputs": [
    {
     "name": "stdout",
     "output_type": "stream",
     "text": [
      "Meow\n"
     ]
    },
    {
     "data": {
      "text/plain": [
       "'CatDog says Meow!'"
      ]
     },
     "execution_count": 17,
     "metadata": {},
     "output_type": "execute_result"
    }
   ],
   "source": [
    "class Pet:\n",
    "    def __init__(self, name, age = 0, owner = \"None\"):\n",
    "        self.name = name\n",
    "        self._age = age\n",
    "        self._owner_name = owner\n",
    "    \n",
    "    def speak(self):\n",
    "        return f\"{self.name} says nothing\"\n",
    "        \n",
    "        \n",
    "    \n",
    "class Dog(Pet):\n",
    "    sound = \"Woof\"\n",
    "    \n",
    "    # Переопределяем функцию суперкласса, \n",
    "    # теперь будет вызываться эта реализация, а не родителя\n",
    "    def speak(self): \n",
    "        return f\"{self.name} says {self.sound}!\"\n",
    "    \n",
    "class Cat(Pet):\n",
    "    sound = \"Meow\"\n",
    "    \n",
    "\n",
    "class CatDog(Cat, Dog):\n",
    "    def print_sound(self):\n",
    "        print(self.sound)\n",
    "    \n",
    "    \n",
    "catdog = CatDog(\"CatDog\")\n",
    "catdog.print_sound()\n",
    "catdog.speak()"
   ]
  },
  {
   "cell_type": "markdown",
   "id": "164f51da",
   "metadata": {},
   "source": [
    "Что же произошло? Класс CatDog наследуется от Dog и Cat, и у каждого родителя определено поле sound, и теперь непонятно, какой звук он будет издавать. Мы столкнулись с проблемой, ее можно решить переопределив звук у ребенка или явно указать, какой звук выберется. Но что если и названия методов будут совпадать?"
   ]
  },
  {
   "cell_type": "markdown",
   "id": "e4ac08db",
   "metadata": {},
   "source": [
    "***\n",
    "### Полиморфизм"
   ]
  },
  {
   "cell_type": "markdown",
   "id": "51eb3878",
   "metadata": {},
   "source": [
    "**Полиморфизм** - это концепция, которая позволяет объектам разных классов иметь одинаковый интерфейс (атрибуты, методы), но реализовывать его по-разному. Это означает, что один и тот же метод или функция может иметь разные реализации в разных классах.\n",
    "\n",
    "В контексте полиморфизма методы с одинаковыми именами и аргументами могут вести себя по-разному в различных классах, что позволяет коду быть более гибким и модульным."
   ]
  },
  {
   "cell_type": "code",
   "execution_count": 18,
   "id": "0b43c97b",
   "metadata": {},
   "outputs": [
    {
     "name": "stdout",
     "output_type": "stream",
     "text": [
      "Frogy says nothing\n",
      "Bobik says Woof!\n",
      "Kitty speaks Meow!!!\n"
     ]
    }
   ],
   "source": [
    "class Pet:\n",
    "    def __init__(self, name, age = 0, owner = \"None\"):\n",
    "        self.name = name\n",
    "        self._age = age\n",
    "        self._owner_name = owner\n",
    "    \n",
    "    def speak(self):\n",
    "        return f\"{self.name} says nothing\"\n",
    "        \n",
    "        \n",
    "    \n",
    "class Dog(Pet):\n",
    "    sound = \"Woof\"\n",
    "    \n",
    "    def speak(self): \n",
    "        return f\"{self.name} says {self.sound}!\"\n",
    "    \n",
    "class Cat(Pet):\n",
    "    sound = \"Meow\"\n",
    "    \n",
    "    def speak(self): \n",
    "        return f\"{self.name} speaks {self.sound}!!!\"\n",
    "    \n",
    "pet = Pet(\"Frogy\", owner=\"Ann\")\n",
    "dog = Dog(\"Bobik\", 3, \"Bob\")\n",
    "cat = Cat(\"Kitty\", 2)\n",
    "\n",
    "print(pet.speak())\n",
    "print(dog.speak())\n",
    "print(cat.speak())"
   ]
  },
  {
   "cell_type": "markdown",
   "id": "a3e416dd",
   "metadata": {},
   "source": [
    "Мы переопределили методы в каждом подклассе, и теперь при вызове одного и того же метода выполняется более подходящая реализация. \n",
    "\n",
    "Но что если добавить еще и класс CatDog? Какой метод вызовется теперь?"
   ]
  },
  {
   "cell_type": "code",
   "execution_count": 19,
   "id": "58e97f92",
   "metadata": {},
   "outputs": [
    {
     "name": "stdout",
     "output_type": "stream",
     "text": [
      "CatDog speaks Meow!!!\n"
     ]
    }
   ],
   "source": [
    "class CatDog(Cat, Dog):\n",
    "    pass # этот оператор говорит не делать ничего\n",
    "        \n",
    "catdog = CatDog(\"CatDog\")\n",
    "print(catdog.speak())"
   ]
  },
  {
   "cell_type": "markdown",
   "id": "c5efdd3b",
   "metadata": {},
   "source": [
    "Получается у класса CatDog есть два варианта sound, и выбралась реализация Cat, также и с методом speak, здесь выбралась реализация Dog.\n",
    "Эта неоднозаначность порождает проблему, она называется проблемой \"ромба\" (Dimond problem)."
   ]
  },
  {
   "cell_type": "markdown",
   "id": "f7dfbe6c",
   "metadata": {},
   "source": [
    "Эта проблема приводит к ошибкам и сложностям в разрешении конфликта. Хотя в Python обычно используется метод разрешения порядка (Method Resolution Order - MRO) для определения порядка, в котором классы рассматриваются при наследовании, иногда логика неоднозначна и требует вмешательства программиста. В данном случае Python сам решил какую реализацию хочет использовать"
   ]
  },
  {
   "cell_type": "markdown",
   "id": "38e5637a",
   "metadata": {},
   "source": [
    "***\n",
    "### Абстрактные классы и виртуальные методы"
   ]
  },
  {
   "cell_type": "markdown",
   "id": "d1a41826",
   "metadata": {},
   "source": [
    "Абстрактные классы и виртуальные функции - это концепции, которые помогают создавать гибкие и модульные программы в объектно-ориентированных языках программирования, таких как Python.\n",
    "\n",
    "1. **Абстрактный класс** - это класс, который не предоставляет реализации одного или нескольких своих методов (cодержит хотя бы одну виртуальную метод). Вместо этого эти методы должны быть реализованы в подклассах.\n",
    "\n",
    "2. **Виртуальный метод** - это метод в базовом классе, который может быть переопределен в подклассах. В Python по умолчанию все методы являются виртуальными. Декоратор `@abstractmethod` используется для обозначения виртуальнфй метод."
   ]
  },
  {
   "cell_type": "code",
   "execution_count": 20,
   "id": "de575020",
   "metadata": {},
   "outputs": [
    {
     "name": "stdout",
     "output_type": "stream",
     "text": [
      "Bobik says Woof!\n",
      "Kitty speaks Meow!!!\n"
     ]
    }
   ],
   "source": [
    "from abc import ABC, abstractmethod\n",
    "# Здесь мы подключаем нужные нам библиотеки\n",
    "# Пока считайте это необходиомй строчкой, о библиотеках мы поговорим на следующей лекции\n",
    "\n",
    "class Pet(ABC):  # Абстрактный класс Pet\n",
    "    def __init__(self, name, age=0, owner=\"None\"):\n",
    "        self.name = name\n",
    "        self._age = age\n",
    "        self._owner_name = owner\n",
    "    \n",
    "    @abstractmethod  # Виртуальный метод\n",
    "    def speak(self):\n",
    "        pass\n",
    "\n",
    "class Dog(Pet):\n",
    "    sound = \"Woof\"\n",
    "\n",
    "    def speak(self):\n",
    "        return f\"{self.name} says {self.sound}!\"\n",
    "\n",
    "class Cat(Pet):\n",
    "    sound = \"Meow\"\n",
    "\n",
    "    def speak(self):\n",
    "        return f\"{self.name} speaks {self.sound}!!!\"\n",
    "\n",
    "# Ошибка: Нельзя создать экземпляр абстрактного класса\n",
    "#pet = Pet(\"Frogy\", owner=\"Ann\")\n",
    "\n",
    "dog = Dog(\"Bobik\", 3, \"Bob\")\n",
    "cat = Cat(\"Kitty\", 2)\n",
    "\n",
    "print(dog.speak())\n",
    "print(cat.speak())\n"
   ]
  },
  {
   "cell_type": "markdown",
   "id": "27026238",
   "metadata": {},
   "source": [
    "***\n",
    "### Заключение"
   ]
  },
  {
   "cell_type": "markdown",
   "id": "464259d4",
   "metadata": {},
   "source": [
    "На сегодняшней лекции мы продолжили говорить об ООП и разобрали:\n",
    "+ Статические методы\n",
    "+ Getter-Setter-Property\n",
    "+ Перегрузка операторов\n",
    "+ Дескрипторы\n",
    "+ `__hash__`,`__eq__`\n",
    "+ Наследование (и множественное наследование)\n",
    "+ Полиморфизм\n",
    "+ Абстрактные классы и виртуальные методы"
   ]
  },
  {
   "cell_type": "code",
   "execution_count": null,
   "id": "d9ba0d38",
   "metadata": {},
   "outputs": [],
   "source": []
  }
 ],
 "metadata": {
  "kernelspec": {
   "display_name": "Python 3 (ipykernel)",
   "language": "python",
   "name": "python3"
  },
  "language_info": {
   "codemirror_mode": {
    "name": "ipython",
    "version": 3
   },
   "file_extension": ".py",
   "mimetype": "text/x-python",
   "name": "python",
   "nbconvert_exporter": "python",
   "pygments_lexer": "ipython3",
   "version": "3.10.11"
  }
 },
 "nbformat": 4,
 "nbformat_minor": 5
}
