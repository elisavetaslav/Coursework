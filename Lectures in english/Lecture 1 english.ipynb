{
 "cells": [
  {
   "cell_type": "markdown",
   "id": "261183ac",
   "metadata": {},
   "source": [
    "# Lecture 1"
   ]
  },
  {
   "cell_type": "markdown",
   "id": "73de611b",
   "metadata": {},
   "source": [
    "***\n",
    "### Python programming language"
   ]
  },
  {
   "cell_type": "markdown",
   "id": "03de3427",
   "metadata": {},
   "source": [
    " "
   ]
  },
  {
   "cell_type": "markdown",
   "id": "85cb9c67",
   "metadata": {},
   "source": [
    "Nowadays, programming is becoming an increasingly important skill needed in a\n",
    "in various fields of endeavor.\n",
    "The **Python** language, due to its simplicity and power, has become one of the **most popular** tools for learning programming among beginners and experienced developers.\n",
    "one of the **most popular** tools for learning programming among beginners and experienced developers. \n",
    "\n",
    "According to the results of the research of IBS training center in *2023*\n",
    "year **Python** became the most popular programming language in Russia. Python has the **most** job listings on Glassdoor and Indeed (global job sites).\n",
    "employment sites.)\n",
    "\n",
    "For more than five years, **Python has been one of the top three most popular languages** both in\n",
    "in both foreign and Russian rankings. Every year there are more and more people willing\n",
    "to learn this language.\n",
    "\n",
    "There are **Millions* of lines of code written in **Python**, and it is used in many different fields: web development, scientific computing, data analysis, artificial intelligence, machine learning, task automation, and much more.\n",
    "\n",
    "The most important advantage of this programming language is its **simplicity and readability**. The syntax of **Python** is simple and intuitive, due to which millions of people choose it. These same properties make it an *excellent language for beginners* and experienced programmers.\n",
    "\n",
    "Translated with DeepL.com (free version)"
   ]
  },
  {
   "cell_type": "markdown",
   "id": "4e042eb9",
   "metadata": {},
   "source": [
    "***\n",
    "### Dynamic Typing"
   ]
  },
  {
   "cell_type": "markdown",
   "id": "c7aa742f",
   "metadata": {},
   "source": [
    "A little definition:\n",
    "\n",
    "*What is a variable?*\n",
    "A variable is simply a name for some information that a program stores and uses. \n",
    "For example, if you want to store a user's age, you can create a variable named “age” and assign it a value, such as 25. You can now use that name to get or change the age in the program.â\n",
    "\n",
    "**Dynamic Typing** is when the type of a variable is determined when you assign it a value. For example, if you write a number to a variable, it becomes a number. If you write text to it, it becomes text.\n",
    "\n",
    "**Static typing** is when the type of a variable is defined when you create it. And this type does not change. If you create a variable and specify that it will contain a number, it will always contain a number, and you can't write text to it, for example.\n",
    "\n",
    "**Python** is a *dynamic typing* programming language, along with languages such as JavaScript and Ruby.\n",
    "Statically typed languages are C++, C, Java, Pascal. "
   ]
  },
  {
   "cell_type": "markdown",
   "id": "39a4e836",
   "metadata": {},
   "source": [
    "\n",
    "\n",
    "\n",
    "#### **Посмотрим на примере**\n",
    "\n",
    "Чтобы объявить переменную в Python, нам не нужно указывать ее тип, просто пишем:"
   ]
  },
  {
   "cell_type": "code",
   "execution_count": 8,
   "id": "dfbff6da",
   "metadata": {},
   "outputs": [
    {
     "data": {
      "text/plain": [
       "1"
      ]
     },
     "execution_count": 8,
     "metadata": {},
     "output_type": "execute_result"
    }
   ],
   "source": [
    "a = 1\n",
    "a #In jupyter-notebook this is just outputting the value of the variable, equivalent to print(a), i.e. we have printed the value"
   ]
  },
  {
   "cell_type": "markdown",
   "id": "271af234",
   "metadata": {},
   "source": [
    "To declare a variable in C++, Java or Pascal, we first specify the type of the variable `integer` in this case, and then write its name `a` and assign a value to it:"
   ]
  },
  {
   "cell_type": "markdown",
   "id": "8b87459f",
   "metadata": {},
   "source": [
    "```\n",
    "int a = 1;       // C++ or Java\n",
    "\n",
    "\n",
    "var:\n",
    "    a : Integer;\n",
    "...\n",
    "    a := 1;      // Pascal\n",
    "    \n",
    "```"
   ]
  },
  {
   "cell_type": "markdown",
   "id": "6784b3b4",
   "metadata": {},
   "source": [
    "How is the value of a variable stored and retrieved?\n",
    "In Python, a variable has a reference to an object in memory, but no type itself.\n",
    "\n",
    "So we can even write like this\n"
   ]
  },
  {
   "cell_type": "code",
   "execution_count": 9,
   "id": "57696b48",
   "metadata": {},
   "outputs": [],
   "source": [
    "a = 1\n",
    "a = 'rabbit'"
   ]
  },
  {
   "cell_type": "markdown",
   "id": "afeaa81d",
   "metadata": {},
   "source": [
    "1) if `a` was declared for the first time, a variable is created that references the integer `1`\n",
    "2) in this1 line, we delete the previous reference and create a new one that points to the string `rabbit`."
   ]
  },
  {
   "cell_type": "markdown",
   "id": "8de087a6",
   "metadata": {},
   "source": [
    "```\n",
    "1) a----> 1\n",
    "\n",
    "2)        1\n",
    "   a----> rabbit\n",
    "```"
   ]
  },
  {
   "cell_type": "markdown",
   "id": "ea21471c",
   "metadata": {},
   "source": [
    "Let's look at another example:"
   ]
  },
  {
   "cell_type": "code",
   "execution_count": 10,
   "id": "488bf0af",
   "metadata": {},
   "outputs": [],
   "source": [
    "a = 1\n",
    "b = a\n",
    "a = 'rabbit'"
   ]
  },
  {
   "cell_type": "markdown",
   "id": "bf8e4b61",
   "metadata": {},
   "source": [
    "1) A variable `a` is created and the reference points to `1`\n",
    "2) Variable `b` is created and it refers to the same object as `a` to `1`.\n",
    "3) Now `a` is referencing another object `rabbit` and `b` is still referencing `1`"
   ]
  },
  {
   "cell_type": "markdown",
   "id": "d6c38e38",
   "metadata": {},
   "source": [
    "```\n",
    "1)\n",
    "    a ---> 1\n",
    "\n",
    "2) \n",
    "    a ---> 1 <--- b\n",
    "   \n",
    "3) \n",
    "    b --->1\n",
    "    a ---> rabbit\n",
    "\n",
    "```"
   ]
  },
  {
   "cell_type": "markdown",
   "id": "5fbce09c",
   "metadata": {},
   "source": [
    "****\n",
    "**What is an object?**\n",
    "\n",
    "An object is like a container that holds information and methods (actions) that can be performed on it. \n",
    "For example, if we talk about a “cat” object, it can hold information about its color, age, and methods such as “purr” or “catch mice”.\n",
    "\n",
    "Objects in Python are created dynamically and are automatically managed by the garbage collector.\n",
    "\n",
    "When you assign a value to a variable, Python creates an object of the right type in memory and then associates the variable with that object. In doing so, the variable starts referencing the object in memory that contains the corresponding data.\n",
    "\n",
    "Thus, variables in Python are actually references to objects that lie in memory. It is important to note that the same object can be accessed through multiple variables, and changes made to one variable will be visible through other variables that referenced the same object.\n",
    "***"
   ]
  },
  {
   "cell_type": "markdown",
   "id": "74a5c50a",
   "metadata": {},
   "source": [
    "#### How can variables and functions be named?\n",
    "\n",
    "Names can contain letters (both lowercase and uppercase), numbers and underscores (`_`), but not spaces and cannot start with a number.\n",
    "Names are case sensitive, i.e. “foo” and “Foo” will be considered different names.\n",
    "\n",
    "#### Comments\n",
    "\n",
    "What it is. Comments are explanations that are not visible to the program, but help add explanation or notes to the code.\n",
    "\n",
    "There are two types of comments. Single-line and multi-line.\n",
    "For single-line ones use `#` before the comment, for multi-line ones use `“”\"` first and from the end."
   ]
  },
  {
   "cell_type": "code",
   "execution_count": 11,
   "id": "801a1bbb",
   "metadata": {},
   "outputs": [
    {
     "data": {
      "text/plain": [
       "5"
      ]
     },
     "execution_count": 11,
     "metadata": {},
     "output_type": "execute_result"
    }
   ],
   "source": [
    "# This is a one-line comment\n",
    "x = 5 # This is a comment on a line of code\n",
    "   \n",
    "\"\"\"\n",
    "   This is a\n",
    "   multi-line\n",
    "   comment\n",
    "\"\"\"\n",
    "x"
   ]
  },
  {
   "cell_type": "markdown",
   "id": "fe282907",
   "metadata": {},
   "source": [
    "### Basic data types and structures"
   ]
  },
  {
   "cell_type": "markdown",
   "id": "5dd8b6d2",
   "metadata": {},
   "source": [
    "***\n",
    "### Bool"
   ]
  },
  {
   "cell_type": "markdown",
   "id": "a2c47fb9",
   "metadata": {},
   "source": [
    "**Bool** is a logical variable that accepts True and False values.\n",
    "False corresponds to the number 0, and True corresponds to the number 1."
   ]
  },
  {
   "cell_type": "code",
   "execution_count": 12,
   "id": "5c22776a",
   "metadata": {},
   "outputs": [
    {
     "data": {
      "text/plain": [
       "False"
      ]
     },
     "execution_count": 12,
     "metadata": {},
     "output_type": "execute_result"
    }
   ],
   "source": [
    "a = False\n",
    "a"
   ]
  },
  {
   "cell_type": "code",
   "execution_count": 5,
   "id": "893cf19b",
   "metadata": {},
   "outputs": [
    {
     "data": {
      "text/plain": [
       "True"
      ]
     },
     "execution_count": 5,
     "metadata": {},
     "output_type": "execute_result"
    }
   ],
   "source": [
    "b = True\n",
    "b"
   ]
  },
  {
   "cell_type": "markdown",
   "id": "ff7cc5f8",
   "metadata": {},
   "source": [
    "***"
   ]
  },
  {
   "cell_type": "markdown",
   "id": "4ca79bda",
   "metadata": {},
   "source": [
    "### Int"
   ]
  },
  {
   "cell_type": "markdown",
   "id": "ae6081a1",
   "metadata": {},
   "source": [
    "**Int** is an integer.\n",
    "With numbers we can perform arithmetic operations such as:\n",
    "```\n",
    " + addition\n",
    " - subtraction\n",
    " * multiplication\n",
    " // integer division (integer part of division)\n",
    " % remainder of division\n",
    " ** division\n",
    "```"
   ]
  },
  {
   "cell_type": "code",
   "execution_count": 13,
   "id": "f0ecebf7",
   "metadata": {},
   "outputs": [
    {
     "data": {
      "text/plain": [
       "17"
      ]
     },
     "execution_count": 13,
     "metadata": {},
     "output_type": "execute_result"
    }
   ],
   "source": [
    "a = 12\n",
    "b = 5\n",
    "\n",
    "a + b"
   ]
  },
  {
   "cell_type": "code",
   "execution_count": 14,
   "id": "94b48a28",
   "metadata": {},
   "outputs": [
    {
     "data": {
      "text/plain": [
       "7"
      ]
     },
     "execution_count": 14,
     "metadata": {},
     "output_type": "execute_result"
    }
   ],
   "source": [
    "a - b"
   ]
  },
  {
   "cell_type": "code",
   "execution_count": 15,
   "id": "80071d99",
   "metadata": {},
   "outputs": [
    {
     "data": {
      "text/plain": [
       "60"
      ]
     },
     "execution_count": 15,
     "metadata": {},
     "output_type": "execute_result"
    }
   ],
   "source": [
    "a * b"
   ]
  },
  {
   "cell_type": "code",
   "execution_count": 16,
   "id": "79f5e858",
   "metadata": {},
   "outputs": [
    {
     "data": {
      "text/plain": [
       "2"
      ]
     },
     "execution_count": 16,
     "metadata": {},
     "output_type": "execute_result"
    }
   ],
   "source": [
    "a // b"
   ]
  },
  {
   "cell_type": "code",
   "execution_count": 17,
   "id": "dbb91add",
   "metadata": {},
   "outputs": [
    {
     "data": {
      "text/plain": [
       "2"
      ]
     },
     "execution_count": 17,
     "metadata": {},
     "output_type": "execute_result"
    }
   ],
   "source": [
    "a % b"
   ]
  },
  {
   "cell_type": "code",
   "execution_count": 18,
   "id": "42930982",
   "metadata": {},
   "outputs": [
    {
     "data": {
      "text/plain": [
       "248832"
      ]
     },
     "execution_count": 18,
     "metadata": {},
     "output_type": "execute_result"
    }
   ],
   "source": [
    "a ** b"
   ]
  },
  {
   "cell_type": "markdown",
   "id": "8e326680",
   "metadata": {},
   "source": [
    "В переменные можно записывать арифметические выражения и изменять переменную"
   ]
  },
  {
   "cell_type": "code",
   "execution_count": 19,
   "id": "5572bd79",
   "metadata": {},
   "outputs": [
    {
     "data": {
      "text/plain": [
       "(21, 5)"
      ]
     },
     "execution_count": 19,
     "metadata": {},
     "output_type": "execute_result"
    }
   ],
   "source": [
    "a = 8 + 4\n",
    "b = a - 7\n",
    "\n",
    "b = b + 1\n",
    "b += 1       #These two lines do the same thing\n",
    "\n",
    "#In the same way we can apply and reduce other operations\n",
    "a *= b\n",
    "b -= 2\n",
    "a //= b - 1\n",
    "\n",
    "(a, b)"
   ]
  },
  {
   "cell_type": "code",
   "execution_count": 20,
   "id": "a200842c",
   "metadata": {},
   "outputs": [
    {
     "data": {
      "text/plain": [
       "3"
      ]
     },
     "execution_count": 20,
     "metadata": {},
     "output_type": "execute_result"
    }
   ],
   "source": [
    "# Note that the remainder is always positive \n",
    "a = -2\n",
    "b = 5\n",
    "\n",
    "a % b"
   ]
  },
  {
   "cell_type": "markdown",
   "id": "127cc714",
   "metadata": {},
   "source": [
    "We can also work with numbers in different number systems\n",
    "\n",
    "**Binary number system**:\n",
    "\n",
    "To declare a number in the binary system, the prefix `0b` is used.\n",
    "\n",
    "To convert a number from decimal to binary, we can use the `bin()` function.\n",
    "\n",
    "**Ectal number system**:\n",
    "\n",
    "To declare a number in the octal system, the prefix `0o` is used. \n",
    "\n",
    "The `oct()` function can be used to convert a number from decimal to octal.\n",
    "\n",
    "**Hexadecimal number system**:\n",
    "\n",
    "To declare a number in hexadecimal, the prefix `0x` is used.\n",
    "\n",
    "You can use the `hex()` function to convert a number from decimal to hexadecimal."
   ]
  },
  {
   "cell_type": "code",
   "execution_count": 21,
   "id": "4ced577b",
   "metadata": {},
   "outputs": [
    {
     "data": {
      "text/plain": [
       "(10, '0b1010')"
      ]
     },
     "execution_count": 21,
     "metadata": {},
     "output_type": "execute_result"
    }
   ],
   "source": [
    "# Binary system\n",
    "bin_num = 0b1010\n",
    "binary_num = bin(10)\n",
    "\n",
    "(bin_num, binary_num)"
   ]
  },
  {
   "cell_type": "code",
   "execution_count": 22,
   "id": "e854ba12",
   "metadata": {},
   "outputs": [
    {
     "data": {
      "text/plain": [
       "(10, '0o12')"
      ]
     },
     "execution_count": 22,
     "metadata": {},
     "output_type": "execute_result"
    }
   ],
   "source": [
    "#The octal system\n",
    "oct_num = 0o12\n",
    "octal_num = oct(10)\n",
    "\n",
    "(oct_num, octal_num)"
   ]
  },
  {
   "cell_type": "code",
   "execution_count": 23,
   "id": "c103db5a",
   "metadata": {},
   "outputs": [
    {
     "data": {
      "text/plain": [
       "(10, '0xa')"
      ]
     },
     "execution_count": 23,
     "metadata": {},
     "output_type": "execute_result"
    }
   ],
   "source": [
    "# Hexadecimal system\n",
    "hex_num = 0xA\n",
    "hexadecimal_num = hex(10)\n",
    "\n",
    "(hex_num, hexadecimal_num)"
   ]
  },
  {
   "cell_type": "markdown",
   "id": "ed52c0fa",
   "metadata": {},
   "source": [
    "That said, if you need to work with numbers in other number systems, you can use conversion methods such as `int('1010', 3)` to convert a string to a number in ternary or `int('A', 15)` to convert a string to a number in fifteen-character."
   ]
  },
  {
   "cell_type": "code",
   "execution_count": 17,
   "id": "c5944b4c",
   "metadata": {},
   "outputs": [
    {
     "data": {
      "text/plain": [
       "(30, 10)"
      ]
     },
     "execution_count": 17,
     "metadata": {},
     "output_type": "execute_result"
    }
   ],
   "source": [
    "th_num = int('1010', 3)\n",
    "fv_num = int('A', 15)\n",
    "\n",
    "(th_num, fv_num)"
   ]
  },
  {
   "cell_type": "markdown",
   "id": "9ebdd950",
   "metadata": {},
   "source": [
    "***"
   ]
  },
  {
   "cell_type": "markdown",
   "id": "8172ba57",
   "metadata": {},
   "source": [
    "### Float"
   ]
  },
  {
   "cell_type": "markdown",
   "id": "edd82b38",
   "metadata": {},
   "source": [
    "**Float** is a floating point number. Float has a number storage structure very different from integer type numbers.\n",
    "\n",
    "The structure of a floating point number consists of the following parts:\n",
    "+ mantissa sign ``s` (indicates whether the number is negative or positive),\n",
    "+ mantissa `m` (expresses the value of the number without regard to order),\n",
    "+ order sign `sp`,\n",
    "+ order `p` (expresses the degree of the base of the number by which the mantissa is multiplied, often it is exp).\n",
    "\n",
    " The formula is roughly **$$$(-1)^smb^{sp*exp},$$$** write only the mantissa and the exponent of the degree, separating them with the letter “E” (from the English exponent). The base is implicitly assumed to be 10. For example, the number 1,528535047⋅10-25 in this case is written as 1.528535047E-25.\n",
    " \n",
    " For real numbers, the division operation `/` also appears."
   ]
  },
  {
   "cell_type": "code",
   "execution_count": 24,
   "id": "42acd375",
   "metadata": {},
   "outputs": [
    {
     "data": {
      "text/plain": [
       "2.02"
      ]
     },
     "execution_count": 24,
     "metadata": {},
     "output_type": "execute_result"
    }
   ],
   "source": [
    "# Declare variables of type float\n",
    "a = 5.05\n",
    "b = 2.5\n",
    "\n",
    "a / b"
   ]
  },
  {
   "cell_type": "code",
   "execution_count": 25,
   "id": "88f4c290",
   "metadata": {},
   "outputs": [
    {
     "data": {
      "text/plain": [
       "1.01"
      ]
     },
     "execution_count": 25,
     "metadata": {},
     "output_type": "execute_result"
    }
   ],
   "source": [
    "# But! We can also divide by integers\n",
    "a = 5.05\n",
    "b = 5\n",
    "\n",
    "a / b\n",
    "# float / int = float"
   ]
  },
  {
   "cell_type": "code",
   "execution_count": 26,
   "id": "04f6e7c1",
   "metadata": {},
   "outputs": [
    {
     "data": {
      "text/plain": [
       "2.0"
      ]
     },
     "execution_count": 26,
     "metadata": {},
     "output_type": "execute_result"
    }
   ],
   "source": [
    "a = 5\n",
    "b = 2.5\n",
    "\n",
    "a / b\n",
    "# int / float = float"
   ]
  },
  {
   "cell_type": "code",
   "execution_count": 27,
   "id": "072a304f",
   "metadata": {},
   "outputs": [
    {
     "data": {
      "text/plain": [
       "1.6666666666666667"
      ]
     },
     "execution_count": 27,
     "metadata": {},
     "output_type": "execute_result"
    }
   ],
   "source": [
    "a = 5\n",
    "b = 3\n",
    "\n",
    "a / b\n",
    "# int / int = float"
   ]
  },
  {
   "cell_type": "code",
   "execution_count": 28,
   "id": "81570833",
   "metadata": {},
   "outputs": [
    {
     "data": {
      "text/plain": [
       "2.5"
      ]
     },
     "execution_count": 28,
     "metadata": {},
     "output_type": "execute_result"
    }
   ],
   "source": [
    "# We can do the same with division\n",
    "a /= 2\n",
    "\n",
    "a"
   ]
  },
  {
   "cell_type": "code",
   "execution_count": 29,
   "id": "b48f3bd1",
   "metadata": {
    "scrolled": true
   },
   "outputs": [
    {
     "data": {
      "text/plain": [
       "15.588457268119896"
      ]
     },
     "execution_count": 29,
     "metadata": {},
     "output_type": "execute_result"
    }
   ],
   "source": [
    "# Degree expansion for float is defined as well\n",
    "b **= a\n",
    "\n",
    "b"
   ]
  },
  {
   "cell_type": "code",
   "execution_count": 30,
   "id": "44c2d536",
   "metadata": {},
   "outputs": [
    {
     "data": {
      "text/plain": [
       "(6.25, 39.42207090883399)"
      ]
     },
     "execution_count": 30,
     "metadata": {},
     "output_type": "execute_result"
    }
   ],
   "source": [
    "a = 2.5\n",
    "b = 2\n",
    "c = 4.01\n",
    "\n",
    "(a ** 2, a ** c)"
   ]
  },
  {
   "cell_type": "markdown",
   "id": "c33cb98a",
   "metadata": {},
   "source": [
    "***\n",
    "### List"
   ]
  },
  {
   "cell_type": "markdown",
   "id": "d721d65a",
   "metadata": {},
   "source": [
    "**List** - a list (dynamic array), a sequence of elements. Each element of the list has its own index number. Indexing in Python starts from zero, negative indexes are also used. Also elements can be of different types. \n",
    "\n",
    "You can initialize a list using square brackets, you can also create it empty and fill it later, modify it, etc."
   ]
  },
  {
   "cell_type": "code",
   "execution_count": 31,
   "id": "35950d4c",
   "metadata": {},
   "outputs": [
    {
     "data": {
      "text/plain": [
       "[1, 3.4, 3, 'rabbit']"
      ]
     },
     "execution_count": 31,
     "metadata": {},
     "output_type": "execute_result"
    }
   ],
   "source": [
    "a = 3.4\n",
    "lst = [1, a, 3, 'rabbit']\n",
    "\n",
    "# Create empty lists\n",
    "lst2 = list()\n",
    "lst3 = []\n",
    "\n",
    "lst"
   ]
  },
  {
   "cell_type": "markdown",
   "id": "302f7f49",
   "metadata": {},
   "source": [
    "Now let's see how indexing works."
   ]
  },
  {
   "cell_type": "code",
   "execution_count": 32,
   "id": "b9c90b4b",
   "metadata": {},
   "outputs": [
    {
     "data": {
      "text/plain": [
       "1"
      ]
     },
     "execution_count": 32,
     "metadata": {},
     "output_type": "execute_result"
    }
   ],
   "source": [
    "lst[0] # Print the zero element"
   ]
  },
  {
   "cell_type": "code",
   "execution_count": 33,
   "id": "0cbb415e",
   "metadata": {},
   "outputs": [
    {
     "data": {
      "text/plain": [
       "'rabbit'"
      ]
     },
     "execution_count": 33,
     "metadata": {},
     "output_type": "execute_result"
    }
   ],
   "source": [
    "lst[-1] # Print the last element"
   ]
  },
  {
   "cell_type": "code",
   "execution_count": 34,
   "id": "d0cb31cb",
   "metadata": {},
   "outputs": [
    {
     "data": {
      "text/plain": [
       "(3.4, 3.4)"
      ]
     },
     "execution_count": 34,
     "metadata": {},
     "output_type": "execute_result"
    }
   ],
   "source": [
    "# Let's look at the first and minus the third element\n",
    "# What do they equal?\n",
    "(lst[1], lst[-3])"
   ]
  },
  {
   "cell_type": "markdown",
   "id": "547e88aa",
   "metadata": {},
   "source": [
    "If we want to change a particular element, we can refer to it by index and assign a new value to it. For example:"
   ]
  },
  {
   "cell_type": "code",
   "execution_count": 35,
   "id": "15ce9ebc",
   "metadata": {},
   "outputs": [
    {
     "data": {
      "text/plain": [
       "[1, 3.4, 3, 175]"
      ]
     },
     "execution_count": 35,
     "metadata": {},
     "output_type": "execute_result"
    }
   ],
   "source": [
    "b = 175\n",
    "lst[3] = b\n",
    "\n",
    "lst"
   ]
  },
  {
   "cell_type": "markdown",
   "id": "ac6e13ea",
   "metadata": {},
   "source": [
    "To add an item, you need to apply the `append()` method. It will add the element to the end of the list and increment it."
   ]
  },
  {
   "cell_type": "code",
   "execution_count": 36,
   "id": "a9776a64",
   "metadata": {},
   "outputs": [
    {
     "data": {
      "text/plain": [
       "[1, 3.4, 3, 175, 0]"
      ]
     },
     "execution_count": 36,
     "metadata": {},
     "output_type": "execute_result"
    }
   ],
   "source": [
    "lst.append(0) # Adds 0 to the end\n",
    "\n",
    "lst"
   ]
  },
  {
   "cell_type": "markdown",
   "id": "67a7b5a0",
   "metadata": {},
   "source": [
    "When working with lists, we often need to know its length using the `len()` function"
   ]
  },
  {
   "cell_type": "code",
   "execution_count": 37,
   "id": "989cbc05",
   "metadata": {},
   "outputs": [
    {
     "data": {
      "text/plain": [
       "5"
      ]
     },
     "execution_count": 37,
     "metadata": {},
     "output_type": "execute_result"
    }
   ],
   "source": [
    "len(lst)"
   ]
  },
  {
   "cell_type": "code",
   "execution_count": 38,
   "id": "77cef55e",
   "metadata": {},
   "outputs": [
    {
     "data": {
      "text/plain": [
       "7"
      ]
     },
     "execution_count": 38,
     "metadata": {},
     "output_type": "execute_result"
    }
   ],
   "source": [
    "# Now let's add a couple more elements\n",
    "a = [1, a, 4]\n",
    "lst.append(a)\n",
    "lst.append(b)\n",
    "\n",
    "# What will be its length now?\n",
    "len(lst)"
   ]
  },
  {
   "cell_type": "code",
   "execution_count": 39,
   "id": "a9682ed2",
   "metadata": {},
   "outputs": [
    {
     "data": {
      "text/plain": [
       "[1, 3.4, 3, 175, 0, [1, 3.4, 4], 175]"
      ]
     },
     "execution_count": 39,
     "metadata": {},
     "output_type": "execute_result"
    }
   ],
   "source": [
    "# Let's print out lst and see how it's changed\n",
    "lst"
   ]
  },
  {
   "cell_type": "markdown",
   "id": "85ec5c6c",
   "metadata": {},
   "source": [
    "There's a lot more you can do with lists, but we'll talk about that in the next lecture"
   ]
  },
  {
   "cell_type": "markdown",
   "id": "b28df814",
   "metadata": {},
   "source": [
    "***\n",
    "### Str"
   ]
  },
  {
   "cell_type": "markdown",
   "id": "319b7bea",
   "metadata": {},
   "source": [
    "**Str (string)** is a string. To write it, it must be in single `'` or double quotes `\"`."
   ]
  },
  {
   "cell_type": "code",
   "execution_count": 40,
   "id": "4c9b370b",
   "metadata": {},
   "outputs": [
    {
     "data": {
      "text/plain": [
       "('1234', 'rabbit 5')"
      ]
     },
     "execution_count": 40,
     "metadata": {},
     "output_type": "execute_result"
    }
   ],
   "source": [
    "s = '1234'\n",
    "str = \"rabbit 5\"\n",
    "\n",
    "(s, str)"
   ]
  },
  {
   "cell_type": "markdown",
   "id": "7f2f6ea6",
   "metadata": {},
   "source": [
    "Strings can be represented as a list of characters, they have the same indexing as lists."
   ]
  },
  {
   "cell_type": "code",
   "execution_count": 41,
   "id": "8d543285",
   "metadata": {},
   "outputs": [
    {
     "data": {
      "text/plain": [
       "'b'"
      ]
     },
     "execution_count": 41,
     "metadata": {},
     "output_type": "execute_result"
    }
   ],
   "source": [
    "a = str[2]\n",
    "\n",
    "a"
   ]
  },
  {
   "cell_type": "code",
   "execution_count": 42,
   "id": "f79cddfb",
   "metadata": {},
   "outputs": [
    {
     "data": {
      "text/plain": [
       "' '"
      ]
     },
     "execution_count": 42,
     "metadata": {},
     "output_type": "execute_result"
    }
   ],
   "source": [
    "b = str[-2]\n",
    "\n",
    "b"
   ]
  },
  {
   "cell_type": "markdown",
   "id": "b722b6ed",
   "metadata": {},
   "source": [
    "We will also talk more about strings at the next lecture."
   ]
  },
  {
   "cell_type": "markdown",
   "id": "1617f62c",
   "metadata": {},
   "source": [
    "***\n",
    "### Tuple"
   ]
  },
  {
   "cell_type": "markdown",
   "id": "b6434e07",
   "metadata": {},
   "source": [
    "**Tuple** - tuple. It is also similar to a list, but neither elements nor length can be changed in a tuple.\n",
    "\n",
    "To initialize a tuple, you must write the elements in parentheses."
   ]
  },
  {
   "cell_type": "code",
   "execution_count": 43,
   "id": "e418d73a",
   "metadata": {},
   "outputs": [
    {
     "data": {
      "text/plain": [
       "('b', 2, 4.01)"
      ]
     },
     "execution_count": 43,
     "metadata": {},
     "output_type": "execute_result"
    }
   ],
   "source": [
    "tpl = (a, 2, c) # Tuples can also contain elements of different types\n",
    "tpl"
   ]
  },
  {
   "cell_type": "markdown",
   "id": "8f172a74",
   "metadata": {},
   "source": [
    "Note that a tuple may contain elements of a variable type."
   ]
  },
  {
   "cell_type": "code",
   "execution_count": 44,
   "id": "db53b2ad",
   "metadata": {},
   "outputs": [
    {
     "data": {
      "text/plain": [
       "(1, [1, 2], 5.0)"
      ]
     },
     "execution_count": 44,
     "metadata": {},
     "output_type": "execute_result"
    }
   ],
   "source": [
    "a = [1, 2]\n",
    "tpl = (1, a, 5.0)\n",
    "\n",
    "tpl"
   ]
  },
  {
   "cell_type": "markdown",
   "id": "5538e3c3",
   "metadata": {},
   "source": [
    "We can modify the array `a` by accessing it directly, but not modify the tuple element. Let's look at an example:"
   ]
  },
  {
   "cell_type": "code",
   "execution_count": 45,
   "id": "fb0b90ec",
   "metadata": {},
   "outputs": [
    {
     "data": {
      "text/plain": [
       "(1, ['2', 2], 5.0)"
      ]
     },
     "execution_count": 45,
     "metadata": {},
     "output_type": "execute_result"
    }
   ],
   "source": [
    "a[0] = '2' # changed the list of a\n",
    "\n",
    "tpl"
   ]
  },
  {
   "cell_type": "code",
   "execution_count": 46,
   "id": "784cfffc",
   "metadata": {},
   "outputs": [
    {
     "ename": "TypeError",
     "evalue": "'tuple' object does not support item assignment",
     "output_type": "error",
     "traceback": [
      "\u001b[1;31m---------------------------------------------------------------------------\u001b[0m",
      "\u001b[1;31mTypeError\u001b[0m                                 Traceback (most recent call last)",
      "Cell \u001b[1;32mIn [46], line 2\u001b[0m\n\u001b[0;32m      1\u001b[0m \u001b[38;5;66;03m# Now let's try to change the tuple element\u001b[39;00m\n\u001b[1;32m----> 2\u001b[0m \u001b[43mtpl\u001b[49m\u001b[43m[\u001b[49m\u001b[38;5;241;43m1\u001b[39;49m\u001b[43m]\u001b[49m \u001b[38;5;241m=\u001b[39m \u001b[38;5;241m3\u001b[39m\n",
      "\u001b[1;31mTypeError\u001b[0m: 'tuple' object does not support item assignment"
     ]
    }
   ],
   "source": [
    "# Now let's try to change the tuple element\n",
    "tpl[1] = 3"
   ]
  },
  {
   "cell_type": "markdown",
   "id": "65fd0c73",
   "metadata": {},
   "source": [
    "We got an error trying to change the tuple elements, but we can still access the tuple elements and recognize their values."
   ]
  },
  {
   "cell_type": "code",
   "execution_count": 47,
   "id": "a36e36cd",
   "metadata": {},
   "outputs": [
    {
     "data": {
      "text/plain": [
       "5.0"
      ]
     },
     "execution_count": 47,
     "metadata": {},
     "output_type": "execute_result"
    }
   ],
   "source": [
    "b = tpl[-1]\n",
    "\n",
    "b"
   ]
  },
  {
   "cell_type": "code",
   "execution_count": 48,
   "id": "c2d09152",
   "metadata": {},
   "outputs": [
    {
     "data": {
      "text/plain": [
       "3"
      ]
     },
     "execution_count": 48,
     "metadata": {},
     "output_type": "execute_result"
    }
   ],
   "source": [
    "# We can also find out the length using the len() function\n",
    "len(tpl)"
   ]
  },
  {
   "cell_type": "markdown",
   "id": "dff7c75d",
   "metadata": {},
   "source": [
    "***\n",
    "### Other types"
   ]
  },
  {
   "cell_type": "markdown",
   "id": "3bad2e52",
   "metadata": {},
   "source": [
    "We've only explored a small fraction of the data types available in Python. The Python standard library and third-party libraries offer even more data types and data structures for different tasks and use cases: dictionaries, sets, functions, classes, files, modules, exseptions, etc. Python is known for its extensive and flexible ecosystem, which provides a variety of tools and features for developers."
   ]
  },
  {
   "cell_type": "markdown",
   "id": "130e1cc9",
   "metadata": {},
   "source": [
    "***\n",
    "### Type conversion"
   ]
  },
  {
   "cell_type": "markdown",
   "id": "3d6afef7",
   "metadata": {},
   "source": [
    "We already know a few different types of data, but we would like to be able to cast one into another. For example: `5.0` (float) -> `5` (int) or `'22` (str) -> `22` (int)\n",
    "\n",
    "There are certain functions for this purpose:\n",
    "+ bool() \\- to a logical type\n",
    "+ int() \\- to integer type\n",
    "+ float() \\- to a real number\n",
    "+ list() \\- to a list\n",
    "+ string() \\- to a string\n",
    "+ tuple() to a tuple.\n",
    "\n",
    "These functions can also be used if we want to initialize a variable with a certain type. For example: `float(5)` -> the variable will be of type `float`, not `int`."
   ]
  },
  {
   "cell_type": "code",
   "execution_count": 51,
   "id": "b78638a0",
   "metadata": {},
   "outputs": [
    {
     "data": {
      "text/plain": [
       "(5.6, 6, ['1', '2', '3', '4'], ('c', 'd'), False)"
      ]
     },
     "execution_count": 51,
     "metadata": {},
     "output_type": "execute_result"
    }
   ],
   "source": [
    "fl = float(5.6)\n",
    "integer = int('6')\n",
    "lst = list('1234')\n",
    "tpl = tuple('cd')\n",
    "f = bool(0)\n",
    "\n",
    "(fl, integer, lst, tpl, f)"
   ]
  },
  {
   "cell_type": "markdown",
   "id": "c7d5ffe9",
   "metadata": {},
   "source": [
    "    But not every type can be converted to a different type. For example, there will be an error in every line of code below:"
   ]
  },
  {
   "cell_type": "code",
   "execution_count": null,
   "id": "ab452fca",
   "metadata": {},
   "outputs": [],
   "source": [
    "int('cc')\n",
    "float('foo')\n",
    "float('0,55')\n",
    "list(1123)"
   ]
  },
  {
   "cell_type": "markdown",
   "id": "2ce94d34",
   "metadata": {},
   "source": [
    "To find out the type of a variable, you need to use the `type()` function"
   ]
  },
  {
   "cell_type": "code",
   "execution_count": 52,
   "id": "f42c44b3",
   "metadata": {},
   "outputs": [
    {
     "data": {
      "text/plain": [
       "(float, int, list)"
      ]
     },
     "execution_count": 52,
     "metadata": {},
     "output_type": "execute_result"
    }
   ],
   "source": [
    "(type(fl), type(integer), type(lst))"
   ]
  },
  {
   "cell_type": "markdown",
   "id": "b0a81c0f",
   "metadata": {},
   "source": [
    "***\n",
    "### Input and output"
   ]
  },
  {
   "cell_type": "markdown",
   "id": "eb6bb8cd",
   "metadata": {},
   "source": [
    "Throughout today's lecture we've been using the jupyter-notebook features and outputting the value by simply writing the variable name at the bottom, but in integrated development environments (and in home tasks) we need to output and retrieve data. Let's learn how to do that!\n",
    "\n",
    "Let's familiarize ourselves with inputting and outputting data via the console, also called the manual method. \n",
    "\n",
    "`input()` \\- gets the *string* that you have entered \n",
    "\n",
    "`print()` {- prints what you pass in"
   ]
  },
  {
   "cell_type": "markdown",
   "id": "062ab3dc",
   "metadata": {},
   "source": [
    "`input('Here you can write the text the user will see before typing')`"
   ]
  },
  {
   "cell_type": "code",
   "execution_count": 53,
   "id": "dc01bc43",
   "metadata": {},
   "outputs": [
    {
     "name": "stdout",
     "output_type": "stream",
     "text": [
      "Enter a number 5\n",
      "<class 'str'>\n"
     ]
    }
   ],
   "source": [
    "a = input('Enter a number ')\n",
    "print(type(a))"
   ]
  },
  {
   "cell_type": "markdown",
   "id": "38dc3c29",
   "metadata": {},
   "source": [
    "We have entered a number, but the `input()` function returns a value of type `str`, and to use the entered number as `int`, we need to convert it to the correct type."
   ]
  },
  {
   "cell_type": "code",
   "execution_count": 54,
   "id": "ac648648",
   "metadata": {},
   "outputs": [
    {
     "name": "stdout",
     "output_type": "stream",
     "text": [
      "<class 'int'>\n"
     ]
    }
   ],
   "source": [
    "a = int(a)\n",
    "print(type(a))"
   ]
  },
  {
   "cell_type": "markdown",
   "id": "87a630c8",
   "metadata": {},
   "source": [
    "What if there are several numbers in one line? \n",
    "We use the `split()` method. It splits the string by the “delimiter” passed inside the brackets. "
   ]
  },
  {
   "cell_type": "code",
   "execution_count": 55,
   "id": "e1265cb4",
   "metadata": {},
   "outputs": [
    {
     "name": "stdout",
     "output_type": "stream",
     "text": [
      "4 5\n",
      "4\n",
      "5\n"
     ]
    }
   ],
   "source": [
    "a, b = input().split(' ') # The separator here is a space.\n",
    "print(a)\n",
    "print(b)"
   ]
  },
  {
   "cell_type": "markdown",
   "id": "9df6e3ef",
   "metadata": {},
   "source": [
    "But let's also look at the type of `a` and `b`"
   ]
  },
  {
   "cell_type": "code",
   "execution_count": 56,
   "id": "ecb7f221",
   "metadata": {},
   "outputs": [
    {
     "name": "stdout",
     "output_type": "stream",
     "text": [
      "<class 'str'>\n",
      "<class 'str'>\n"
     ]
    }
   ],
   "source": [
    "print(type(a))\n",
    "print(type(b))"
   ]
  },
  {
   "cell_type": "markdown",
   "id": "dd2decc6",
   "metadata": {},
   "source": [
    "Is there any way to apply the conversion to `int` for example, to all numbers from the input at once?\n",
    "\n",
    "\\- Yes, you can. To do this, use the `map()` function, which will apply the function to the passed object"
   ]
  },
  {
   "cell_type": "code",
   "execution_count": 57,
   "id": "e9361dcd",
   "metadata": {},
   "outputs": [
    {
     "name": "stdout",
     "output_type": "stream",
     "text": [
      "4 5\n",
      "(4, <class 'int'>)\n",
      "(5, <class 'int'>)\n"
     ]
    }
   ],
   "source": [
    "s = input().split(' ')\n",
    "a, b = map(int, s)\n",
    "\n",
    "# or map(int, input().split(' ')) \n",
    "\n",
    "print((a, type(a)))\n",
    "print((b, type(b)))"
   ]
  },
  {
   "cell_type": "markdown",
   "id": "db8b2ac4",
   "metadata": {},
   "source": [
    "However, if we need to write all the transferred numbers in a sheet, what do we do?"
   ]
  },
  {
   "cell_type": "code",
   "execution_count": 58,
   "id": "ec055968",
   "metadata": {},
   "outputs": [
    {
     "name": "stdout",
     "output_type": "stream",
     "text": [
      "1 2 3 5\n",
      "[1, 2, 3, 5]\n"
     ]
    }
   ],
   "source": [
    "lst = list(map(int, input().split(' ')))\n",
    "print(lst)"
   ]
  },
  {
   "cell_type": "markdown",
   "id": "05aa313b",
   "metadata": {},
   "source": [
    "Now let's talk a bit about the `print()` function.\n",
    "Various variables, expressions, numbers, strings, etc. can be passed to the function, and it will print them on one line separated by commas, and the next input will start on a new line."
   ]
  },
  {
   "cell_type": "code",
   "execution_count": 59,
   "id": "2fc8b0d2",
   "metadata": {},
   "outputs": [
    {
     "name": "stdout",
     "output_type": "stream",
     "text": [
      "4 <class 'int'>\n",
      "4  +  5  =  9\n"
     ]
    }
   ],
   "source": [
    "print(a, type(a))\n",
    "print(a, ' + ', b, ' = ', a + b)"
   ]
  },
  {
   "cell_type": "markdown",
   "id": "984471e5",
   "metadata": {},
   "source": [
    "The `print()` function has several parameters:\n",
    "+ sep \\- separator\n",
    "+ end \\- the end of the output.\n",
    "\n",
    "I.e., the regular function `print(a)` is the same as \n",
    "\n",
    "`print(a, sep=' ', end='n'` \n",
    "\n",
    "`'\\n'` is a character to indicate a new line.\n",
    "\n",
    "For example: if we want to write a comma-delimited shopping list, we just need to specify the parameter `sep=','`."
   ]
  },
  {
   "cell_type": "code",
   "execution_count": 60,
   "id": "2078a302",
   "metadata": {},
   "outputs": [
    {
     "name": "stdout",
     "output_type": "stream",
     "text": [
      "Milk, eggs, bread!\n"
     ]
    }
   ],
   "source": [
    "a = 'Milk'\n",
    "b = 'eggs'\n",
    "c = 'bread'\n",
    "print(a, b, c, sep=', ', end='!\\n')"
   ]
  },
  {
   "cell_type": "markdown",
   "id": "1c973d4a",
   "metadata": {},
   "source": [
    "For lists there is a cool feature, if you write `*` before the list, then all the contents of the sheet will be printed over a space."
   ]
  },
  {
   "cell_type": "code",
   "execution_count": 61,
   "id": "92c02459",
   "metadata": {},
   "outputs": [
    {
     "name": "stdout",
     "output_type": "stream",
     "text": [
      "1 2 3 5\n"
     ]
    }
   ],
   "source": [
    "print(*lst)"
   ]
  },
  {
   "cell_type": "markdown",
   "id": "76b54a55",
   "metadata": {},
   "source": [
    "***\n",
    "### Conclusion"
   ]
  },
  {
   "cell_type": "markdown",
   "id": "7f48ac84",
   "metadata": {},
   "source": [
    "In today's lecture we:\n",
    "+ answered the question, “What is the Python API?”\n",
    "+ talked about Dynamic Typing\n",
    "+ learned “What is a variable and an object”.\n",
    "+ learned about basic types and data structures\n",
    "+ learned how to cast types\n",
    "+ learned how to input and output data"
   ]
  }
 ],
 "metadata": {
  "kernelspec": {
   "display_name": "Python 3 (ipykernel)",
   "language": "python",
   "name": "python3"
  },
  "language_info": {
   "codemirror_mode": {
    "name": "ipython",
    "version": 3
   },
   "file_extension": ".py",
   "mimetype": "text/x-python",
   "name": "python",
   "nbconvert_exporter": "python",
   "pygments_lexer": "ipython3",
   "version": "3.10.11"
  }
 },
 "nbformat": 4,
 "nbformat_minor": 5
}
