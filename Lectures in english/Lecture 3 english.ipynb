{
 "cells": [
  {
   "cell_type": "markdown",
   "id": "be5cdaff",
   "metadata": {},
   "source": [
    "## Lecture 3"
   ]
  },
  {
   "cell_type": "markdown",
   "id": "ff90dbe6",
   "metadata": {},
   "source": [
    "***\n",
    "### Local and global variables"
   ]
  },
  {
   "cell_type": "markdown",
   "id": "d07d8e76",
   "metadata": {},
   "source": [
    "**Local and global variables** are ways of storing data in a program, but they have different scopes and accesses.\n",
    "\n",
    "**Local variables** are variables that are defined within a specific scope, such as a function or code block. They exist only within that scope and are only accessible within that scope.\n",
    "\n",
    "**Global variables** are variables that are defined in the main body of the program. They are accessible from any part of the program, including functions.\n"
   ]
  },
  {
   "cell_type": "markdown",
   "id": "08ed35d3",
   "metadata": {},
   "source": [
    "Each variable has its own lifetime. It lives from the moment it is created until the end of the block.\n",
    "\n",
    "A block of code in Python is separated by tabs, and local variables live in this block."
   ]
  },
  {
   "cell_type": "code",
   "execution_count": null,
   "id": "70694d0f",
   "metadata": {},
   "outputs": [],
   "source": [
    "a = 5 # global variable\n",
    "s = 'str' # global variable\n",
    "# variables a, str are created and will live until the end of the program,\n",
    "# and we can refer to them in any part of the code.\n",
    "\n",
    "for i in range(1, 10):\n",
    "    # the for loop has started\n",
    "    # i is created - it is a local variable for this loop\n",
    "    \n",
    "    b = 3 # local variable\n",
    "    \n",
    "    if i % 2 == 0:\n",
    "        # the if block has started\n",
    "        c = a # the local variable for if has been created\n",
    "        \n",
    "        # end of the if block\n",
    "        # after this line c will die and cannot be accessed.\n",
    "    else:\n",
    "        # the block started else\n",
    "        c = s # a variable local to else has been created\n",
    "        \n",
    "        # end of block else\n",
    "        # after this line c will die and cannot be accessed.\n",
    "    \n",
    "    #print(c) - will print an error because the program does not know the variable c\n",
    "    \n",
    "    print(s, b)\n",
    "    \n",
    "    # end of the for block\n",
    "    # after this line b and i will die\n",
    "print(s, a)\n",
    "# end of program\n",
    "# all global variables will be killed here, i.e. s and a"
   ]
  },
  {
   "cell_type": "markdown",
   "id": "5f8b71a6",
   "metadata": {},
   "source": [
    "***\n",
    "### Functions"
   ]
  },
  {
   "cell_type": "markdown",
   "id": "0dd77c5d",
   "metadata": {},
   "source": [
    "**Function** is a piece of code that performs a specific task or action. It allows you to perform some operation using certain input data (arguments) and returns the result.\n",
    "\n",
    "If, for example, you need to calculate the same formula many times in different places in the code, you can take out the finding of this formula, and in the right places just call it with the necessary arguments. \n",
    "\n",
    "**What does a function consist of?\n",
    "```\n",
    "def function_name(function arguments separated by commas):\n",
    "    ...\n",
    "    function body\n",
    "    ...\n",
    "    return_value\n",
    "```\n",
    "\n",
    "**Arguments** of a function are the data you pass to the function to perform an operation.\n",
    "\n",
    "**Function Body** is the block of code that performs a specific task.\n",
    "\n",
    "**Return Value** is what the function will return after the operation is performed.\n",
    "\n",
    "**Function Parameters** are the variable names you use in the function definition to manipulate the data (arguments) passed to the function.\n",
    "\n",
    "**Function call** is the place in the code where you use the function name and pass values for the arguments.\n",
    "\n",
    "Let's look at an example:\n",
    "In different parts of the program, we are constantly counting the sum of the squares of two numbers. Let's write a function and call it.\n"
   ]
  },
  {
   "cell_type": "code",
   "execution_count": 1,
   "id": "fd0f8f0f",
   "metadata": {},
   "outputs": [],
   "source": [
    "def sum_sqrt(a, b):\n",
    "    ans = a**2 + b**2\n",
    "    return ans"
   ]
  },
  {
   "cell_type": "markdown",
   "id": "1aa160d3",
   "metadata": {},
   "source": [
    "The function arguments in the example are a and b\n",
    "The return value is ans\n",
    "\n",
    "Let's try calling this function"
   ]
  },
  {
   "cell_type": "code",
   "execution_count": 2,
   "id": "3c25fde3",
   "metadata": {},
   "outputs": [
    {
     "name": "stdout",
     "output_type": "stream",
     "text": [
      "25\n"
     ]
    }
   ],
   "source": [
    "num1 = 3\n",
    "num2 = 4\n",
    "sum_nums_sqrt = sum_sqrt(num1, num2)\n",
    "print(sum_nums_sqrt)"
   ]
  },
  {
   "cell_type": "markdown",
   "id": "f27a900b",
   "metadata": {},
   "source": [
    "**What happens when we call a function?\n",
    "\n",
    "It is passed the arguments `num1` and `num2` and assigned to the local function variables `a` and `b`.\n",
    "\n",
    "`a = num1, b = num2`.\n",
    "\n",
    "Next come the transformations with local variables.\n",
    "\n",
    "After the word `return` comes what we will return from the function.\n",
    "I.e. `sum_nums_sqrt = ans`.\n",
    "(the lines after the word `return` are not executed, it acts as `break` for loops).\n",
    "\n",
    "The order of arguments passed is important! Let's look at another function and compare the results."
   ]
  },
  {
   "cell_type": "code",
   "execution_count": 3,
   "id": "b67bc6ed",
   "metadata": {},
   "outputs": [
    {
     "name": "stdout",
     "output_type": "stream",
     "text": [
      "-7\n",
      "7\n"
     ]
    }
   ],
   "source": [
    "def dif_sqrt(a, b):\n",
    "    return a**2 - b**2\n",
    "\n",
    "num1 = 3\n",
    "num2 = 4\n",
    "print(dif_sqrt(num1, num2)) # 3**2 - 4**2 = 9 - 16\n",
    "print(dif_sqrt(num2, num1)) # 4**2 - 3**2 = 16 - 9 "
   ]
  },
  {
   "cell_type": "markdown",
   "id": "5bdab61c",
   "metadata": {},
   "source": [
    "We can also set parameters to default values, i.e. we can enter less data and the remaining ones will assign default values.\n",
    "Arguments with a default value are called **named** and the rest are called **positioned**."
   ]
  },
  {
   "cell_type": "code",
   "execution_count": 4,
   "id": "33253594",
   "metadata": {},
   "outputs": [
    {
     "name": "stdout",
     "output_type": "stream",
     "text": [
      "Hello, Alice!\n",
      "Hi, Bob!\n"
     ]
    }
   ],
   "source": [
    "def greet(name, greeting=\"Hello\"):\n",
    "    return f\"{greeting}, {name}!\"\n",
    "\n",
    "print(greet(\"Alice\"))\n",
    "print(greet(\"Bob\", \"Hi\"))"
   ]
  },
  {
   "cell_type": "markdown",
   "id": "d7fe4071",
   "metadata": {},
   "source": [
    "But we put parameters with default value at the end, otherwise there will be an error"
   ]
  },
  {
   "cell_type": "code",
   "execution_count": 5,
   "id": "186633cd",
   "metadata": {},
   "outputs": [
    {
     "ename": "SyntaxError",
     "evalue": "non-default argument follows default argument (2885966047.py, line 1)",
     "output_type": "error",
     "traceback": [
      "\u001b[1;36m  Cell \u001b[1;32mIn [5], line 1\u001b[1;36m\u001b[0m\n\u001b[1;33m    def greet(greeting=\"Hello\", name):\u001b[0m\n\u001b[1;37m                                ^\u001b[0m\n\u001b[1;31mSyntaxError\u001b[0m\u001b[1;31m:\u001b[0m non-default argument follows default argument\n"
     ]
    }
   ],
   "source": [
    "def greet(greeting=\"Hello\", name):\n",
    "    return f\"{greeting}, {name}!\"\n"
   ]
  },
  {
   "cell_type": "markdown",
   "id": "d12f40bb",
   "metadata": {},
   "source": [
    "Let's write a function with more than one default value."
   ]
  },
  {
   "cell_type": "code",
   "execution_count": 6,
   "id": "e44cbce5",
   "metadata": {},
   "outputs": [
    {
     "name": "stdout",
     "output_type": "stream",
     "text": [
      "11.0\n",
      "22.0\n",
      "21.0\n"
     ]
    }
   ],
   "source": [
    "# The function calculates the total value of goods with the tax rate\n",
    "def calculate_cost(price, quantity=1, tax_rate=0.1):\n",
    "    total = price * quantity\n",
    "    total += total * tax_rate\n",
    "    return total\n",
    "\n",
    "print(calculate_cost(10))\n",
    "print(calculate_cost(10, 2))\n",
    "print(calculate_cost(10, 2, 0.05))"
   ]
  },
  {
   "cell_type": "code",
   "execution_count": 7,
   "id": "4b4a2234",
   "metadata": {},
   "outputs": [
    {
     "name": "stdout",
     "output_type": "stream",
     "text": [
      "10.5\n"
     ]
    }
   ],
   "source": [
    "# But what if we want a certain parameter to be different, \n",
    "# and the others are default (or we can't remember the order of the parameters).\n",
    "# Then we can explicitly specify the values of the parameter.\n",
    "\n",
    "print(calculate_cost(10, tax_rate=0.05))"
   ]
  },
  {
   "cell_type": "code",
   "execution_count": null,
   "id": "ad5f8b9f",
   "metadata": {},
   "outputs": [],
   "source": [
    "print(calculate_cost(tax_rate=0.05, 10))\n",
    "#This won't work because 10 is a positional argument.\n",
    "\n",
    "# But you can rewrite it like this and it will work.\n",
    "print(calculate_cost(tax_rate=0.05, price = 10))"
   ]
  },
  {
   "cell_type": "markdown",
   "id": "4be0ea39",
   "metadata": {},
   "source": [
    "A couple more examples of functions."
   ]
  },
  {
   "cell_type": "code",
   "execution_count": 8,
   "id": "ca8607a6",
   "metadata": {},
   "outputs": [
    {
     "name": "stdout",
     "output_type": "stream",
     "text": [
      "True\n"
     ]
    }
   ],
   "source": [
    "# Function for checking a number for simplicity\n",
    "def is_prime(n):\n",
    "    if n <= 1:\n",
    "        return False\n",
    "    \n",
    "    for i in range(2, int(n**0.5) + 1):\n",
    "        if n % i == 0:\n",
    "            return False\n",
    "    \n",
    "    return True\n",
    "\n",
    "print(is_prime(17))  "
   ]
  },
  {
   "cell_type": "code",
   "execution_count": 9,
   "id": "9b1a6414",
   "metadata": {},
   "outputs": [
    {
     "name": "stdout",
     "output_type": "stream",
     "text": [
      "600\n",
      "540.0\n"
     ]
    }
   ],
   "source": [
    "# The function calculates the total discounted amount\n",
    "def calculate_total(prices, discount=0):\n",
    "    total = 0\n",
    "    \n",
    "    for price in prices:\n",
    "        total += price\n",
    "    \n",
    "    total -= total * discount\n",
    "    return total\n",
    "\n",
    "prices = [100, 200, 300]\n",
    "print(calculate_total(prices))\n",
    "print(calculate_total(prices, 0.1))"
   ]
  },
  {
   "cell_type": "markdown",
   "id": "d9dc2619",
   "metadata": {},
   "source": [
    "Functions can return multiple values, they will be combined into a tuple."
   ]
  },
  {
   "cell_type": "code",
   "execution_count": 10,
   "id": "ce8b1ae8",
   "metadata": {},
   "outputs": [
    {
     "name": "stdout",
     "output_type": "stream",
     "text": [
      "(600, 540.0)\n"
     ]
    }
   ],
   "source": [
    "def calculate_total(prices, discount=0):\n",
    "    total = 0\n",
    "    \n",
    "    for price in prices:\n",
    "        total += price\n",
    "    \n",
    "    total_with_discount = total - total * discount\n",
    "    return total, total_with_discount\n",
    "\n",
    "prices = [100, 200, 300]\n",
    "print(calculate_total(prices, 0.1))"
   ]
  },
  {
   "cell_type": "markdown",
   "id": "adec17b7",
   "metadata": {},
   "source": [
    "***\n",
    "### *args, **kwargs"
   ]
  },
  {
   "cell_type": "markdown",
   "id": "4cb784e9",
   "metadata": {},
   "source": [
    "`*args` and `**kwargs` are special parameters that can be used in Python to pass a variable number of arguments to a function. They allow a function to accept an arbitrary number of positional arguments and an arbitrary number of named arguments, respectively.\n",
    "\n",
    "+ `*args`:\n",
    "   - The `*args` parameter allows an arbitrary number of positional arguments to be passed to a function.\n",
    "   - The `*` symbol before the parameter name means that all arguments passed after it will be assembled into a tuple and passed into this parameter. And we are sort of unpacking the tuple.\n",
    "   \n",
    "+ `**kwargs`:\n",
    "   - The `**kwargs` parameter allows you to pass an arbitrary number of named arguments to a function.\n",
    "   - The symbol `**` before the parameter name means that all passed named arguments will be collected into a dictionary (dict) and passed into this parameter. And we kind of unpack the dictionary, it turns into a list of pairs, and we unpack the pairs again.\n",
    "  \n"
   ]
  },
  {
   "cell_type": "code",
   "execution_count": 11,
   "id": "49054444",
   "metadata": {},
   "outputs": [
    {
     "name": "stdout",
     "output_type": "stream",
     "text": [
      "1 2 3 \n",
      "(1, 2, 3)\n",
      "hello world ! \n",
      "('hello', 'world', '!')\n"
     ]
    }
   ],
   "source": [
    "def f(*args):\n",
    "    for arg in args:\n",
    "        print(arg, end=' ')\n",
    "    print()\n",
    "    print(args)\n",
    "\n",
    "f(1, 2, 3)\n",
    "f(\"hello\", \"world\", \"!\")"
   ]
  },
  {
   "cell_type": "code",
   "execution_count": 12,
   "id": "173d0bfe",
   "metadata": {},
   "outputs": [
    {
     "name": "stdout",
     "output_type": "stream",
     "text": [
      "name : Alice\n",
      "age : 30\n",
      "{'name': 'Alice', 'age': 30}\n",
      "name age\n",
      "country : USA\n",
      "city : New York\n",
      "population : 8500000\n",
      "{'country': 'USA', 'city': 'New York', 'population': 8500000}\n",
      "country city population\n"
     ]
    }
   ],
   "source": [
    "def f(**kwargs):\n",
    "    for key, value in kwargs.items():\n",
    "        print(key, \":\", value)\n",
    "    print(kwargs)\n",
    "    print(*kwargs) # print the pairing keys\n",
    "f(name=\"Alice\", age=30)\n",
    "f(country=\"USA\", city=\"New York\", population=8500000)"
   ]
  },
  {
   "cell_type": "markdown",
   "id": "b7b04d58",
   "metadata": {},
   "source": [
    "What if you pass both `*args` and `**kwargs` and the usual positional and naming arguments?"
   ]
  },
  {
   "cell_type": "code",
   "execution_count": 13,
   "id": "009b7ee6",
   "metadata": {
    "scrolled": true
   },
   "outputs": [
    {
     "name": "stdout",
     "output_type": "stream",
     "text": [
      "(0, 8, 'c', 5.4) {'name': 'Andrew', 'age': 20}\n",
      "Andrew 20.5 ('O', 'M', 'G') {'city': 'NYC', 'university': 'HSE'}\n"
     ]
    }
   ],
   "source": [
    "def f(*args, **kwargs):\n",
    "    print(args, kwargs)\n",
    "\n",
    "f(0, 8, 'c', 5.4, name = 'Andrew', age = 20)\n",
    "\n",
    "def g(name, age=10, *args, **kwargs):\n",
    "    print(name, age, args, kwargs)\n",
    "\n",
    "g('Andrew', 20.5, 'O', 'M', \"G\", city = 'NYC', university = 'HSE')"
   ]
  },
  {
   "cell_type": "markdown",
   "id": "46a459f9",
   "metadata": {},
   "source": [
    "***\n",
    "### Lambda-functions"
   ]
  },
  {
   "cell_type": "markdown",
   "id": "61ca5bbe",
   "metadata": {},
   "source": [
    "When functions consist of only one line with `return`, it is very convenient to use lambda functions.\n",
    "For example:\n",
    "```\n",
    "def sum(a, b, c):\n",
    "    return a + b + c\n",
    "\n",
    "sum(1, 3, 5)\n",
    "```\n",
    "This function can be rewritten as follows:\n",
    "```\n",
    "sum = lambda a, b, c: a + b + c\n",
    "\n",
    "sum(1, 3, 5)\n",
    "```"
   ]
  },
  {
   "cell_type": "code",
   "execution_count": 14,
   "id": "0ac689d1",
   "metadata": {},
   "outputs": [
    {
     "data": {
      "text/plain": [
       "9"
      ]
     },
     "execution_count": 14,
     "metadata": {},
     "output_type": "execute_result"
    }
   ],
   "source": [
    "def sum(a, b, c):\n",
    "    return a + b + c\n",
    "\n",
    "sum(1, 3, 5)"
   ]
  },
  {
   "cell_type": "code",
   "execution_count": 15,
   "id": "47fe867a",
   "metadata": {},
   "outputs": [
    {
     "data": {
      "text/plain": [
       "9"
      ]
     },
     "execution_count": 15,
     "metadata": {},
     "output_type": "execute_result"
    }
   ],
   "source": [
    "sum = lambda a, b, c: a + b + c\n",
    "\n",
    "sum(1, 3, 5)"
   ]
  },
  {
   "cell_type": "code",
   "execution_count": 16,
   "id": "266585f5",
   "metadata": {},
   "outputs": [
    {
     "name": "stdout",
     "output_type": "stream",
     "text": [
      "True\n",
      "False\n"
     ]
    }
   ],
   "source": [
    "# You can also use if\n",
    "# lambda args : sign_if_usl_truth if condition else sign_otherwise\n",
    "\n",
    "# Check a number for parity\n",
    "is_even = lambda n: True if n % 2 == 0 else False\n",
    "\n",
    "print(is_even(2))\n",
    "print(is_even(5))"
   ]
  },
  {
   "cell_type": "markdown",
   "id": "a7c1469c",
   "metadata": {},
   "source": [
    "***\n",
    "### Recursion\n"
   ]
  },
  {
   "cell_type": "markdown",
   "id": "c8c7de54",
   "metadata": {},
   "source": [
    "**Recursion** is a process in which a function calls itself. In tasks with recursion, it is important to set the conditions for getting out of it, otherwise it will never end.\n",
    "\n",
    "Let's look at an example:\n",
    "Task: \n",
    "Calculate the factorial of the number `n!` (`!` is a factorial)\n",
    "Recall that `f(n) = n! = n - (n-1) - (n-2) - ... - 2 - 1`\n",
    "Recursions are, we can say, nested functions with some condition.\n",
    "So the factorial of `f(n)` can be represented as `f(n) = n - f(n-1) <=> n! = n - (n-1)!`."
   ]
  },
  {
   "cell_type": "code",
   "execution_count": 21,
   "id": "feaae61e",
   "metadata": {},
   "outputs": [
    {
     "name": "stdout",
     "output_type": "stream",
     "text": [
      "The factorial of number 5 is: 120\n"
     ]
    }
   ],
   "source": [
    "def factorial(n):\n",
    "    # Recursion base: if n is 0 or 1, return 1\n",
    "    # These are the conditions for exiting recursion, since the function is not called again.\n",
    "    if n <= 1:\n",
    "        return 1\n",
    "    # Calculate the factorial of n as n * (n - 1)!\n",
    "    else:\n",
    "        return n * factorial(n - 1)\n",
    "\n",
    "n = 5\n",
    "result = factorial(n)\n",
    "print(f\"The factorial of number {n} is:\", result)"
   ]
  },
  {
   "cell_type": "code",
   "execution_count": 22,
   "id": "77e2db5f",
   "metadata": {},
   "outputs": [
    {
     "name": "stdout",
     "output_type": "stream",
     "text": [
      "The factorial of number 5 is: 120\n"
     ]
    }
   ],
   "source": [
    "# In most cases, recursion can be replaced by a fairly simple loop\n",
    "def factorial(n):\n",
    "    result = 1\n",
    "    for i in range(1, n + 1):\n",
    "        result *= i\n",
    "    return result\n",
    "\n",
    "n = 5\n",
    "result = factorial(n)\n",
    "print(f\"The factorial of number {n} is:\", result)"
   ]
  },
  {
   "cell_type": "code",
   "execution_count": null,
   "id": "ad67db23",
   "metadata": {},
   "outputs": [],
   "source": [
    "# There is a limit to the number of recursions in Python, about 1000\n",
    "# This code will terminate with an error\n",
    "print(f “The factorial of {n} is:”, factorial(2000))\n",
    "\n",
    "# But we can bypass this limitation and set our own number\n",
    "sys.setrecursionlimit(2*10**6)"
   ]
  },
  {
   "cell_type": "markdown",
   "id": "dbcd038d",
   "metadata": {},
   "source": [
    "What are the pros and cons of recursive functions?\n",
    "\n",
    "`+`\n",
    "+ Simplicity\n",
    "+ Understandability\n",
    "+ Convenience for some tasks\n",
    "\n",
    "`-`\n",
    "+ Less efficient with a large number of calls\n",
    "+ High memory consumption\n",
    "+ Difficulty of debugging* code\n",
    "+ Risk of infinite recursion\n",
    "\n",
    "**Debugging* is the process of finding and fixing errors in program code."
   ]
  },
  {
   "cell_type": "markdown",
   "id": "561f6d29",
   "metadata": {},
   "source": [
    "***\n",
    "### Object-oriented programming"
   ]
  },
  {
   "cell_type": "markdown",
   "id": "5b22c842",
   "metadata": {},
   "source": [
    "**OOP** is a way of writing code in which we think of our program objects as real objects from the real world. \n",
    "\n",
    "Each object has its own characteristics (e.g., color, size) and can do something (e.g., move, make sounds). In OOP, we try to create program objects that work like real-world objects.\n",
    "\n",
    "For example, if we are writing a program about a zoo, we might have objects “animal”, “bird”, etc. Each animal may have a different color, size, and abilities such as running or jumping.\n",
    "\n",
    "OOP helps us organize our code so that it is clean, structured and easy to understand. We can create templates (classes) that describe how to create our objects, and use these templates to create many objects with different characteristics and abilities.\n"
   ]
  },
  {
   "cell_type": "markdown",
   "id": "71443580",
   "metadata": {},
   "source": [
    "***\n",
    "### Classes"
   ]
  },
  {
   "cell_type": "markdown",
   "id": "ee1541a7",
   "metadata": {},
   "source": [
    "**Class** is a special construct in programming that defines a new data type. A class defines the structure and behavior of objects of that type. For example, the int class in Python defines a data type for working with integers, specifying what operations can be performed on those numbers.\n",
    "\n",
    "An **Object** (or instance) is.\n",
    "is a concrete representation or implementation of a class. For example, if we create an object using the int class, that object represents a specific integer, such as the number 5.\n",
    "\n",
    "The syntax is as follows\n",
    "```\n",
    "class name_class:\n",
    "    ...\n",
    "    class implementation itself\n",
    "    methods\n",
    "```\n",
    "Important aspects about classes:\n",
    "\n",
    "1. attributes:\n",
    "   - Attributes are variables that belong to a class. They describe the state of an object and can be variables or constants.\n",
    "   - To create attributes you need to define them inside the class.\n",
    "   - Attributes can be of different data types like numbers, strings, lists etc.\n",
    "\n",
    "   \n",
    "2. Methods:\n",
    "   - Class methods are functions defined inside a class that can perform operations on the attributes of an object.\n",
    "   - They describe the behavior of the object and can modify its state.\n",
    "   - Methods usually take a self parameter that refers to the current instance of the class.\n",
    "   - Methods can access the class attributes and modify their state.\n",
    "   \n",
    "Let's create a class and add attributes"
   ]
  },
  {
   "cell_type": "code",
   "execution_count": 25,
   "id": "b19fb938",
   "metadata": {},
   "outputs": [],
   "source": [
    "class Dog:\n",
    "    # Class attributes\n",
    "    species = \"Canis familiaris\"\n",
    "    sounds = \"Woof\""
   ]
  },
  {
   "cell_type": "markdown",
   "id": "684abf16",
   "metadata": {},
   "source": [
    "Now let's add one method, the `__init__` special method.\n",
    "``` \n",
    "def __init__(self, arguments):\n",
    "    ...\n",
    "    function body\n",
    "```\n",
    "\n",
    "`__init__` is called a class constructor. It is automatically called when a new class object is created and is used to initialize the object's attributes.\n",
    "\n",
    "`self` in Python is a reference to the object itself, which calls the class method. It is passed as the first argument to the class method definition and is used to access the attributes and methods of that object inside the method.\n",
    "\n",
    "Let's add this method to our class"
   ]
  },
  {
   "cell_type": "code",
   "execution_count": 27,
   "id": "df25fff7",
   "metadata": {},
   "outputs": [],
   "source": [
    "class Dog:\n",
    "    # Class attributes\n",
    "    species = \"Canis familiaris\"\n",
    "    sounds = \"Woof\"\n",
    "\n",
    "    # Class constructor\n",
    "    def __init__(self, name, age):\n",
    "        self.name = name # Instance attribute\n",
    "        self.age = age # Instance attribute\n",
    "\n",
    "        # Instance attributes are different because of the possibility of different initialization"
   ]
  },
  {
   "cell_type": "markdown",
   "id": "47b7f309",
   "metadata": {},
   "source": [
    "Let's create an instance of our class. But how to do it?\n",
    "\n",
    "To create a class object, a class call is used by passing the necessary arguments to the class constructor.\n",
    "\n",
    "And the methods of the object are called through dot notation using the object name."
   ]
  },
  {
   "cell_type": "code",
   "execution_count": 28,
   "id": "ac9c4b89",
   "metadata": {},
   "outputs": [
    {
     "name": "stdout",
     "output_type": "stream",
     "text": [
      "Bobik - 3\n",
      "Canis familiaris\n",
      "Woof\n"
     ]
    }
   ],
   "source": [
    "my_dog = Dog(\"Bobik\", 3)\n",
    "\n",
    "# Мы можем распечатать его Атрибуты\n",
    "\n",
    "print(my_dog.name, '-', my_dog.age)\n",
    "\n",
    "# Также можем распечатать и атрибуты самого класса\n",
    "print(my_dog.species)\n",
    "print(my_dog.sounds)"
   ]
  },
  {
   "cell_type": "markdown",
   "id": "98cb9b97",
   "metadata": {},
   "source": [
    "Now let's add one more method"
   ]
  },
  {
   "cell_type": "code",
   "execution_count": 29,
   "id": "17645c1d",
   "metadata": {},
   "outputs": [],
   "source": [
    "class Dog:\n",
    "    species = \"Canis familiaris\"\n",
    "    sounds = \"Woof\"\n",
    "\n",
    "    def __init__(self, name, age):\n",
    "        self.name = name\n",
    "        self.age = age\n",
    "\n",
    "    # Class method\n",
    "    def speak(self):\n",
    "        return f\"{self.name} says {self.sounds}!\"\n"
   ]
  },
  {
   "cell_type": "code",
   "execution_count": 30,
   "id": "bfd60de0",
   "metadata": {},
   "outputs": [
    {
     "name": "stdout",
     "output_type": "stream",
     "text": [
      "Bobik says Woof!\n"
     ]
    }
   ],
   "source": [
    "my_dog = Dog(\"Bobik\", 3)\n",
    "print(my_dog.speak())"
   ]
  },
  {
   "cell_type": "markdown",
   "id": "71e07754",
   "metadata": {},
   "source": [
    "But class and object attributes can be changed externally. Such attributes are called public attributes. (All attributes of this class are public)\n",
    "When we change an attribute of a class, it won't change for all instances, because we are creating a new attribute internally."
   ]
  },
  {
   "cell_type": "code",
   "execution_count": 31,
   "id": "4734ef45",
   "metadata": {},
   "outputs": [
    {
     "name": "stdout",
     "output_type": "stream",
     "text": [
      "Bobik says Meow!\n",
      "Bobby says Woof!\n"
     ]
    }
   ],
   "source": [
    "my_dog2 = Dog('Bobby', 2)\n",
    "\n",
    "my_dog.sounds = 'Meow'\n",
    "print(my_dog.speak())\n",
    "print(my_dog2.speak())"
   ]
  },
  {
   "cell_type": "markdown",
   "id": "a08cc281",
   "metadata": {},
   "source": [
    "We've already talked a bit about public fields. Now let's discuss what if the fields and methods are not public.\n",
    "\n",
    "Private methods and fields in Python are special class members that cannot be accessed directly from outside the class. They are intended for internal use within the class and should not be accessible from outside.\n",
    "\n",
    "Private fields start with a double underscore , for example, `_name`. They can only be accessed inside the class and in its descendants (more on this later).\n",
    "\n",
    "Private methods also start with a double underscore , e.g., `__method()`. They can only be called from inside the class and cannot be called from outside the class or an instance of the class."
   ]
  },
  {
   "cell_type": "code",
   "execution_count": 32,
   "id": "e1e547a1",
   "metadata": {},
   "outputs": [],
   "source": [
    "class Dog:\n",
    "    species = \"Canis familiaris\"\n",
    "    sounds = \"Woof\"\n",
    "\n",
    "    def __init__(self, name, age, weakness):\n",
    "        self.name = name\n",
    "        self.age = age\n",
    "        self.__weakness = weakness\n",
    "\n",
    "    def speak(self):\n",
    "        return f\"{self.name} says {self.sounds}!\"\n",
    "    \n",
    "    def __get_weakness(self):\n",
    "        return self.__weakness\n",
    "    \n",
    "    def print_weakness(self):\n",
    "        print(f'Weakness: {self.__get_weakness()}')\n"
   ]
  },
  {
   "cell_type": "code",
   "execution_count": 33,
   "id": "e65e968d",
   "metadata": {},
   "outputs": [],
   "source": [
    "my_dog = Dog('Bobik', 3, 'tennis balls')"
   ]
  },
  {
   "cell_type": "code",
   "execution_count": 34,
   "id": "39691a80",
   "metadata": {},
   "outputs": [
    {
     "ename": "AttributeError",
     "evalue": "'Dog' object has no attribute '__weakness'",
     "output_type": "error",
     "traceback": [
      "\u001b[1;31m---------------------------------------------------------------------------\u001b[0m",
      "\u001b[1;31mAttributeError\u001b[0m                            Traceback (most recent call last)",
      "Cell \u001b[1;32mIn [34], line 2\u001b[0m\n\u001b[0;32m      1\u001b[0m \u001b[38;5;66;03m# Let's try to access the private field\u001b[39;00m\n\u001b[1;32m----> 2\u001b[0m \u001b[43mmy_dog\u001b[49m\u001b[38;5;241;43m.\u001b[39;49m\u001b[43m__weakness\u001b[49m\n",
      "\u001b[1;31mAttributeError\u001b[0m: 'Dog' object has no attribute '__weakness'"
     ]
    }
   ],
   "source": [
    "# Let's try to access the private field\n",
    "my_dog.__weakness"
   ]
  },
  {
   "cell_type": "code",
   "execution_count": 36,
   "id": "a1b96b53",
   "metadata": {},
   "outputs": [
    {
     "ename": "AttributeError",
     "evalue": "'Dog' object has no attribute '__get_weakness'",
     "output_type": "error",
     "traceback": [
      "\u001b[1;31m---------------------------------------------------------------------------\u001b[0m",
      "\u001b[1;31mAttributeError\u001b[0m                            Traceback (most recent call last)",
      "Cell \u001b[1;32mIn [36], line 2\u001b[0m\n\u001b[0;32m      1\u001b[0m \u001b[38;5;66;03m# Let's try the private method\u001b[39;00m\n\u001b[1;32m----> 2\u001b[0m \u001b[43mmy_dog\u001b[49m\u001b[38;5;241;43m.\u001b[39;49m\u001b[43m__get_weakness\u001b[49m()\n",
      "\u001b[1;31mAttributeError\u001b[0m: 'Dog' object has no attribute '__get_weakness'"
     ]
    }
   ],
   "source": [
    "# Let's try the private method\n",
    "my_dog.__get_weakness()"
   ]
  },
  {
   "cell_type": "code",
   "execution_count": 35,
   "id": "80db3a17",
   "metadata": {},
   "outputs": [
    {
     "name": "stdout",
     "output_type": "stream",
     "text": [
      "Weakness: tennis balls\n"
     ]
    }
   ],
   "source": [
    "# But if we call a private function in a class method\n",
    "my_dog.print_weakness()"
   ]
  },
  {
   "cell_type": "markdown",
   "id": "7fd31612",
   "metadata": {},
   "source": [
    "***\n",
    "### Special methods"
   ]
  },
  {
   "cell_type": "markdown",
   "id": "fe446410",
   "metadata": {},
   "source": [
    "But what are the methods with underscores on both sides, like `__init__`?\n",
    "\n",
    "**Special methods**\n",
    "\n",
    "`__new__` - used to create new instances of the class, called before the init method. Useful, for example, if you want to configure an object before it is initialized, or change the way an object is created depending on certain conditions.\n",
    "\n",
    "`__init__` - class constructor\n",
    "\n",
    "`__del__` - class destructor (when deleting an object, it clears all the memory involved)\n",
    "\n",
    "`__str__` - string representation\n",
    "\n",
    "`__repr__` - official representation of the object (string)"
   ]
  },
  {
   "cell_type": "code",
   "execution_count": 38,
   "id": "6b00551c",
   "metadata": {},
   "outputs": [],
   "source": [
    "class Dog:\n",
    "    species = \"Canis familiaris\"\n",
    "    sounds = \"Woof\"\n",
    "\n",
    "    def __init__(self, name, age, weakness):\n",
    "        self.name = name\n",
    "        self.age = age\n",
    "        self.__weakness = weakness\n",
    "\n",
    "    def speak(self):\n",
    "        return f\"{self.name} says {self.sounds}!\"\n",
    "    \n",
    "    def __get_weakness(self):\n",
    "        return self.__weakness\n",
    "    \n",
    "    def print_weakness(self):\n",
    "        print(f'Weakness: {self.__get_weakness()}')\n",
    "    \n",
    "    def __str__(self):\n",
    "        return f'DOG Name: {self.name}, age: {self.age}'\n",
    "    \n",
    "    def __repr__(self):\n",
    "        return f'class Dog:{self.name}, {self.age}'\n",
    "    \n",
    "    def __del__(self):\n",
    "        print('The destructor was called.')"
   ]
  },
  {
   "cell_type": "code",
   "execution_count": 39,
   "id": "f9537e55",
   "metadata": {},
   "outputs": [
    {
     "name": "stdout",
     "output_type": "stream",
     "text": [
      "<__main__.Dog object at 0x000001B7080FFF40>\n",
      "DOG Name: Bobik, age: 3\n"
     ]
    }
   ],
   "source": [
    "# Let's print out the object from the last version of the class \n",
    "# What was the string representation?\n",
    "print(my_dog2)\n",
    "\n",
    "# we already have a my_dog object defined.\n",
    "# So if we write a new value into the variable\n",
    "# The old object is deleted, i.e. the destructor is called.\n",
    "my_dog = Dog('Bobik', 3, 'tennis balls')\n",
    "\n",
    "print(my_dog)"
   ]
  },
  {
   "cell_type": "markdown",
   "id": "90d713a5",
   "metadata": {},
   "source": [
    "### Conclusion"
   ]
  },
  {
   "cell_type": "markdown",
   "id": "8ddb41e8",
   "metadata": {},
   "source": [
    "In today's lecture, we learned about:\n",
    "+ local and global variables\n",
    "+ functions\n",
    "+ `*args, `**keargs\n",
    "+ lambda functions\n",
    "+ recursion\n",
    "+ what OOP is\n",
    "+ classes\n",
    "+ special methods"
   ]
  }
 ],
 "metadata": {
  "kernelspec": {
   "display_name": "Python 3 (ipykernel)",
   "language": "python",
   "name": "python3"
  },
  "language_info": {
   "codemirror_mode": {
    "name": "ipython",
    "version": 3
   },
   "file_extension": ".py",
   "mimetype": "text/x-python",
   "name": "python",
   "nbconvert_exporter": "python",
   "pygments_lexer": "ipython3",
   "version": "3.10.11"
  }
 },
 "nbformat": 4,
 "nbformat_minor": 5
}
