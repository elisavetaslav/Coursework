{
 "cells": [
  {
   "cell_type": "markdown",
   "id": "f816e9dd",
   "metadata": {},
   "source": [
    "## Lecture 4"
   ]
  },
  {
   "cell_type": "markdown",
   "id": "59a98da4",
   "metadata": {},
   "source": [
    "In the last lecture, you and I got acquainted with OOP. Today we're going to continue.\n",
    "And we'll start with static methods"
   ]
  },
  {
   "cell_type": "markdown",
   "id": "631350e6",
   "metadata": {},
   "source": [
    "### Static methods"
   ]
  },
  {
   "cell_type": "markdown",
   "id": "9bbb5616",
   "metadata": {},
   "source": [
    "**Static methods** in Python are class methods that do not require access to an object instance (`self`) or to the class. They can be called directly from the class, without creating an instance of the class, and are executed in the context of the class rather than in the context of a particular object. Useful when no communication with the object is required.\n",
    "\n",
    "To declare such a method, use @staticmethod before the function"
   ]
  },
  {
   "cell_type": "code",
   "execution_count": 1,
   "id": "764ed48a",
   "metadata": {},
   "outputs": [],
   "source": [
    "class Dog:\n",
    "    species = \"Canis familiaris\"\n",
    "    sounds = \"Woof\"\n",
    "\n",
    "    def __init__(self, name, age, weakness):\n",
    "        self.name = name\n",
    "        self.age = age\n",
    "        self.__weakness = weakness\n",
    "\n",
    "    def speak(self):\n",
    "        return f\"{self.name} says {self.sounds}!\"\n",
    "    \n",
    "    @staticmethod\n",
    "    def about_dogs():\n",
    "        print(\"Dogs are best friends!\")"
   ]
  },
  {
   "cell_type": "code",
   "execution_count": 2,
   "id": "6e852376",
   "metadata": {},
   "outputs": [
    {
     "name": "stdout",
     "output_type": "stream",
     "text": [
      "Dogs are best friends!\n"
     ]
    }
   ],
   "source": [
    "my_dog = Dog('Bobik', 3, 'tennis balls')\n",
    "my_dog.about_dogs()"
   ]
  },
  {
   "cell_type": "markdown",
   "id": "bbf9398c",
   "metadata": {},
   "source": [
    "There is also such a method as @classmethod. It is used to work with general class attributes or to perform operations that are related to the class as a whole rather than to specific objects. This method is not passed to self, but to cls - i.e. the class itself."
   ]
  },
  {
   "cell_type": "code",
   "execution_count": 3,
   "id": "e8f91b66",
   "metadata": {},
   "outputs": [],
   "source": [
    "class Dog:\n",
    "    species = \"Canis familiaris\"\n",
    "    sounds = \"Woof\"\n",
    "\n",
    "    def __init__(self, name, age, weakness):\n",
    "        self.name = name\n",
    "        self.age = age\n",
    "        self.__weakness = weakness\n",
    "\n",
    "    def speak(self):\n",
    "        return f\"{self.name} says {self.sounds}!\"\n",
    "    \n",
    "    @staticmethod\n",
    "    def about_dogs():\n",
    "        print(\"Dogs are best friends!\")\n",
    "        \n",
    "    @classmethod\n",
    "    def change_sounds(cls, new_sound):\n",
    "        cls.sounds = new_sound"
   ]
  },
  {
   "cell_type": "code",
   "execution_count": 4,
   "id": "1a5ae75a",
   "metadata": {},
   "outputs": [
    {
     "name": "stdout",
     "output_type": "stream",
     "text": [
      "Bobik says Meow!\n",
      "Bobby says Woof!\n"
     ]
    }
   ],
   "source": [
    "my_dog = Dog('Bobik', 3, 'tennis balls')\n",
    "my_dog2 = Dog('Bobby', 2, 'tennis balls')\n",
    "\n",
    "# Now we're going to change the sound just for the class instance and compare the\n",
    "my_dog.sounds = 'Meow'\n",
    "print(my_dog.speak())\n",
    "print(my_dog2.speak())"
   ]
  },
  {
   "cell_type": "code",
   "execution_count": 5,
   "id": "cf131958",
   "metadata": {},
   "outputs": [
    {
     "name": "stdout",
     "output_type": "stream",
     "text": [
      "Bobik says AAAAAAAAAA!!\n",
      "Bobby says AAAAAAAAAA!!\n",
      "Bobik says OMG!!\n",
      "Bobby says OMG!!\n"
     ]
    }
   ],
   "source": [
    "my_dog = Dog('Bobik', 3, 'tennis balls')\n",
    "my_dog2 = Dog('Bobby', 2, 'tennis balls')\n",
    "\n",
    "# Now we're going to change the sound for the whole class\n",
    "my_dog.change_sounds('AAAAAAAAAA!')\n",
    "print(my_dog.speak())\n",
    "print(my_dog2.speak())\n",
    "\n",
    "# You can also do it this way\n",
    "Dog.change_sounds('OMG!')\n",
    "print(my_dog.speak())\n",
    "print(my_dog2.speak())"
   ]
  },
  {
   "cell_type": "markdown",
   "id": "c7c28988",
   "metadata": {},
   "source": [
    "***\n",
    "### Setter, Getter, Property"
   ]
  },
  {
   "cell_type": "markdown",
   "id": "b8f4a794",
   "metadata": {},
   "source": [
    "**Getter** and **setter** in Python are methods that are used to get (read) and set (write) the values of an object's attributes, respectively. They are used to provide attribute access control and allow additional actions when accessing attributes.\n",
    "\n",
    "1. **Getter**: This is a method that is used to get the value of an object attribute. It is usually designed to read attribute values and returns the current value of the attribute.\n",
    "\n",
    "2. **Setter**: This is a method that is used to set a new value of an object attribute. It is usually intended for writing attribute values and sets the new attribute value.\n",
    "\n",
    "3. **Property** allows you to create object attributes with methods automatically called when they are accessed, assigned, or deleted. This allows you to create attributes that look like normal attributes, but actually call specific methods when they are used.\n",
    "\n",
    "Propertys are used to control access to object attributes, check values before setting them, calculate values on the fly, and other similar tasks.\n",
    "\n"
   ]
  },
  {
   "cell_type": "code",
   "execution_count": 6,
   "id": "c3928ee5",
   "metadata": {},
   "outputs": [
    {
     "name": "stdout",
     "output_type": "stream",
     "text": [
      "3\n"
     ]
    }
   ],
   "source": [
    "class Cat:\n",
    "    species = \"Felis catus\"\n",
    "    sounds = \"Meow\"\n",
    "\n",
    "    def __init__(self, name, weakness=\"Catnip\"):\n",
    "        self.name = name\n",
    "        self._age = 0\n",
    "        self.__weakness = weakness\n",
    "\n",
    "    def speak(self):\n",
    "        return f\"{self.name} says {self.sounds}!\"\n",
    "    \n",
    "    def get_age(self):\n",
    "        return self._age\n",
    "    \n",
    "    def set_age(self, age):\n",
    "        self._age = age\n",
    "        \n",
    "    def del_age(self):\n",
    "        del self.age\n",
    "        \n",
    "    age = property(get_age, set_age, del_age)\n",
    "\n",
    "my_cat = Cat('Kitty')\n",
    "my_cat.age = 3\n",
    "print(my_cat.age)\n",
    "\n",
    "# Now we can securely set, read, delete age. Although the field is not public"
   ]
  },
  {
   "cell_type": "markdown",
   "id": "96c15d38",
   "metadata": {},
   "source": [
    "You can use @property for the same purpose"
   ]
  },
  {
   "cell_type": "code",
   "execution_count": 7,
   "id": "4c668315",
   "metadata": {},
   "outputs": [
    {
     "name": "stdout",
     "output_type": "stream",
     "text": [
      "3\n"
     ]
    }
   ],
   "source": [
    "class Cat:\n",
    "    species = \"Felis catus\"\n",
    "    sounds = \"Meow\"\n",
    "\n",
    "    def __init__(self, name, weakness=\"Catnip\"):\n",
    "        self.name = name\n",
    "        self._age = 0\n",
    "        self.__weakness = weakness\n",
    "\n",
    "    def speak(self):\n",
    "        return f\"{self.name} says {self.sounds}!\"\n",
    "    \n",
    "    @property\n",
    "    def age(self):\n",
    "        return self._age\n",
    "    \n",
    "    @age.setter\n",
    "    def age(self, age):\n",
    "        self._age = age\n",
    "\n",
    "my_cat = Cat('Kitty')\n",
    "my_cat.age = 3\n",
    "print(my_cat.age)"
   ]
  },
  {
   "cell_type": "markdown",
   "id": "b6b2f540",
   "metadata": {},
   "source": [
    "***\n",
    "### Operator overload"
   ]
  },
  {
   "cell_type": "markdown",
   "id": "c513d653",
   "metadata": {},
   "source": [
    "Operator overloading is the ability to override the behavior for built-in operators (such as `+, -, *, /, ==, <, >, in`, and others) for objects of classes we have written. This allows us to use these operators with objects in the same way we use them with built-in data types such as integers, strings, and lists.\n",
    "\n",
    "\n",
    "What operators can we overload? For example:\n",
    "+ `+` : `__add__`(left),`__radd__`(right), `__iadd__`(`+=`)\n",
    "+ `-` : `__sub__` (left), `__rsub__` (right), `__isub__` (`+=`).\n",
    "+ `*-` : `__mul__` (left), `__rmul__` (right), `__imul__` (`*=`)\n",
    "+ `/` : `__div__` (left), `__rdiv__` (right), `__idiv__` (`/=`)\n",
    "+ `==` : `__eq__`. \n",
    "+ `!=` : `__ne__`.\n",
    "+ `<` : `__lt__`, `<=` : `__le__`.\n",
    "+ `>` : `__gt__`, `>=` : `__ge__`\n",
    "+ `len` : `__len__`."
   ]
  },
  {
   "cell_type": "code",
   "execution_count": 8,
   "id": "4913ed42",
   "metadata": {},
   "outputs": [],
   "source": [
    "class Point:\n",
    "    def __init__(self, x, y, z):\n",
    "        self.x = x\n",
    "        self.y = y\n",
    "        self.z = z\n",
    "    \n",
    "    def __add__(self, other):\n",
    "        new_x = self.x + other.x\n",
    "        new_y = self.y + other.y\n",
    "        new_z = self.z + other.z\n",
    "        new_p = Point(new_x, new_y, new_z)\n",
    "        return new_p\n",
    "    \n",
    "    __radd__ = __add__ \n",
    "    \n",
    "    def __sub__(self, other):\n",
    "        return self.__add__(other.__mul__(-1))\n",
    "    \n",
    "    __rsub__ = __sub__ \n",
    "    \n",
    "    def __mul__(self, a):\n",
    "        new_x = self.x * a\n",
    "        new_y = self.y * a\n",
    "        new_z = self.z * a\n",
    "        new_p = Point(new_x, new_y, new_z)\n",
    "        return new_p\n",
    "    \n",
    "    __rmul__ = __mul__\n",
    "    \n",
    "    def __eq__(self, other):\n",
    "        return self.x == other.x and self.y == other.y and self.z == other.z\n",
    "    \n",
    "    def __ne__(self, other):\n",
    "        return not(self.__eq__(other))\n",
    "        \n",
    "    def __lt__(self, other):\n",
    "        dist1 = (self.x**2 + self.y**2 + self.z**2)**0.5\n",
    "        dist2 = (other.x**2 + other.y**2 + other.z**2)**0.5\n",
    "        return dist1 < dist2\n",
    "    \n",
    "    def __ge__(self, other):\n",
    "        return not(self.__lt__(other))\n",
    "    \n",
    "    def __gt__(self, other):\n",
    "        return not(self.__lt__(other) or self.__eq__(other))\n",
    "    \n",
    "    def __le__(self, other):\n",
    "        return not(self.__gt__(other))\n",
    "\n",
    "    def __len__(self):\n",
    "        return 0\n",
    "    \n",
    "    def __str__(self):\n",
    "        return f'({self.x}, {self.y}, {self.z})'"
   ]
  },
  {
   "cell_type": "code",
   "execution_count": 9,
   "id": "686f4fd6",
   "metadata": {},
   "outputs": [
    {
     "name": "stdout",
     "output_type": "stream",
     "text": [
      "(2, -2, 3)\n",
      "(0, 2, 3)\n",
      "(2, 0, 6)\n",
      "(-3, 6, 0)\n",
      "True\n",
      "False\n"
     ]
    }
   ],
   "source": [
    "a = Point(1, 0, 3)\n",
    "b = Point(1, -2, 0)\n",
    "print(a + b)\n",
    "print(a - b)\n",
    "print(a * 2)\n",
    "print(-3 * b)\n",
    "print(a > b)\n",
    "print(a < b)"
   ]
  },
  {
   "cell_type": "markdown",
   "id": "7b394beb",
   "metadata": {},
   "source": [
    "***\n",
    "### Descriptors"
   ]
  },
  {
   "cell_type": "markdown",
   "id": "9fb240d8",
   "metadata": {},
   "source": [
    "What are descriptors? They're methods\n",
    "+ `__get__`\n",
    "+ `__set__`\n",
    "+ `__delete__`\n",
    "\n",
    "We can think of them as overloading the assignment `=`. `__get__` - reads (for example, when the value is to the right of =), `__set__` - sets (to the left of =), and `__delete__` in turn allows you to define the logic for deleting an attribute.\n",
    "Does any of this ring a bell? A getter-setter-property? Yes, but now we do it for all values instead of one at a time."
   ]
  },
  {
   "cell_type": "code",
   "execution_count": 10,
   "id": "85f15202",
   "metadata": {},
   "outputs": [],
   "source": [
    "class DescPoint:\n",
    "    def __init__(self, name):\n",
    "        self.name = name\n",
    "\n",
    "    def __get__(self, ins, own):\n",
    "        return ins.__dict__[self.name]\n",
    "    # Go to the dict where all the attribute names and values are stored\n",
    "    # and look for what we need\n",
    "    \n",
    "    def __set__(self, ins, p):\n",
    "        if not isinstance(p, (int, float)):\n",
    "            raise ValueError(f\"{self.name} must be a number\")\n",
    "        ins.__dict__[self.name] = p\n",
    "            \n",
    "class Point:\n",
    "    def __init__(self, x, y, z):\n",
    "        self._x = x\n",
    "        self._y = y\n",
    "        self._z = z\n",
    "    \n",
    "    def __str__(self):\n",
    "        return f'({self._x}, {self._y}, {self._z})'\n",
    "    \n",
    "    x = DescPoint('_x')\n",
    "    y = DescPoint('_y')\n",
    "    z = DescPoint('_z')\n"
   ]
  },
  {
   "cell_type": "code",
   "execution_count": 11,
   "id": "88e895cb",
   "metadata": {},
   "outputs": [
    {
     "name": "stdout",
     "output_type": "stream",
     "text": [
      "(1, 0, 3)\n",
      "(1, -2, 3)\n"
     ]
    }
   ],
   "source": [
    "point = Point(1, 0, 3)\n",
    "print(point)\n",
    "\n",
    "point.y = -2\n",
    "print(point)"
   ]
  },
  {
   "cell_type": "markdown",
   "id": "4cc4b842",
   "metadata": {},
   "source": [
    "***\n",
    "###  __hash__, __eq__"
   ]
  },
  {
   "cell_type": "markdown",
   "id": "f1f08553",
   "metadata": {},
   "source": [
    "Let's try to put the Point class in set, what will happen?"
   ]
  },
  {
   "cell_type": "code",
   "execution_count": 12,
   "id": "252a7d1e",
   "metadata": {},
   "outputs": [],
   "source": [
    "class Point:\n",
    "    def __init__(self, x, y, z):\n",
    "        self.x = x\n",
    "        self.y = y\n",
    "        self.z = z\n",
    "    \n",
    "    def __add__(self, other):\n",
    "        new_x = self.x + other.x\n",
    "        new_y = self.y + other.y\n",
    "        new_z = self.z + other.z\n",
    "        new_p = Point(new_x, new_y, new_z)\n",
    "        return new_p\n",
    "    \n",
    "    __radd__ = __add__ \n",
    "    \n",
    "    def __sub__(self, other):\n",
    "        return self.__add__(other.__mul__(-1))\n",
    "    \n",
    "    __rsub__ = __sub__ \n",
    "    \n",
    "    def __mul__(self, a):\n",
    "        new_x = self.x * a\n",
    "        new_y = self.y * a\n",
    "        new_z = self.z * a\n",
    "        new_p = Point(new_x, new_y, new_z)\n",
    "        return new_p\n",
    "    \n",
    "    __rmul__ = __mul__\n",
    "    \n",
    "    def __eq__(self, other):\n",
    "        return self.x == other.x and self.y == other.y and self.z == other.z\n",
    "\n",
    "    def __lt__(self, other):\n",
    "        dist1 = (self.x**2 + self.y**2 + self.z**2)**0.5\n",
    "        dist2 = (other.x**2 + other.y**2 + other.z**2)**0.5\n",
    "        return dist1 < dist2\n",
    "\n",
    "    def __len__(self):\n",
    "        return 0\n",
    "    \n",
    "    def __str__(self):\n",
    "        return f'({self.x}, {self.y}, {self.z})'"
   ]
  },
  {
   "cell_type": "code",
   "execution_count": 13,
   "id": "eb67926f",
   "metadata": {},
   "outputs": [
    {
     "ename": "TypeError",
     "evalue": "unhashable type: 'Point'",
     "output_type": "error",
     "traceback": [
      "\u001b[1;31m---------------------------------------------------------------------------\u001b[0m",
      "\u001b[1;31mTypeError\u001b[0m                                 Traceback (most recent call last)",
      "Cell \u001b[1;32mIn [13], line 3\u001b[0m\n\u001b[0;32m      1\u001b[0m point \u001b[38;5;241m=\u001b[39m Point(\u001b[38;5;241m1\u001b[39m, \u001b[38;5;241m0\u001b[39m, \u001b[38;5;241m3\u001b[39m)\n\u001b[0;32m      2\u001b[0m st \u001b[38;5;241m=\u001b[39m \u001b[38;5;28mset\u001b[39m()\n\u001b[1;32m----> 3\u001b[0m \u001b[43mst\u001b[49m\u001b[38;5;241;43m.\u001b[39;49m\u001b[43madd\u001b[49m\u001b[43m(\u001b[49m\u001b[43mpoint\u001b[49m\u001b[43m)\u001b[49m\n",
      "\u001b[1;31mTypeError\u001b[0m: unhashable type: 'Point'"
     ]
    }
   ],
   "source": [
    "point = Point(1, 0, 3)\n",
    "st = set()\n",
    "st.add(point)"
   ]
  },
  {
   "cell_type": "markdown",
   "id": "e4f64fb6",
   "metadata": {},
   "source": [
    "We couldn't add it because there is no hash defined for our class. Well, let's fix that.\n"
   ]
  },
  {
   "cell_type": "code",
   "execution_count": 14,
   "id": "4f04bb91",
   "metadata": {},
   "outputs": [],
   "source": [
    "class Point:\n",
    "    def __init__(self, x, y, z):\n",
    "        self.x = x\n",
    "        self.y = y\n",
    "        self.z = z\n",
    "    \n",
    "    def __add__(self, other):\n",
    "        new_x = self.x + other.x\n",
    "        new_y = self.y + other.y\n",
    "        new_z = self.z + other.z\n",
    "        new_p = Point(new_x, new_y, new_z)\n",
    "        return new_p\n",
    "    \n",
    "    __radd__ = __add__ \n",
    "    \n",
    "    def __sub__(self, other):\n",
    "        return self.__add__(other.__mul__(-1))\n",
    "    \n",
    "    __rsub__ = __sub__ \n",
    "    \n",
    "    def __mul__(self, a):\n",
    "        new_x = self.x * a\n",
    "        new_y = self.y * a\n",
    "        new_z = self.z * a\n",
    "        new_p = Point(new_x, new_y, new_z)\n",
    "        return new_p\n",
    "    \n",
    "    __rmul__ = __mul__\n",
    "    \n",
    "    def __eq__(self, other):\n",
    "        return self.x == other.x and self.y == other.y and self.z == other.z\n",
    "        \n",
    "    def __lt__(self, other):\n",
    "        dist1 = (self.x**2 + self.y**2 + self.z**2)**0.5\n",
    "        dist2 = (other.x**2 + other.y**2 + other.z**2)**0.5\n",
    "        return dist1 < dist2\n",
    "\n",
    "    def __len__(self):\n",
    "        return 0\n",
    "    \n",
    "    def __str__(self):\n",
    "        return f'({self.x}, {self.y}, {self.z})'\n",
    "    \n",
    "    def __hash__(self):\n",
    "        return hash((self.x, self.y, self.z))"
   ]
  },
  {
   "cell_type": "code",
   "execution_count": 15,
   "id": "5ac72a71",
   "metadata": {},
   "outputs": [
    {
     "name": "stdout",
     "output_type": "stream",
     "text": [
      "True\n",
      "True\n"
     ]
    }
   ],
   "source": [
    "point = Point(1, 0, 3)\n",
    "st = set()\n",
    "st.add(point)\n",
    "# Now it's all working\n",
    "\n",
    "# Let's look at one more thing\n",
    "point2 = Point(1, -2, 0)\n",
    "print(point != point2)\n",
    "print(point > point2)\n",
    "# Although we didn't overload these operators, they are expressed using >, == and not.\n",
    "\n",
    "# But we have to overload these ones\n",
    "# print(point <= point2)\n",
    "# print(point >= point2)"
   ]
  },
  {
   "cell_type": "markdown",
   "id": "331f8056",
   "metadata": {},
   "source": [
    "***\n",
    "### Inheritance"
   ]
  },
  {
   "cell_type": "markdown",
   "id": "045dfdb9",
   "metadata": {},
   "source": [
    "**Inheritance** allows you to create a new class based on an existing class. The new class, called a subclass (or derived class, child), inherits attributes and methods from the base class (superclass), called the superclass or parent class. This allows you to reuse code, avoid duplication, and create class hierarchies. In Python, inheritance is implemented by specifying the name of the superclass in parentheses when defining a new class."
   ]
  },
  {
   "cell_type": "code",
   "execution_count": 18,
   "id": "f95c910f",
   "metadata": {},
   "outputs": [
    {
     "name": "stdout",
     "output_type": "stream",
     "text": [
      "Owner: None\n",
      "Owner: Bob\n",
      "Owner: Ann\n",
      "Owner: Bob\n"
     ]
    }
   ],
   "source": [
    "class Pet:\n",
    "    def __init__(self, name, age = 0, owner = \"None\"):\n",
    "        self.name = name\n",
    "        self._age = age\n",
    "        self._owner_name = owner\n",
    "        \n",
    "    def print_owner_name(self):\n",
    "        print(f\"Owner: {self._owner_name}\")\n",
    "        \n",
    "    def set_owner_name(self, name):\n",
    "        self._owner_name = name\n",
    "    \n",
    "    \n",
    "    \n",
    "class Dog(Pet): # Dog successor to Pet\n",
    "    sound = \"Woof\"\n",
    "    \n",
    "    def __init__(self, name, age = 0, owner = 'None'):\n",
    "        super().__init__(name, age, owner) # Explicitly call the superclass method\n",
    "\n",
    "class Cat(Pet): # Cat is the successor of Pet\n",
    "    sound = \"Meow\"\n",
    "    # Implicitly call the initialization method because it is not defined in the child class. \n",
    "    \n",
    "    \n",
    "dog = Dog(\"Bobik\", 3, 'Bob')\n",
    "cat = Cat('Kitty', 2)\n",
    "\n",
    "# Call the methods of the superclass, even though they are not defined in the subclasses.\n",
    "cat.print_owner_name()\n",
    "dog.print_owner_name()\n",
    "# Note that even though they inherit from the same class. But each child has its own copy of the parent\n",
    "# So when you change the owner_name in a parent class from one child,\n",
    "# The owner_name of the other child won't change\n",
    "\n",
    "\n",
    "# We can also change it ourselves\n",
    "cat.set_owner_name('Ann')\n",
    "cat.print_owner_name()\n",
    "dog.print_owner_name()\n",
    "    "
   ]
  },
  {
   "cell_type": "markdown",
   "id": "a1057666",
   "metadata": {},
   "source": [
    "**Multiple inheritance** - when you inherit from multiple classes (for example, as in life from mom and dad)."
   ]
  },
  {
   "cell_type": "code",
   "execution_count": 19,
   "id": "06b29a1b",
   "metadata": {},
   "outputs": [
    {
     "name": "stdout",
     "output_type": "stream",
     "text": [
      "Meow\n"
     ]
    },
    {
     "data": {
      "text/plain": [
       "'CatDog says Meow!'"
      ]
     },
     "execution_count": 19,
     "metadata": {},
     "output_type": "execute_result"
    }
   ],
   "source": [
    "class Pet:\n",
    "    def __init__(self, name, age = 0, owner = \"None\"):\n",
    "        self.name = name\n",
    "        self._age = age\n",
    "        self._owner_name = owner\n",
    "    \n",
    "    def speak(self):\n",
    "        return f\"{self.name} says nothing\"\n",
    "        \n",
    "        \n",
    "    \n",
    "class Dog(Pet):\n",
    "    sound = \"Woof\"\n",
    "    \n",
    "    # Override the superclass function, \n",
    "    # This implementation will now be called instead of the parent.\n",
    "    def speak(self): \n",
    "        return f\"{self.name} says {self.sound}!\"\n",
    "    \n",
    "class Cat(Pet):\n",
    "    sound = \"Meow\"\n",
    "    \n",
    "\n",
    "class CatDog(Cat, Dog):\n",
    "    def print_sound(self):\n",
    "        print(self.sound)\n",
    "    \n",
    "    \n",
    "catdog = CatDog(\"CatDog\")\n",
    "catdog.print_sound()\n",
    "catdog.speak()"
   ]
  },
  {
   "cell_type": "markdown",
   "id": "164f51da",
   "metadata": {},
   "source": [
    "What happened? The CatDog class inherits from Dog and Cat, and each parent has a sound field defined, and now it is not clear what sound it will make. We have encountered a problem, it can be solved by overriding the child's sound or explicitly specifying which sound will be selected. But what if the names of the methods are the same?"
   ]
  },
  {
   "cell_type": "markdown",
   "id": "e4ac08db",
   "metadata": {},
   "source": [
    "***\n",
    "### Polymorphism"
   ]
  },
  {
   "cell_type": "markdown",
   "id": "51eb3878",
   "metadata": {},
   "source": [
    "**Polymorphism** is a concept that allows objects of different classes to have the same interface (attributes, methods) but implement it differently. This means that the same method or function can have different implementations in different classes.\n",
    "\n",
    "In the context of polymorphism, methods with the same names and arguments can behave differently in different classes, which allows code to be more flexible and modular."
   ]
  },
  {
   "cell_type": "code",
   "execution_count": 20,
   "id": "0b43c97b",
   "metadata": {},
   "outputs": [
    {
     "name": "stdout",
     "output_type": "stream",
     "text": [
      "Frogy says nothing\n",
      "Bobik says Woof!\n",
      "Kitty speaks Meow!!!\n"
     ]
    }
   ],
   "source": [
    "class Pet:\n",
    "    def __init__(self, name, age = 0, owner = \"None\"):\n",
    "        self.name = name\n",
    "        self._age = age\n",
    "        self._owner_name = owner\n",
    "    \n",
    "    def speak(self):\n",
    "        return f\"{self.name} says nothing\"\n",
    "        \n",
    "        \n",
    "    \n",
    "class Dog(Pet):\n",
    "    sound = \"Woof\"\n",
    "    \n",
    "    def speak(self): \n",
    "        return f\"{self.name} says {self.sound}!\"\n",
    "    \n",
    "class Cat(Pet):\n",
    "    sound = \"Meow\"\n",
    "    \n",
    "    def speak(self): \n",
    "        return f\"{self.name} speaks {self.sound}!!!\"\n",
    "    \n",
    "pet = Pet(\"Frogy\", owner=\"Ann\")\n",
    "dog = Dog(\"Bobik\", 3, \"Bob\")\n",
    "cat = Cat(\"Kitty\", 2)\n",
    "\n",
    "print(pet.speak())\n",
    "print(dog.speak())\n",
    "print(cat.speak())"
   ]
  },
  {
   "cell_type": "markdown",
   "id": "a3e416dd",
   "metadata": {},
   "source": [
    "We've overridden the methods in each subclass, and now a more appropriate implementation is executed when the same method is called. \n",
    "\n",
    "But what if we add a CatDog class as well? Which method will be called now?"
   ]
  },
  {
   "cell_type": "code",
   "execution_count": 21,
   "id": "58e97f92",
   "metadata": {},
   "outputs": [
    {
     "name": "stdout",
     "output_type": "stream",
     "text": [
      "CatDog speaks Meow!!!\n"
     ]
    }
   ],
   "source": [
    "class CatDog(Cat, Dog):\n",
    "    pass # this operator says do nothing\n",
    "        \n",
    "catdog = CatDog(\"CatDog\")\n",
    "print(catdog.speak())"
   ]
  },
  {
   "cell_type": "markdown",
   "id": "c5efdd3b",
   "metadata": {},
   "source": [
    "It turns out that the CatDog class has two variants of sound, and the Cat implementation is chosen, also with the speak method, here the Dog implementation is chosen.\n",
    "This ambiguity generates a problem, it is called the “diamond” problem (Dimond problem)."
   ]
  },
  {
   "cell_type": "markdown",
   "id": "f7dfbe6c",
   "metadata": {},
   "source": [
    "This problem leads to errors and difficulty in resolving conflict. Although Python typically uses Method Resolution Order (MRO) to determine the order in which classes are considered for inheritance, sometimes the logic is ambiguous and requires programmer intervention. In this case, Python itself decided which implementation it wanted to use"
   ]
  },
  {
   "cell_type": "markdown",
   "id": "38e5637a",
   "metadata": {},
   "source": [
    "***\n",
    "### Abstract classes and virtual methods"
   ]
  },
  {
   "cell_type": "markdown",
   "id": "d1a41826",
   "metadata": {},
   "source": [
    "Abstract classes and virtual functions are concepts that help you create flexible and modular programs in object-oriented programming languages such as Python.\n",
    "\n",
    "1. **Abstract class** is a class that does not provide an implementation of one or more of its methods (contains at least one virtual method). Instead, these methods must be implemented in subclasses.\n",
    "\n",
    "2. **Virtual method** is a method in the base class that can be overridden in subclasses. In Python, all methods are virtual by default. The `@abstractmethod` decorator is used to denote a virtual method."
   ]
  },
  {
   "cell_type": "code",
   "execution_count": 22,
   "id": "de575020",
   "metadata": {},
   "outputs": [
    {
     "name": "stdout",
     "output_type": "stream",
     "text": [
      "Bobik says Woof!\n",
      "Kitty speaks Meow!!!\n"
     ]
    }
   ],
   "source": [
    "from abc import ABC, abstractmethod\n",
    "# This is where we plug in the libraries we need\n",
    "# For now, consider this a necessary line, we'll talk about libraries in the next lesson\n",
    "\n",
    "class Pet(ABC):  # The abstract class Pet\n",
    "    def __init__(self, name, age=0, owner=\"None\"):\n",
    "        self.name = name\n",
    "        self._age = age\n",
    "        self._owner_name = owner\n",
    "    \n",
    "    @abstractmethod  # Virtual method\n",
    "    def speak(self):\n",
    "        pass\n",
    "\n",
    "class Dog(Pet):\n",
    "    sound = \"Woof\"\n",
    "\n",
    "    def speak(self):\n",
    "        return f\"{self.name} says {self.sound}!\"\n",
    "\n",
    "class Cat(Pet):\n",
    "    sound = \"Meow\"\n",
    "\n",
    "    def speak(self):\n",
    "        return f\"{self.name} speaks {self.sound}!!!\"\n",
    "\n",
    "# Error: Cannot create an instance of an abstract class\n",
    "#pet = Pet(\"Frogy\", owner=\"Ann\")\n",
    "\n",
    "dog = Dog(\"Bobik\", 3, \"Bob\")\n",
    "cat = Cat(\"Kitty\", 2)\n",
    "\n",
    "print(dog.speak())\n",
    "print(cat.speak())\n"
   ]
  },
  {
   "cell_type": "markdown",
   "id": "27026238",
   "metadata": {},
   "source": [
    "***\n",
    "### Conclusion"
   ]
  },
  {
   "cell_type": "markdown",
   "id": "464259d4",
   "metadata": {},
   "source": [
    "In today's lecture we continued talking about OOP and broke down:\n",
    "+ Static methods\n",
    "+ Getter-Setter-Property\n",
    "+ Operator overloading\n",
    "+ Descriptors\n",
    "+ `__hash__`,`__eq__`.\n",
    "+ Inheritance (and multiple inheritance)\n",
    "+ Polymorphism\n",
    "+ Abstract classes and virtual methods"
   ]
  }
 ],
 "metadata": {
  "kernelspec": {
   "display_name": "Python 3 (ipykernel)",
   "language": "python",
   "name": "python3"
  },
  "language_info": {
   "codemirror_mode": {
    "name": "ipython",
    "version": 3
   },
   "file_extension": ".py",
   "mimetype": "text/x-python",
   "name": "python",
   "nbconvert_exporter": "python",
   "pygments_lexer": "ipython3",
   "version": "3.10.11"
  }
 },
 "nbformat": 4,
 "nbformat_minor": 5
}
