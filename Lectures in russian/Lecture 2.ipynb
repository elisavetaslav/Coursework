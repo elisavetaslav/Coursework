{
 "cells": [
  {
   "cell_type": "markdown",
   "id": "b8dff064",
   "metadata": {},
   "source": [
    "# Лекция 2"
   ]
  },
  {
   "cell_type": "markdown",
   "id": "8ce06e87",
   "metadata": {},
   "source": [
    "### Логические выражения и  операторы"
   ]
  },
  {
   "cell_type": "markdown",
   "id": "632dc13c",
   "metadata": {},
   "source": [
    "Логические выражения - это выражения, которые оцениваются как истинные или ложные выражения (True или False). Обычно состоят из операторов сравнения, а именно:\n",
    "+ `>`     \\- больше\n",
    "+ `<`     \\- меньше\n",
    "+ `>=`    \\- больше или равно\n",
    "+ `<=`    \\- меньше или равно\n",
    "+ `==`    \\- равно\n",
    "+ `!=`    \\- не равно\n",
    "\n",
    "\n",
    "Логические операторы нужны для сравнения значений и выполнения логические операции над ними. Это такое ключевое слово (символ), а именно:\n",
    "+ `and`    \\- логическое И\n",
    "+ `or`     \\- логическое ИЛИ\n",
    "+ `not`    \\- логическое НЕ (отрицание)\n",
    "+ `is`     \\- идентичность объектов (указывают ли на один и тот же участок памяти\n",
    "+ `in`     \\- проверка наличия элемента в последовательности\n",
    "+ `&`      \\- битовое И\n",
    "+ `^`      \\- битовое исключающее ИЛИ (XOR)\n",
    "+ `|`      \\- битовое ИЛИ\n",
    "+ `~`      \\- битовое отрицание\n",
    "+ `>>`     \\- битовый сдвиг вправо\n",
    "+ `<<`     \\- битовый сдвиг вправо\n"
   ]
  },
  {
   "cell_type": "code",
   "execution_count": 1,
   "id": "a3af3f1e",
   "metadata": {},
   "outputs": [
    {
     "name": "stdout",
     "output_type": "stream",
     "text": [
      "False\n"
     ]
    }
   ],
   "source": [
    "f = (2 == 3)\n",
    "print(f)"
   ]
  },
  {
   "cell_type": "code",
   "execution_count": 2,
   "id": "5cd719a0",
   "metadata": {},
   "outputs": [
    {
     "name": "stdout",
     "output_type": "stream",
     "text": [
      "True\n"
     ]
    }
   ],
   "source": [
    "f = (2 + 7) ** 4 - 63 >= 0\n",
    "print(f)"
   ]
  },
  {
   "cell_type": "code",
   "execution_count": 3,
   "id": "85c6d3f3",
   "metadata": {},
   "outputs": [
    {
     "name": "stdout",
     "output_type": "stream",
     "text": [
      "False\n"
     ]
    }
   ],
   "source": [
    "a, b = 'a', 'b'\n",
    "f = (a >= b) and (2**3 > 3**2 or int('194') != 64*3)\n",
    "print(f)"
   ]
  },
  {
   "cell_type": "code",
   "execution_count": 4,
   "id": "bedf4393",
   "metadata": {},
   "outputs": [
    {
     "name": "stdout",
     "output_type": "stream",
     "text": [
      "True\n",
      "False\n"
     ]
    }
   ],
   "source": [
    "lst = [1, 2, 4, 5]\n",
    "print(2 in lst)\n",
    "print(3 in lst)"
   ]
  },
  {
   "cell_type": "code",
   "execution_count": 5,
   "id": "5d324861",
   "metadata": {},
   "outputs": [
    {
     "name": "stdout",
     "output_type": "stream",
     "text": [
      "True\n",
      "False\n"
     ]
    }
   ],
   "source": [
    "a = '234'\n",
    "b = a\n",
    "print(a is b)\n",
    "\n",
    "a = '13'\n",
    "print(b is a)"
   ]
  },
  {
   "cell_type": "markdown",
   "id": "776babcb",
   "metadata": {},
   "source": [
    "Операции выполняются по очереди, и при написании логических выражения важно знать приоритет операций!\n",
    "\n",
    "1. ()\n",
    "2. **\n",
    "3. -х, +х, ~x   -унарные плюс, минус и бит отрицание\n",
    "4. *, /, //, %\n",
    "5. +, -\n",
    "6. <<, >>\n",
    "7. &\n",
    "8. ^\n",
    "9. |\n",
    "10. ==, !=, >, <, >=, <=, is, in\n",
    "11. not\n",
    "12. and\n",
    "13. or"
   ]
  },
  {
   "cell_type": "code",
   "execution_count": 6,
   "id": "3d33e75d",
   "metadata": {},
   "outputs": [
    {
     "name": "stdout",
     "output_type": "stream",
     "text": [
      "True\n"
     ]
    }
   ],
   "source": [
    "# Упражнение:\n",
    "# Попытайтесь посчитать ответ сами\n",
    "\n",
    "print(not(-2 + 3 <= 5 % 2 + 1) or 100 & 110 == 100)\n",
    "\n",
    "\n"
   ]
  },
  {
   "cell_type": "markdown",
   "id": "76ce2825",
   "metadata": {},
   "source": [
    "***\n",
    "### If-else"
   ]
  },
  {
   "cell_type": "markdown",
   "id": "4d10a9e4",
   "metadata": {},
   "source": [
    "Что такое `if-else`? Это условный оператор, который выполняет разные куски кода, в зависимости от того выполняется условие или нет.\n",
    "\n",
    "```\n",
    "if условие:\n",
    "    ...\n",
    "    если условие выполняется (условие равно True)\n",
    "else:\n",
    "    ...\n",
    "    если условие не выполняется (условие равно False)\n",
    "```\n",
    "(В питоне очень важны отступы (4 пробела = tab), благодаря им му отделяем, что проиходит внутри условного оператора, а что нет)"
   ]
  },
  {
   "cell_type": "code",
   "execution_count": 7,
   "id": "74e23aa1",
   "metadata": {},
   "outputs": [
    {
     "name": "stdout",
     "output_type": "stream",
     "text": [
      "5\n",
      "a > 2\n"
     ]
    }
   ],
   "source": [
    "a = int(input())\n",
    "if (a > 2):\n",
    "    print('a > 2')\n",
    "else:\n",
    "    print('a <= 2')"
   ]
  },
  {
   "cell_type": "code",
   "execution_count": 8,
   "id": "81018206",
   "metadata": {},
   "outputs": [
    {
     "name": "stdout",
     "output_type": "stream",
     "text": [
      "a = 5\n"
     ]
    }
   ],
   "source": [
    "# Else- не обязателен!\n",
    "# Можно не писать эту часть если в ней ничего не надо делать\n",
    "\n",
    "if (a == 4):\n",
    "    print('=)')    # внутри if, выволняется если условие true\n",
    "\n",
    "print('a =', a)    # выполняется при любом условии"
   ]
  },
  {
   "cell_type": "markdown",
   "id": "87f4cd59",
   "metadata": {},
   "source": [
    "Так же если вариантов развития событий не только два и чтобы не писать вложенные друг в друга if, придумали elif (else if)\n",
    "\n",
    "```\n",
    "if условие 1:\n",
    "    ...\n",
    "else:\n",
    "    if условие 2:\n",
    "        ...\n",
    "    else:\n",
    "        ...\n",
    "```\n",
    "    Равносильно\n",
    "```\n",
    "if условие 1:\n",
    "    ...\n",
    "elif условие 2:\n",
    "    ...\n",
    "else:\n",
    "    ...\n",
    "```"
   ]
  },
  {
   "cell_type": "code",
   "execution_count": 9,
   "id": "fef755fa",
   "metadata": {},
   "outputs": [
    {
     "name": "stdout",
     "output_type": "stream",
     "text": [
      "3\n",
      "a < 5\n"
     ]
    }
   ],
   "source": [
    "a = int(input())\n",
    "if (a == 5):\n",
    "    print('a == 5')\n",
    "elif (a < 5):\n",
    "    print('a < 5')\n",
    "else:\n",
    "    print('a > 5')"
   ]
  },
  {
   "cell_type": "markdown",
   "id": "37e7be76",
   "metadata": {},
   "source": [
    "***\n",
    "### Циклы"
   ]
  },
  {
   "cell_type": "markdown",
   "id": "330b4981",
   "metadata": {},
   "source": [
    "*Цикл - это конструкция, которая выполняет код тела цикла несколько раз.*\n",
    "\n",
    "*Итерация - это одно выполнение тела цикла.*"
   ]
  },
  {
   "cell_type": "markdown",
   "id": "690858c1",
   "metadata": {},
   "source": [
    "***\n",
    "### While"
   ]
  },
  {
   "cell_type": "markdown",
   "id": "ba1309db",
   "metadata": {},
   "source": [
    "**While (пока)** - это цикл, то есть повторяющийся кусочек кода, пока выполнено условие цикла.\n",
    "```\n",
    "while условие:\n",
    "    ...\n",
    "    тело цикла\n",
    "```\n",
    "\n",
    "Давайте рассмотри на примере.\n",
    "Задача:\n",
    "У нас есть убывающая последовательность целых чисел, нам необходимо посчитать сколько чисел больше 5 и вывести ответ.\n",
    "\n",
    "Входные данные:\n",
    "Последовательность чисел, по числу в каждой строке. В конце последовательности обязательно вводится 0.\n",
    "\n",
    "Выходные данные:\n",
    "Количество чисел больше 5."
   ]
  },
  {
   "cell_type": "code",
   "execution_count": 10,
   "id": "522df6db",
   "metadata": {},
   "outputs": [
    {
     "name": "stdout",
     "output_type": "stream",
     "text": [
      "85\n",
      "63\n",
      "45\n",
      "32\n",
      "20\n",
      "11\n",
      "6\n",
      "0\n",
      "Ответ: 7\n"
     ]
    }
   ],
   "source": [
    "a = int(input())        # Считываем первый элемент последовательности\n",
    "count = 0               # Заводим счетчик, в нем будет хранится ответ\n",
    "\n",
    "while (a > 5):          # Проверяем условие\n",
    "    count += 1          # Увеличиваем счетчик на 1, т.к. у нас нашлось подходящее число\n",
    "    a = int(input())    # Считываем следующее число последовательности\n",
    "    # После это строчки возвращаемся и смотрим выполнено ли условие сейчас\n",
    "\n",
    "print('Ответ:', count)"
   ]
  },
  {
   "cell_type": "markdown",
   "id": "302a1e50",
   "metadata": {},
   "source": [
    "При работе с циклами так же используются ключевые слова:\n",
    "+ `break`    \\- прервать исполнения цикла\n",
    "+ `continue` \\- не выполнять код цикла после этого слова, а перейти к условию"
   ]
  },
  {
   "cell_type": "code",
   "execution_count": 11,
   "id": "3133f5d9",
   "metadata": {},
   "outputs": [
    {
     "name": "stdout",
     "output_type": "stream",
     "text": [
      "256\n"
     ]
    }
   ],
   "source": [
    "a = 2\n",
    "while (a >= 2):\n",
    "    a **= 2\n",
    "    if (a > 100):\n",
    "        break\n",
    "print(a)"
   ]
  },
  {
   "cell_type": "code",
   "execution_count": 12,
   "id": "47f0b034",
   "metadata": {},
   "outputs": [
    {
     "name": "stdout",
     "output_type": "stream",
     "text": [
      "1. 155\n",
      "1. 152\n",
      "2. 76\n",
      "1. 73\n",
      "1. 70\n",
      "2. 35\n",
      "1. 32\n",
      "2. 16\n",
      "1. 13\n",
      "1. 10\n",
      "2. 5\n",
      "1. 2\n",
      "2. 1\n",
      "1\n"
     ]
    }
   ],
   "source": [
    "a = 158\n",
    "while (a > 1):\n",
    "    a -= 3\n",
    "    print('1.', a)\n",
    "    if (a % 2 == 1):\n",
    "        continue\n",
    "    a //= 2\n",
    "    print('2.', a)\n",
    "print(a)"
   ]
  },
  {
   "cell_type": "markdown",
   "id": "8bc6ab94",
   "metadata": {},
   "source": [
    "***\n",
    "### For"
   ]
  },
  {
   "cell_type": "markdown",
   "id": "af00d0e4",
   "metadata": {},
   "source": [
    "**For** - тоже цикл, который выполняется для индексов (чаще всего) в определенном диапазоне.\n",
    "\n",
    "Диапазон задается так:\n",
    "`range(start, end, step = 1)` \n",
    "Т.е. индекс находится в диапазоне `[start, end)` и каждый раз мы увеличиваем значение индекса на `step` (по умолчанию = 1, можно не указывать)\n",
    "\n",
    "\n",
    "\n",
    "```\n",
    "for имя_переменной in range(start, end, step):\n",
    "    ...\n",
    "    тело цикла\n",
    "```"
   ]
  },
  {
   "cell_type": "code",
   "execution_count": 13,
   "id": "143e16a0",
   "metadata": {},
   "outputs": [
    {
     "name": "stdout",
     "output_type": "stream",
     "text": [
      "i = 1\n",
      "i = 2\n",
      "i = 3\n",
      "i = 4\n",
      "i = 5\n",
      "i = 6\n",
      "i = 7\n",
      "i = 8\n",
      "i = 9\n"
     ]
    }
   ],
   "source": [
    "for i in range(1, 10):\n",
    "    print('i =', i)"
   ]
  },
  {
   "cell_type": "code",
   "execution_count": 14,
   "id": "0cc4bb97",
   "metadata": {},
   "outputs": [
    {
     "name": "stdout",
     "output_type": "stream",
     "text": [
      "i = 10\n",
      "i = 8\n",
      "i = 6\n",
      "i = 4\n",
      "i = 2\n",
      "i = 0\n"
     ]
    }
   ],
   "source": [
    "# Шаг также может быть отрицательным. Например:\n",
    "for i in range(10, -1, -2):\n",
    "    print('i =', i)"
   ]
  },
  {
   "cell_type": "markdown",
   "id": "499ff997",
   "metadata": {},
   "source": [
    "Задача:\n",
    "Найти все квадраты четных чисел от 1 до 20"
   ]
  },
  {
   "cell_type": "code",
   "execution_count": 15,
   "id": "b316234d",
   "metadata": {},
   "outputs": [
    {
     "name": "stdout",
     "output_type": "stream",
     "text": [
      "4 16 36 64 100 144 196 256 324\n"
     ]
    }
   ],
   "source": [
    "squares = []\n",
    "for i in range(1, 20):\n",
    "    if i % 2 == 0:\n",
    "        squares.append(i**2)\n",
    "print(*squares)"
   ]
  },
  {
   "cell_type": "markdown",
   "id": "26929ac4",
   "metadata": {},
   "source": [
    "С помощью `for` можно так же заполнять список значениями. Например:"
   ]
  },
  {
   "cell_type": "code",
   "execution_count": 16,
   "id": "e01b7bb9",
   "metadata": {},
   "outputs": [
    {
     "name": "stdout",
     "output_type": "stream",
     "text": [
      "1 2 3 4 5 6 7 8 9\n"
     ]
    }
   ],
   "source": [
    "lst = [i for i in range(1, 10)]\n",
    "print(*lst)"
   ]
  },
  {
   "cell_type": "markdown",
   "id": "7a7ec430",
   "metadata": {},
   "source": [
    "`i` - что мы кладем в список,\n",
    "а остальное - это откуда мы берем значения.\n",
    "\n",
    "\n",
    "Можем также переписать предыдущую задачу"
   ]
  },
  {
   "cell_type": "code",
   "execution_count": 17,
   "id": "10bb4a89",
   "metadata": {},
   "outputs": [
    {
     "name": "stdout",
     "output_type": "stream",
     "text": [
      "4 16 36 64 100 144 196 256 324\n"
     ]
    }
   ],
   "source": [
    "squares = [i**2 for i in range(2, 20, 2)]\n",
    "print(*squares)"
   ]
  },
  {
   "cell_type": "markdown",
   "id": "59d372e1",
   "metadata": {},
   "source": [
    "`i**2` - мы каждую `i` из подходящего нам диапазона возводим в квадрат\n",
    "Начинаем мы наш диапазон с первого четного числа, и идем с шагом 2. Таким образом, мы получаем все четные числа в нашем диапазоне."
   ]
  },
  {
   "cell_type": "markdown",
   "id": "c3c810ae",
   "metadata": {},
   "source": [
    "В `for` мы можем ходить не только по диапазону, но и  по элементам какого-то типу или структуры данных. \n",
    "```\n",
    "for имя_переменной in структура_данных:\n",
    "    ...\n",
    "    тело цикла\n",
    "```"
   ]
  },
  {
   "cell_type": "code",
   "execution_count": 18,
   "id": "a6f6f954",
   "metadata": {},
   "outputs": [
    {
     "name": "stdout",
     "output_type": "stream",
     "text": [
      "1 2 3 4 5 6 7 8 9 "
     ]
    }
   ],
   "source": [
    "for al in lst:\n",
    "    print(al, end=' ')"
   ]
  },
  {
   "cell_type": "code",
   "execution_count": 19,
   "id": "2fcd1bdd",
   "metadata": {},
   "outputs": [
    {
     "name": "stdout",
     "output_type": "stream",
     "text": [
      "4\n",
      "16\n",
      "36\n",
      "64\n"
     ]
    }
   ],
   "source": [
    "for al in lst:\n",
    "    if (al % 2 == 0):\n",
    "        print(al**2)"
   ]
  },
  {
   "cell_type": "code",
   "execution_count": 20,
   "id": "2513c216",
   "metadata": {},
   "outputs": [
    {
     "name": "stdout",
     "output_type": "stream",
     "text": [
      "H\n",
      "e\n",
      "l\n",
      "l\n",
      "o\n",
      ",\n",
      " \n",
      "W\n",
      "o\n",
      "r\n",
      "l\n",
      "d\n",
      "!\n"
     ]
    }
   ],
   "source": [
    "for char in \"Hello, World!\":\n",
    "    print(char)"
   ]
  },
  {
   "cell_type": "code",
   "execution_count": 21,
   "id": "6e077b1c",
   "metadata": {},
   "outputs": [
    {
     "name": "stdout",
     "output_type": "stream",
     "text": [
      "Введите последовательность:\n",
      "1 2 3 5 8\n",
      "\n",
      " 1 2 3 5 8\n",
      "<class 'int'>\n"
     ]
    }
   ],
   "source": [
    "# Также можно заполнить список последовательность чисел из ввода\n",
    "\n",
    "lst = [int(i) for i in input('Введите последовательность:\\n').split(' ')]\n",
    "\n",
    "print('\\n', *lst)\n",
    "print(type(lst[0]))"
   ]
  },
  {
   "cell_type": "markdown",
   "id": "9e3085e1",
   "metadata": {},
   "source": [
    "***\n",
    "### Списки"
   ]
  },
  {
   "cell_type": "markdown",
   "id": "311f0313",
   "metadata": {},
   "source": [
    "Давайте поговорим ещё немного о списках. Разберемся в методах, которые есть у списков\n",
    "+ `append()` \\- мы уже знаем его, добавляет элемент в конец списка\n",
    "+ `pop(index = -1)` \\- удаляет элемент по индексу, по дефолту последний\n",
    "+ `insert(index, elem)` \\- добавляет элемент по индексу\n",
    "+ `remove(elem)` \\- удаляет первое вхождение элемента, иначе выводит ошибку\n",
    "+ `clear()` \\- удаляет все элементы\n",
    "+ `extend(collection)` \\- добавляет коллекцию в конец списка\n",
    "+ `index(elem)` \\-  возвращает индекс первого вхождения элемента\n",
    "+ `count(elem)` \\- возвращает количество вхождений элемента в список\n",
    "+ `reverse()` \\- возвращает обратный список (задом-наперед)\n",
    "+ `sort(), sort(reverse)` \\- сортирует список по возрастанию (убиванию, если reverse=True)"
   ]
  },
  {
   "cell_type": "code",
   "execution_count": 22,
   "id": "b2cb5fbc",
   "metadata": {},
   "outputs": [
    {
     "name": "stdout",
     "output_type": "stream",
     "text": [
      "[4, 80, 3.4, 80.0, 'c']\n",
      "[4, 80, 3.4, 80.0, 'c', 0]\n",
      "[4, 80, 3.4, 80.0, 'c']\n",
      "[4, 80, '122', 3.4, 80.0, 'c']\n",
      "[4, '122', 3.4, 80.0, 'c']\n",
      "[4, '122', 3.4, 80.0, 'c', 'd', 'o', 'g']\n",
      "['g', 'o', 'd', 'c', 80.0, 3.4, '122', 4]\n",
      "['g', 'o', 'd', 'c', 80.0, 3.4, '122', 4, 'o', 'o', 5]\n",
      "3\n",
      "1\n",
      "[]\n"
     ]
    }
   ],
   "source": [
    "lst = [4, 80, 3.4, 80., 'c']\n",
    "print(lst)\n",
    "lst.append(0)\n",
    "print(lst)\n",
    "lst.pop()\n",
    "print(lst)\n",
    "lst.insert(2, '122')\n",
    "print(lst)\n",
    "lst.remove(80)\n",
    "print(lst)\n",
    "lst.extend('dog')\n",
    "print(lst)\n",
    "lst.reverse()\n",
    "print(lst)\n",
    "lst.extend(['o', 'o', 5])\n",
    "print(lst)\n",
    "print(lst.count('o'))\n",
    "print(lst.index('o'))\n",
    "lst.clear()\n",
    "print(lst)"
   ]
  },
  {
   "cell_type": "markdown",
   "id": "8ae2fa16",
   "metadata": {},
   "source": [
    "Для списков определены операции `+` и `*`\n",
    "Можно складывать списки и умножать на константу"
   ]
  },
  {
   "cell_type": "code",
   "execution_count": 23,
   "id": "786df3e0",
   "metadata": {},
   "outputs": [
    {
     "name": "stdout",
     "output_type": "stream",
     "text": [
      "[1, 2, 3, 4, 5]\n",
      "[1, 2, 3, 4, 5, 1, 2, 3, 4, 5]\n",
      "[1, 2, 0, 4, 5, 1, 2, 3, 4, 5]\n"
     ]
    }
   ],
   "source": [
    "lst = [1, 2, 3]\n",
    "\n",
    "lst += [4, 5]\n",
    "print(lst)\n",
    "\n",
    "lst *= 2\n",
    "print(lst)\n",
    "\n",
    "lst[2] = 0\n",
    "print(lst)"
   ]
  },
  {
   "cell_type": "markdown",
   "id": "0a99f588",
   "metadata": {},
   "source": [
    "Поговорим немного о многомерных списках. Это когда списки находятся внутри других списков.\n",
    "Допустим, мы хотим создать таблицу 5×5, заполненную нулями"
   ]
  },
  {
   "cell_type": "code",
   "execution_count": 24,
   "id": "4db30cc5",
   "metadata": {},
   "outputs": [
    {
     "name": "stdout",
     "output_type": "stream",
     "text": [
      "0 0 0 0 0\n",
      "0 0 0 0 0\n",
      "0 0 0 0 0\n",
      "0 0 0 0 0\n",
      "0 0 0 0 0\n"
     ]
    }
   ],
   "source": [
    "# Мы можем написать так\n",
    "table = [[0] * 5] * 5\n",
    "for i in table:\n",
    "    print(*i)"
   ]
  },
  {
   "cell_type": "code",
   "execution_count": 25,
   "id": "ed872042",
   "metadata": {},
   "outputs": [
    {
     "name": "stdout",
     "output_type": "stream",
     "text": [
      "0 0 4 0 0\n",
      "0 0 4 0 0\n",
      "0 0 4 0 0\n",
      "0 0 4 0 0\n",
      "0 0 4 0 0\n"
     ]
    }
   ],
   "source": [
    "# Мы и правда получили таблицу, как и хотели\n",
    "# Но давайте попробуем положить на место (0, 2) число 4\n",
    "table[0][2] = 4\n",
    "for i in table:\n",
    "    print(*i)"
   ]
  },
  {
   "cell_type": "code",
   "execution_count": 26,
   "id": "6611381c",
   "metadata": {},
   "outputs": [
    {
     "name": "stdout",
     "output_type": "stream",
     "text": [
      "0 0 0 0 0\n",
      "0 0 0 0 0\n",
      "0 0 0 0 0\n",
      "0 0 0 0 0\n",
      "0 0 0 0 0\n",
      "---------\n",
      "0 0 4 0 0\n",
      "0 0 0 0 0\n",
      "0 0 0 0 0\n",
      "0 0 0 5 0\n",
      "0 0 0 0 0\n"
     ]
    }
   ],
   "source": [
    "# Так как мы скопировали список с помощью *, у нас изменился 2-ой элемент во всех копиях\n",
    "# Как этого избежать? Вот так\n",
    "table = [[0] * 5 for i in range(5)]\n",
    "for i in table:\n",
    "    print(*i)\n",
    "    \n",
    "print('---------')\n",
    "\n",
    "table[0][2] = 4\n",
    "table[3][3] = 5\n",
    "for i in table:\n",
    "    print(*i)"
   ]
  },
  {
   "cell_type": "code",
   "execution_count": 27,
   "id": "e8818297",
   "metadata": {},
   "outputs": [
    {
     "name": "stdout",
     "output_type": "stream",
     "text": [
      "0 0\n",
      "0 1\n",
      "----\n",
      "1 0\n",
      "1 1\n",
      "----\n",
      "[[[0, 0], [0, 1]], [[1, 0], [1, 1]]]\n"
     ]
    }
   ],
   "source": [
    "# Создадим трехмерную таблицу\n",
    "table3x = [[[0, 0],[0, 1]],[[1, 0],[1, 1]]]\n",
    "\n",
    "# Она будет состоять из двух таблиц 2×2\n",
    "for i in table3x:\n",
    "    for j in i:\n",
    "        print(*j)\n",
    "    print('----')\n",
    "\n",
    "print(table3x)"
   ]
  },
  {
   "cell_type": "markdown",
   "id": "30dda6b2",
   "metadata": {},
   "source": [
    "#### Срезы"
   ]
  },
  {
   "cell_type": "markdown",
   "id": "70a68c42",
   "metadata": {},
   "source": [
    "**Срезы (slices)** используются для получения подпоследовательности. Немного похоже на устройства `range`, чтобы получить срез необходимо указать начало, конец и шаг. Если мы хотим, чтобы они остались дефолтными, то просто пишем :\n",
    "$$ lst[start=0 : end=len(lst) : step=1]$$\n"
   ]
  },
  {
   "cell_type": "code",
   "execution_count": 28,
   "id": "fb6f7244",
   "metadata": {},
   "outputs": [
    {
     "name": "stdout",
     "output_type": "stream",
     "text": [
      "[0, 1, 2]\n",
      "[0, 2]\n",
      "[0, 2, 4]\n",
      "[0, 2, 4]\n",
      "[4, 3, 2, 1, 0]\n"
     ]
    }
   ],
   "source": [
    "lst = [0, 1, 2, 3, 4]\n",
    "print(lst[0:3])\n",
    "print(lst[0:4:2])\n",
    "print(lst[0::2]) # Идем с 0-ого до 3-ого с шагом 2\n",
    "print(lst[::2])  # Идем по всему списку с шагом 2\n",
    "print(lst[::-1]) # Идем по всему списку но задом-наперед\n",
    "#print([:3:1])  Можно раскомментировать и посмотреть на ошибку\n",
    "# Если указывать конец, но не указывать начало будет ошибка!"
   ]
  },
  {
   "cell_type": "markdown",
   "id": "2635c5d0",
   "metadata": {},
   "source": [
    "***\n",
    "### Строки"
   ]
  },
  {
   "cell_type": "markdown",
   "id": "6f6726c3",
   "metadata": {},
   "source": [
    "На строках тоже еще немного остановаимся\n",
    "Поговорим о методах строк:\n",
    "+ `split(sep)` \\- разбивает строку по разделителю, возвращая список\n",
    "+ `sep.join(obj)` \\- соединяет элементы obj разделяя их sep\n",
    "\n",
    "+ `count(substr)` \\- считает количество вхождений подстроки в строку без пересечений\n",
    "+ `find(substr)`, `rfind(s)` \\- находит первую(последнюю) позицию подстроки, иначе вернет -1\n",
    "+ `index(substr)`, `rindex(s)` \\- находит первую(последнюю) позицию подстроки, иначе вернет ошибку\n",
    "+ `replace(substr, new_s)` \\- заменяет все подстроки на новую строку\n",
    "+ `strip()`, `strip(str)` \\- с начала и конца строки убирает пробелы, табуляцию, '\\n' (символы из str)\n",
    "\n",
    "+ `isalpha()` \\- проверяет, состоит ли строка только из букв алфавита\n",
    "+ `isalnum()` \\- проверяет, состоит ли строка только из букв и цифр\n",
    "+ `isdigit()` \\- проверяет, состоит ли строка только из цифр\n",
    "+ `isascii()` \\- проверяет, состоит ли строка только из ASCII символов\n",
    "+ `isnumeric()` \\- проверяет, состоит ли строка только из числовых символов\n",
    "+ `islower()` \\- проверяет, состоит ли строка только из строчных букв\n",
    "+ `isupper()` \\- проверяет, состоит ли строка только из заглавных букв\n",
    "+ `lower()` \\- преобразует все буквы в нижний регистр\n",
    "+ `upper()` \\- преобразует все буквы в верхний регистр\n",
    "\n",
    "\n",
    "\n",
    "\n",
    "\n",
    "\n"
   ]
  },
  {
   "cell_type": "code",
   "execution_count": 29,
   "id": "1c97bd87",
   "metadata": {},
   "outputs": [
    {
     "name": "stdout",
     "output_type": "stream",
     "text": [
      "[' ', 'br', 'c', 'd', 'br', '\\n']\n",
      "  a b r a c a d a b r a \n",
      "\n",
      "5\n",
      "3\n",
      "10\n",
      "-1\n",
      "3\n",
      "10\n",
      " 1racad1ra\n",
      "\n",
      "abracadabra\n",
      "racadabra\n",
      "\n",
      "False\n",
      "False\n",
      "False\n",
      "False\n",
      "True\n",
      "True\n",
      " ABRACADABRA\n",
      "\n",
      "False\n",
      " abracadabra\n",
      "\n"
     ]
    }
   ],
   "source": [
    "s = ' abracadabra\\n'\n",
    "print(s.split('a'))\n",
    "print(' '.join(s))\n",
    "print(s.count('a'))\n",
    "print(s.find('r'))\n",
    "print(s.rfind('r'))\n",
    "print(s.find('C'))\n",
    "print(s.index('r'))\n",
    "print(s.rindex('r'))\n",
    "#print(s.index('C')) Выведет ошибку, можете раскомментировать и проверить\n",
    "print(s.replace('ab','1'))\n",
    "print(s.strip())\n",
    "print(s.strip(' ab'))\n",
    "print(s.isalpha())\n",
    "print(s.isalnum())\n",
    "print(s.isdigit())\n",
    "print(s.isnumeric())\n",
    "print(s.isascii())\n",
    "print(s.islower())\n",
    "print(s.upper())\n",
    "print(s.isupper())\n",
    "print(s.lower())"
   ]
  },
  {
   "cell_type": "markdown",
   "id": "d7c8f958",
   "metadata": {},
   "source": [
    "Для строк также определены операции `+` и `*`."
   ]
  },
  {
   "cell_type": "code",
   "execution_count": 30,
   "id": "3c90d04d",
   "metadata": {},
   "outputs": [
    {
     "name": "stdout",
     "output_type": "stream",
     "text": [
      "abaca!\n",
      "abaca!abaca!\n"
     ]
    }
   ],
   "source": [
    "s = 'aba'\n",
    "s += 'ca'+'!'\n",
    "print(s)\n",
    "\n",
    "s *= 2\n",
    "print(s)"
   ]
  },
  {
   "cell_type": "markdown",
   "id": "3a0016d2",
   "metadata": {},
   "source": [
    "#### F-строки"
   ]
  },
  {
   "cell_type": "markdown",
   "id": "79b91543",
   "metadata": {},
   "source": [
    "**F-строки** - это специальные формутированные строки. Они позволяют встраивать значения переменных и выражений прямо в строку, что делает код более читаемым и компактным.\n",
    "\n",
    "Чтоб записать f-строку, необходимо написать `f` перед кавычками и в том месте, в котором мы ходим видеть значение переменной, ввести её имя в `{}`, внутри них могут быть не только переменные, но и различные выражения."
   ]
  },
  {
   "cell_type": "code",
   "execution_count": 31,
   "id": "d7e6c299",
   "metadata": {},
   "outputs": [
    {
     "name": "stdout",
     "output_type": "stream",
     "text": [
      "Hello, Harry! Thank you for the invition. Happy Birthday! You're 20 now!\n"
     ]
    }
   ],
   "source": [
    "name = 'Harry'\n",
    "age = 20\n",
    "print(f\"Hello, {name}! Thank you for the invition. Happy Birthday! You're {age} now!\")"
   ]
  },
  {
   "cell_type": "markdown",
   "id": "7c62c9f8",
   "metadata": {},
   "source": [
    "Чтобы написать многострочную f-строку, можно использовать тройные кавычки"
   ]
  },
  {
   "cell_type": "code",
   "execution_count": 32,
   "id": "b12c17a5",
   "metadata": {},
   "outputs": [
    {
     "name": "stdout",
     "output_type": "stream",
     "text": [
      "Hello, Harry!\n",
      "\n",
      "      You're 20, right?\n",
      "Hello, Harry!\n",
      "\n",
      "      You're 20, right?\n"
     ]
    }
   ],
   "source": [
    "print(f'''Hello, {name}!\\n\n",
    "      You're {age}, right?''')\n",
    "print(f\"\"\"Hello, {name}!\\n\n",
    "      You're {age}, right?\"\"\")"
   ]
  },
  {
   "cell_type": "markdown",
   "id": "26e81375",
   "metadata": {},
   "source": [
    "С помощью f-строк можно форматировать float, например, если задача вывести с точностью до 3 знаков после запятой.\n",
    "```{число: количество видимых знаков}```\n",
    "А если хотим разделить запятой по разрядом, пишем\n",
    "```{число:,}```"
   ]
  },
  {
   "cell_type": "code",
   "execution_count": 33,
   "id": "7c828f25",
   "metadata": {},
   "outputs": [
    {
     "name": "stdout",
     "output_type": "stream",
     "text": [
      "3.14\n",
      "120,005,000\n"
     ]
    }
   ],
   "source": [
    "pi = 3.1415927\n",
    "print(f'{pi:.3}')\n",
    "n = 120005000\n",
    "print(f'{n:,}')"
   ]
  },
  {
   "cell_type": "markdown",
   "id": "8b52932b",
   "metadata": {},
   "source": [
    "Можно переводить и в другие системы счисления\n",
    "```\n",
    "b - двоичная \n",
    "o - восьмиричная\n",
    "x - шестнадцатиричная\n",
    "```"
   ]
  },
  {
   "cell_type": "code",
   "execution_count": 34,
   "id": "34e17a28",
   "metadata": {},
   "outputs": [
    {
     "name": "stdout",
     "output_type": "stream",
     "text": [
      "111000\n",
      "70\n",
      "38\n"
     ]
    }
   ],
   "source": [
    "a = 56\n",
    "print(f'{a:b}')\n",
    "print(f'{a:o}')\n",
    "print(f'{a:x}')"
   ]
  },
  {
   "cell_type": "markdown",
   "id": "10984dc5",
   "metadata": {},
   "source": [
    "Также разрешены вложенные f-строки\n",
    "И существиют сдвиги влево-вправо (`<`/`>`)"
   ]
  },
  {
   "cell_type": "code",
   "execution_count": 35,
   "id": "c67d5203",
   "metadata": {},
   "outputs": [
    {
     "name": "stdout",
     "output_type": "stream",
     "text": [
      "      3.14\n",
      "3.14      \n"
     ]
    }
   ],
   "source": [
    "print(f\"{f'{pi:.2f}':>10}\")\n",
    "print(f\"{f'{pi:.2f}':<10}\")"
   ]
  },
  {
   "cell_type": "markdown",
   "id": "da0c181c",
   "metadata": {},
   "source": [
    "#### Срезы\n",
    "\n",
    "**Срезы (slices)** также определены и для строк.\n",
    "$$ str[start=0 : end=len(str) : step=1]$$"
   ]
  },
  {
   "cell_type": "code",
   "execution_count": 36,
   "id": "4c4a6797",
   "metadata": {},
   "outputs": [
    {
     "data": {
      "text/plain": [
       "'ABACCAB11AA'"
      ]
     },
     "execution_count": 36,
     "metadata": {},
     "output_type": "execute_result"
    }
   ],
   "source": [
    "s = 'abaccab11aa'\n",
    "s.upper()"
   ]
  },
  {
   "cell_type": "code",
   "execution_count": 37,
   "id": "e04fb6d9",
   "metadata": {},
   "outputs": [
    {
     "name": "stdout",
     "output_type": "stream",
     "text": [
      "abr\n",
      "arcd\n",
      "baaar\n",
      "aadr\n",
      "arbadacarba\n"
     ]
    }
   ],
   "source": [
    "s = 'abracadabra'\n",
    "print(s[0:3])\n",
    "print(s[0:7:2])\n",
    "print(s[1::2]) \n",
    "print(s[::3])\n",
    "print(s[::-1])"
   ]
  },
  {
   "cell_type": "markdown",
   "id": "a4cafdb5",
   "metadata": {},
   "source": [
    "***\n",
    "### Множества"
   ]
  },
  {
   "cell_type": "markdown",
   "id": "3b965f35",
   "metadata": {},
   "source": [
    "**Множество (set)** - это набор уникальных элементов, с Python 3.7 упорядоченный.\n",
    "Например, если мы составим множество из `lst = [0, 1, 1, 2, 4]`, то `set = {0, 1, 2, 4}`\n",
    "\n",
    "Инициализировать `set` мы можем так:"
   ]
  },
  {
   "cell_type": "code",
   "execution_count": 38,
   "id": "04cf2c4b",
   "metadata": {},
   "outputs": [
    {
     "name": "stdout",
     "output_type": "stream",
     "text": [
      "<class 'set'>\n",
      "{0, 1, 2, 4}\n",
      "set()\n",
      "{0, 1, 2, 4}\n"
     ]
    }
   ],
   "source": [
    "st = {4, 0, 1, 1, 2}\n",
    "print(type(st))\n",
    "print(st)\n",
    "\n",
    "st = set()\n",
    "print(st)\n",
    "\n",
    "st = set([0, 1, 2, 1, 4])\n",
    "print(st)"
   ]
  },
  {
   "cell_type": "markdown",
   "id": "9072bf22",
   "metadata": {},
   "source": [
    "Давайте рассмотрим методы множеств.\n",
    "\n",
    "+ `add(elem)` \\- добавляется элемент в сет\n",
    "+ `pop()` \\- удаляет произвольный элемент из сета и возвращает его\n",
    "\n",
    "+ `discard(elem)` \\- удаляет элемент из сета, если его нет, то ничего не делает\n",
    "+ `remove(elem)` \\- удаляет элемент из сета, если его нет, то вызывает ошибку\n",
    "\n",
    "+ `copy()` \\- копирует сет, выделяя новую память под элементы\n",
    "+ `clear()` \\- удаляет все элементы сета"
   ]
  },
  {
   "cell_type": "code",
   "execution_count": 41,
   "id": "49301ab7",
   "metadata": {},
   "outputs": [
    {
     "name": "stdout",
     "output_type": "stream",
     "text": [
      "{1, 2, 3, 4}\n",
      "{1, 2, 3, 4}\n",
      "{1, 2, 4}\n",
      "{1, 2, 4}\n",
      "{1, 2, 4} {1, 2, 4}\n",
      "1\n",
      "{1, 2, 4} {2, 4}\n",
      "set()\n"
     ]
    }
   ],
   "source": [
    "st = {1, 2, 3}\n",
    "st.add(4)\n",
    "print(st)\n",
    "st.add(3)\n",
    "print(st)\n",
    "st.remove(3)\n",
    "print(st)\n",
    "st.discard(0)\n",
    "print(st)\n",
    "st2 = st.copy()\n",
    "print(st, st2)\n",
    "print(st2.pop())\n",
    "print(st, st2)\n",
    "st2.clear()\n",
    "print(st2)"
   ]
  },
  {
   "cell_type": "markdown",
   "id": "aea2dea8",
   "metadata": {},
   "source": [
    "Можества можно пересекать, объединять и т.д. Для этого есть функции\n",
    "\n",
    "+ `difference()`\\- Возвращает новое множество, содержащее элементы из первого множества, которых нет во втором множестве.\n",
    "\n",
    "+ `difference_update()`\n",
    "   \\- Удаляет из первого множества все элементы, которые есть во втором множестве.\n",
    "\n",
    "+ `symmetric_difference()`\n",
    "   \\- Возвращает новое множество, содержащее элементы, которые есть только в одном из множеств.\n",
    "\n",
    "+ `symmetric_difference_update()`\n",
    "   \\- Обновляет первое множество, оставляя в нем только элементы, которые есть только в одном из множеств.\n",
    "\n",
    "+ `intersection()`\n",
    "   \\- Возвращает новое множество, содержащее элементы, которые есть в обоих множествах.\n",
    "\n",
    "+ `intersection_update()`\n",
    "   \\- Обновляет первое множество, оставляя в нем только элементы, которые есть в обоих множествах.\n",
    "\n",
    "+ `union()`\n",
    "   \\- Возвращает новое множество, содержащее все элементы из обоих множеств, без дубликатов.\n",
    "   \n",
    "+ `issubset()`\n",
    "   \\- Возвращает True, если все элементы первого множества содержатся во втором множестве.\n",
    "\n",
    "+ `issuperset()`\n",
    "   \\- Возвращает True, если все элементы второго множества содержатся в первом множестве.\n",
    "\n",
    "+ `update()`\n",
    "    \\- Добавляет в первое множество все элементы из второго множества."
   ]
  },
  {
   "attachments": {
    "image-2.png": {
     "image/png": "[encoded data removed]"
    }
   },
   "cell_type": "markdown",
   "id": "dd8e1cdb",
   "metadata": {},
   "source": [
    "![image-2.png](attachment:image-2.png)"
   ]
  },
  {
   "cell_type": "code",
   "execution_count": 43,
   "id": "494b741e",
   "metadata": {},
   "outputs": [
    {
     "name": "stdout",
     "output_type": "stream",
     "text": [
      "difference: {1, 2}\n",
      "difference_update: {1, 2}\n",
      "symmetric_difference: {1, 2, 3, 4, 5, 6}\n",
      "symmetric_difference_update: {1, 2, 3, 4, 5, 6}\n",
      "intersection: {3, 4, 5, 6}\n",
      "intersection_update: {3, 4, 5, 6}\n",
      "issubset: True\n",
      "issuperset: True\n",
      "union: {3, 4, 5, 6}\n",
      "update: {3, 4, 5, 6}\n"
     ]
    }
   ],
   "source": [
    "set1 = {1, 2, 3, 4}\n",
    "set2 = {3, 4, 5, 6}\n",
    "\n",
    "print(\"difference:\", set1.difference(set2))\n",
    "\n",
    "set1.difference_update(set2)\n",
    "print(\"difference_update:\", set1)\n",
    "\n",
    "print(\"symmetric_difference:\", set1.symmetric_difference(set2))\n",
    "\n",
    "set1.symmetric_difference_update(set2)\n",
    "print(\"symmetric_difference_update:\", set1)\n",
    "\n",
    "print(\"intersection:\", set1.intersection(set2))\n",
    "\n",
    "set1.intersection_update(set2)\n",
    "print(\"intersection_update:\", set1)\n",
    "\n",
    "print(\"issubset:\", set1.issubset(set2))\n",
    "\n",
    "print(\"issuperset:\", set1.issuperset(set2))\n",
    "\n",
    "print(\"union:\", set1.union(set2))\n",
    "\n",
    "set1.update(set2)\n",
    "print(\"update:\", set1)"
   ]
  },
  {
   "cell_type": "markdown",
   "id": "eab3b078",
   "metadata": {},
   "source": [
    "В множества можно добавлять только неизменяемые объекты (числа, строки, кортежи) и нельзя изменяемые (списки, множества).\n",
    "Так как неизменяемые объекты правильно реализуют методы `__hash__`(хэш для хэш-функций) и `__eq__`(эквивалентность). О том как реализваны множества и об этих методах поговорим сегодня немного позже."
   ]
  },
  {
   "cell_type": "code",
   "execution_count": null,
   "id": "bba2fbab",
   "metadata": {},
   "outputs": [],
   "source": [
    "# Что делать нельзя?\n",
    "\n",
    "st = {[1, 2]}\n",
    "st = {set([1, 2])}\n",
    "st = {{1: 'one', 2: 'two'}} # Это словарь, о нем речь пойдет далее\n",
    "\n",
    "# В каждой строчке будет выдана ошибка"
   ]
  },
  {
   "cell_type": "markdown",
   "id": "37a29445",
   "metadata": {},
   "source": [
    "***\n",
    "### Словари"
   ]
  },
  {
   "cell_type": "markdown",
   "id": "6f6acfda",
   "metadata": {},
   "source": [
    "**Словарь (dictionary, dict)** - это коллекция, которая содержит пары - \n",
    "\n",
    "$${ \\{ключ: значение\\} }.$$ \n",
    "\n",
    "Каждому ключу соответствует значение.\n",
    "\n",
    "Все ключи уникальны!\n",
    "\n",
    "Так же как и множества с Python 3.7 сохраняют упорядоченность."
   ]
  },
  {
   "cell_type": "code",
   "execution_count": 45,
   "id": "d6c8a8f6",
   "metadata": {},
   "outputs": [
    {
     "name": "stdout",
     "output_type": "stream",
     "text": [
      "{}\n",
      "{1: 'one', 2: 'two', 3: 'three'}\n"
     ]
    }
   ],
   "source": [
    "dct = dict()\n",
    "print(dct)\n",
    "\n",
    "dct = {1: 'one', 2: 'two', 3: 'three'}\n",
    "print(dct)"
   ]
  },
  {
   "cell_type": "markdown",
   "id": "e4ad4833",
   "metadata": {},
   "source": [
    "Мы можем обращаться к значениям по ключам, т.к. они уникальны обращаемся к ним подобно индексам в списках"
   ]
  },
  {
   "cell_type": "code",
   "execution_count": 46,
   "id": "3b159e9f",
   "metadata": {},
   "outputs": [
    {
     "name": "stdout",
     "output_type": "stream",
     "text": [
      "two\n",
      "{1: 'one', 2: 'two', 3: 'two'}\n"
     ]
    }
   ],
   "source": [
    "print(dct[2])\n",
    "\n",
    "dct[3] = 'two'\n",
    "print(dct)"
   ]
  },
  {
   "cell_type": "code",
   "execution_count": 47,
   "id": "d0e76526",
   "metadata": {},
   "outputs": [
    {
     "ename": "KeyError",
     "evalue": "4",
     "output_type": "error",
     "traceback": [
      "\u001b[1;31m---------------------------------------------------------------------------\u001b[0m",
      "\u001b[1;31mKeyError\u001b[0m                                  Traceback (most recent call last)",
      "Cell \u001b[1;32mIn [47], line 2\u001b[0m\n\u001b[0;32m      1\u001b[0m \u001b[38;5;66;03m# Но если обратиться к несуществующему ключу\u001b[39;00m\n\u001b[1;32m----> 2\u001b[0m \u001b[43mdct\u001b[49m\u001b[43m[\u001b[49m\u001b[38;5;241;43m4\u001b[39;49m\u001b[43m]\u001b[49m\n",
      "\u001b[1;31mKeyError\u001b[0m: 4"
     ]
    }
   ],
   "source": [
    "# Но если обратиться к несуществующему ключу\n",
    "dct[4]"
   ]
  },
  {
   "cell_type": "code",
   "execution_count": 48,
   "id": "08888ee1",
   "metadata": {},
   "outputs": [
    {
     "name": "stdout",
     "output_type": "stream",
     "text": [
      "two\n",
      "None\n"
     ]
    }
   ],
   "source": [
    "# Чтобы этого избежать используем метод get()\n",
    "print(dct.get(3))\n",
    "print(dct.get(4))"
   ]
  },
  {
   "cell_type": "markdown",
   "id": "4cf29147",
   "metadata": {},
   "source": [
    "NONE - это пустое значение, проще сказать \"ничего не найдено\", и ошибка не вызывается"
   ]
  },
  {
   "cell_type": "markdown",
   "id": "502d42e4",
   "metadata": {},
   "source": [
    "Также мы можем проходиться по всем ключам (keys), значениям (values) и вразу паре (items)"
   ]
  },
  {
   "cell_type": "code",
   "execution_count": 49,
   "id": "40e18bfb",
   "metadata": {},
   "outputs": [
    {
     "name": "stdout",
     "output_type": "stream",
     "text": [
      "1 2 3\n",
      "one two two\n",
      "(1, 'one') (2, 'two') (3, 'two')\n"
     ]
    }
   ],
   "source": [
    "print(*dct.keys())\n",
    "print(*dct.values())\n",
    "print(*dct.items())"
   ]
  },
  {
   "cell_type": "markdown",
   "id": "e08a5b95",
   "metadata": {},
   "source": [
    "Какие еще методы есть у словарей?\n",
    "+ pop() \\- удаляет элемент по ключу и возвращает значение\n",
    "+ popintem() \\- удаляет случайный элемент и возврачает пару (ключ : значение)\n",
    "+ clear() \\- удаляет все пары\n",
    "+ copy() \\- копирует словарь\n",
    "+ update() \\- возвращает список всех доступных значений"
   ]
  },
  {
   "cell_type": "code",
   "execution_count": 50,
   "id": "31b69847",
   "metadata": {},
   "outputs": [
    {
     "name": "stdout",
     "output_type": "stream",
     "text": [
      "{1: 'one', 2: 'two', 3: 'two'}\n",
      "one\n",
      "(3, 'two')\n",
      "(2, 'two') (3, 'two')\n",
      "(1, 'one') (2, 'two')\n",
      "{}\n"
     ]
    }
   ],
   "source": [
    "dct2 = dct.copy()\n",
    "print(dct2)\n",
    "print(dct.pop(1))\n",
    "print(dct2.popitem())\n",
    "print(*dct.items())\n",
    "print(*dct2.items())\n",
    "dct.clear()\n",
    "print(dct)"
   ]
  },
  {
   "cell_type": "markdown",
   "id": "af33333b",
   "metadata": {},
   "source": [
    "***\n",
    "### Сложность"
   ]
  },
  {
   "cell_type": "markdown",
   "id": "f06532b6",
   "metadata": {},
   "source": [
    "Сложность алгоритма - это попытка измерить его эффективность. Это может быть как время, так и память, которые требуются для выполнения алгоритма в зависимости от размера входных данных.Грубо говоря, это оценка того, насколько быстро или медленно работает алгоритм и сколько памяти он потребляет при обработке данных.\n",
    "\n",
    "В общем случае сложность алгоритма оценивается в количестве операций, которые алгоритм выполняет, но так как входные данные могут быть разными, нам нужно вывести формулу, которая зависит от них.\n",
    "Важным фактором может быть не только количество операций, но и время, которое требуется для выполнения каждой операции.\n",
    "\n",
    "Если же алгоритм никак не зависит от входных данных, то его сложность называется константной. Оценкой алгоритма записывается как O(чего-то), это оценка сложности - \"О-большое\".\n",
    "Константная - это $$O(1).$$ Есть так же линейный алгоритм - $$O(n),$$ логарифмический - $$O(log n), $$ квадратичный - $$O(n^2).$$\n",
    "\n",
    "Давайте посмотрим на примере:\n",
    "Дана строка `s` длиной $$n$$. Выведите его длину.\n",
    "\n",
    "```\n",
    "n = len(s)\n",
    "print('Длина входной строки равна: n')\n",
    "```\n",
    "\n",
    "`n` - это размер входных данных. \n",
    "Алгоритм не зависит от того, какой длины будет эта строка.\n",
    "Его сложность - `O(1)`\n",
    "\n",
    "Другой пример:\n",
    "Нам дан список чисел длиной `n`. Выведите сумму всех элементов списка.\n",
    "\n",
    "```\n",
    "lst = [int(i) for i in input().split(' ')]\n",
    "sum = 0\n",
    "for a in lst:\n",
    "    sum += a\n",
    "print(sum)\n",
    "```\n",
    "`n` - это размер входных данных. \n",
    "Мы прошлись по списку длинной `n` и сделали несколько операций на каждом шаге. То есть `O(const * n) = O(n)`, так как константа не зависит от `n`.\n",
    "\n",
    "Давайте рассмотрим еще один пример:\n",
    "На вход подают одно число `1 < n < 30`. Вывести таблицу умножения от 1 до `n`.\n"
   ]
  },
  {
   "cell_type": "code",
   "execution_count": 51,
   "id": "88ec8505",
   "metadata": {},
   "outputs": [
    {
     "name": "stdout",
     "output_type": "stream",
     "text": [
      "Ввеите число: 10\n",
      "   1    2    3    4    5    6    7    8    9   10 \n",
      "   2    4    6    8   10   12   14   16   18   20 \n",
      "   3    6    9   12   15   18   21   24   27   30 \n",
      "   4    8   12   16   20   24   28   32   36   40 \n",
      "   5   10   15   20   25   30   35   40   45   50 \n",
      "   6   12   18   24   30   36   42   48   54   60 \n",
      "   7   14   21   28   35   42   49   56   63   70 \n",
      "   8   16   24   32   40   48   56   64   72   80 \n",
      "   9   18   27   36   45   54   63   72   81   90 \n",
      "  10   20   30   40   50   60   70   80   90  100 \n"
     ]
    }
   ],
   "source": [
    "n = int(input('Ввеите число: '))\n",
    "for i in range(1, n + 1):\n",
    "    for j in range(1, n + 1):\n",
    "        c = ' '\n",
    "        if i * j < 10:\n",
    "            c *= 3\n",
    "        elif 100 > i * j >= 10:\n",
    "            c *= 2\n",
    "        print(c, i * j, sep ='', end = ' ')\n",
    "    print()"
   ]
  },
  {
   "cell_type": "markdown",
   "id": "9c74475f",
   "metadata": {},
   "source": [
    "Получается проходимся в диапазоне от 1 до `n` и на каждом шаге проходимся ещё раз по такому же диапазону. Получается квадратичная сложность - $$O(n^2).$$"
   ]
  },
  {
   "cell_type": "markdown",
   "id": "38668756",
   "metadata": {},
   "source": [
    "***\n",
    "### Сортировки"
   ]
  },
  {
   "cell_type": "markdown",
   "id": "c8013f42",
   "metadata": {},
   "source": [
    "Теперь когда разобрались с сложностью, давайте поговорим о сортировках.\n",
    "\n",
    "Сортировка - это процесс упорядочивания элементов в коллекции в определенном порядке, обычно по возрастанию или убыванию. Она нужна для того, чтобы упростить поиск, обработку и анализ данных, некоторые алгоритмы вообще не могут работать на неотсортированных коллекциях.\n",
    "\n",
    "Методов сортировок множество и с разной сложностью.\n",
    "Сегодня мы посмотрим парочку из них. Будем смотреть на примере сортировки списков."
   ]
  },
  {
   "cell_type": "markdown",
   "id": "69a031bc",
   "metadata": {},
   "source": [
    "***\n",
    "#### Сортировка пузырьком"
   ]
  },
  {
   "cell_type": "markdown",
   "id": "0fc93153",
   "metadata": {},
   "source": [
    "**Метод сортировки пузырьком (Bubble Sort)** - это один из простых алгоритмов сортировки.\n",
    "Смысл заключается в том, что мы идем по списку, и, если следующий элемент меньше текущего, мы меняем элементы местами, так делаем пока не дойдем до `n`-того элемента. Повторяем пока массив не отсортируется, в худшем случае это n интерация.\n",
    "\n",
    "Посмотрим на примере:\n",
    "\n",
    "    Нам дан массив.\n",
    "    `[1 , 7, 5, 4, 3]`\n",
    "\n",
    "    Делаем проверки:\n",
    "\n",
    "    `1 < 7` - Правда\n",
    "    `7 < 5` - Ложь, меняем их местами\n",
    "    `7 < 4` - Ложь, меняем их местами\n",
    "    `7 < 3` - Ложь, меняем их местами\n",
    "    \n",
    "    По итогу получаем такой список.\n",
    "    `[1, 5, 4, 3, 7]` \n",
    "\n",
    "    Видим, что наибольший элемент как-бы всплывает вверх как пузырек.\n",
    "    \n",
    "    Продолжаем:\n",
    "    Один элемент поставили на свое место, не считая этого элемента, наибольший теперь равен 5. Мы протаскиваем его до уже поставленных элементов. Получаем:\n",
    "    `[1, 4, 3, 5, 7]`\n",
    "    \n",
    "    Дальше наибольший уже 4, протаскиваем его.\n",
    "    `[1, 3, 4, 5, 7]`\n",
    "    \n",
    "    Проходимся ещё раз и убеждаемся, что все элементы упорядочены. \n",
    "    То есть нам потребовалось 4 итерации, чтобы отсортировать список.\n",
    "    \n",
    "Теперь давайте посчитаем сложность:\n",
    "Худший случай для нас, когда список отсортирован по убыванию, получается все элементы не на своих местах. \n",
    "Значит на первой итерации мы совершим (n-1) обмен.\n",
    "На следующей совершим уже (n-2) обмена.\n",
    "Таким образом, мы будем совершать обмены, пока количество не будет 1.\n",
    "\n",
    "Получается $$(n-1) + (n-2) + ... + 2 + 1 = \\frac{ (n - 1) (n - 1 + 1)} {2} = \\frac{n^2 - n}{2} $$ и это еще умножить на константу.\n",
    "\n",
    "0.5 - это константа, $$n < 1 * n^2$$. 1 - это тоже константа, следовательно сложность - $$O(n^2)$$"
   ]
  },
  {
   "cell_type": "markdown",
   "id": "ad390038",
   "metadata": {},
   "source": [
    "***\n",
    "#### Сортировка выбором"
   ]
  },
  {
   "cell_type": "markdown",
   "id": "ab76067c",
   "metadata": {},
   "source": [
    "**Сортировка выбором (Selection Sort)** - это тоже алгоритм сортировки, который проходит по списку и на каждом шаге находит максимальный элемент и меняет его с последним неотсортированным с конца списка. После этого найденный элемент считается отсортированным, и процесс повторяется для оставшихся элементов.\n",
    "\n",
    "Посмотрим на примере:\n",
    "\n",
    "    Нам дан массив.\n",
    "    `[1 , 7, 5, 4, 3]`\n",
    "\n",
    "    Проходимся по списку и находим максимальный элемент, и так как список еще не отсортирован, меняем его с последним элементом.\n",
    "    Наибольший элемент 7. Мы меняем его с 3.\n",
    "    \n",
    "    По итогу получаем такой список.\n",
    "    `[1, 3, 5, 4, 7]` \n",
    "\n",
    "    Продолжаем:\n",
    "    Теперь отсортированная часть массива [7]\n",
    "    Неотсортированная [1, 3, 5, 4]\n",
    "    \n",
    "    Наибольший элемент в неотсортированном списке 5, последний элемент 4.\n",
    "    Меняем их местами.\n",
    "    Получаем:\n",
    "    `[1, 3, 4, 5, 7]`\n",
    "    \n",
    "    Проходимся ещё раз и убеждаемся, что все элементы упорядочены. \n",
    "    То есть нам потребовалось 3 итерации, чтобы отсортировать список.\n",
    "\n",
    "\n",
    "Теперь давайте посчитаем сложность:\n",
    "\n",
    "Худший случай такой же как и в Buble Sort, когда список отсортирован по убыванию, получается все элементы не на своих местах. \n",
    "Чтобы найти максимальный элемент, нам необходимо пройти по неотсортированной части массива.\n",
    "Значит, на первой итерации мы пройдемся по всему списку длины n и сделаем один обмен.\n",
    "На следующей длина неотсортированного массива уже (n-1).\n",
    "Таким образом, мы будем совершать обмены, пока длина не будет равна 1.\n",
    "\n",
    "Получается $$ n + (n-1) + ... + 2 + 1 = \\frac{ n (n + 1)}{2} = $$ \n",
    "$$ = \\frac{n^2 + n}{2} < \\frac{n^2 + n^2}{2} = n^2$$\n",
    "\n",
    "Следовательно сложность - $$O(n^2)$$"
   ]
  },
  {
   "cell_type": "markdown",
   "id": "4a82bf02",
   "metadata": {},
   "source": [
    "#### Поговорим и о других алгоритмах сортировки"
   ]
  },
  {
   "cell_type": "markdown",
   "id": "e0e4f0b3",
   "metadata": {},
   "source": [
    "**Квиксорт (Quick Sort)** - это алгоритм сортировки, который использует метод \"разделяй и властвуй\". Он был разработан в 1959 году Тони Хоаром и с тех пор стал одним из самых широко используемых и эффективных алгоритмов сортировки.\n",
    "\n",
    "Квиксорт обладает хорошей производительностью в среднем и лучшем случае, когда его асимптотическая сложность составляет O(n log n). Однако в худшем случае его сложность может достигать O(n^2), что происходит, например, когда опорный элемент выбирается неправильно и алгоритм неэффективно разделяет список.\n",
    "\n",
    "Хотя Квиксорт является одним из самых быстрых алгоритмов сортировки в среднем случае, существуют и другие алгоритмы сортировки, такие как сортировка слиянием и тимсорт, которые также эффективны и могут быть даже более устойчивыми к худшему случаю. Какая из них является наилучшей, зависит от конкретной задачи и входных данных.\n",
    "\n",
    "В ранних версиях Python функция sort реализовала модифицированную версию quicksort . Однако в версии 2.3 он был заменен адаптивным алгоритмом сортировки слиянием, чтобы обеспечить стабильную сортировку по умолчанию."
   ]
  },
  {
   "cell_type": "markdown",
   "id": "46588fda",
   "metadata": {},
   "source": [
    "### Хэш-таблицы"
   ]
  },
  {
   "cell_type": "markdown",
   "id": "d34b0ad8",
   "metadata": {},
   "source": [
    "Хэш-таблица - это специальная структура данных, которая использует функцию хэширования, чтобы каждому неизменяемому объекту присвоить уникальное числовое значение, называемое хэшем.\n",
    "\n",
    "В хэш-таблице каждый элемент хранится по некоторому уникальному ключу, который хэшируется в индекс массива. Это позволяет быстро найти элемент по ключу без необходимости просмотра всего списка. Что-то вроде словаря, где ключ - хэш.\n",
    "\n",
    "В Python хэш-таблицы используются в словарях и множествах.\n",
    "Когда мы добавляем элемент в словарь или множество, Python вычисляет хэш от ключа (в случае словарей) или самого элемента (в случае множеств), использует этот хэш для определения индекса в хэш-таблице, и помещает элемент в соответствующую ячейку массива. При поиске элемента Python также использует хэш для быстрого определения соответствующей ячейки и быстрого доступа к элементу.\n",
    "\n",
    "Таким образом, использование хэш-таблиц позволяет Python эффективно работать с большими коллекциями данных и обеспечивает быстрый доступ к элементам по ключу или значению.\n",
    "\n",
    "Списки (Lists):\n",
    "   - Доступ по индексу: O(1)\n",
    "   - append(): O(1)\n",
    "   - insert(): O(n) - в среднем и худшем случае\n",
    "   - Удаление элемента по значению: O(n)\n",
    "   - Поиск элемента: O(n)\n",
    "   - sort(): O(n log n) - в среднем случае, O(n^2) - в худшем случае\n",
    "\n",
    "Множества (Sets):\n",
    "   - add(): O(1)\n",
    "   - remove(): O(1)\n",
    "   - Поиск элемента: O(1)\n",
    "   \n",
    "Словари (Dictionaries):\n",
    "   - Добавление элемента: O(1) в среднем случае, O(n) в худшем случае\n",
    "   - Доступ по ключу: O(1) в среднем случае, O(n) в худшем случае\n",
    "   - Удаление элемента: O(1) в среднем случае, O(n) в худшем случае\n",
    "  \n",
    "Итак, сравнив сложности этих структур, мы можем заметить насколько быстрее структуры с использованием хэш-таблиц в добавлении, удалении и поиске элемента. Но у каждой структуры есть свои минусы и плюсы, поэтому стоит выбирать структуру более подходящую к определенной задаче.\n"
   ]
  },
  {
   "cell_type": "markdown",
   "id": "7eba1223",
   "metadata": {},
   "source": [
    "***\n",
    "### Заключение"
   ]
  },
  {
   "cell_type": "markdown",
   "id": "6d2ed912",
   "metadata": {},
   "source": [
    "На сегодняшней лекции мы узнали о:\n",
    "+ if-else конструкциях\n",
    "+ циклах: While, For\n",
    "+ методах и срезах списков и строк\n",
    "+ f-строках\n",
    "+ множествах и словарях\n",
    "\n",
    "Поговорили также о:\n",
    "+ сложности алгоритмов\n",
    "+ сортировках: Пузырьком и Выбором\n",
    "+ хэш-таблицах\n"
   ]
  }
 ],
 "metadata": {
  "kernelspec": {
   "display_name": "Python 3 (ipykernel)",
   "language": "python",
   "name": "python3"
  },
  "language_info": {
   "codemirror_mode": {
    "name": "ipython",
    "version": 3
   },
   "file_extension": ".py",
   "mimetype": "text/x-python",
   "name": "python",
   "nbconvert_exporter": "python",
   "pygments_lexer": "ipython3",
   "version": "3.10.11"
  }
 },
 "nbformat": 4,
 "nbformat_minor": 5
}
