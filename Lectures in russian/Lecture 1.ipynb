{
 "cells": [
  {
   "cell_type": "markdown",
   "id": "261183ac",
   "metadata": {},
   "source": [
    "# Лекция 1"
   ]
  },
  {
   "cell_type": "markdown",
   "id": "73de611b",
   "metadata": {},
   "source": [
    "***\n",
    "### Язык программирования Python"
   ]
  },
  {
   "cell_type": "markdown",
   "id": "03de3427",
   "metadata": {},
   "source": [
    " "
   ]
  },
  {
   "cell_type": "markdown",
   "id": "85cb9c67",
   "metadata": {},
   "source": [
    "В наше время программирование становится все более важным навыком, необходимым в\n",
    "различных сферах деятельности.\n",
    "Язык **Python**, благодаря своей простоте и мощности, стал\n",
    "одним из **самых популярных** инструментов для обучения программированию среди начинающих и опытных разработчиков. \n",
    "\n",
    "По результатам исследования учебного центра IBS в *2023*\n",
    "году **Python** стал самым востребованным языком программирования в России. Python имеет **наибольшее количество** объявлений вакансий на Glassdoor и Indeed (всемирных сайтах\n",
    "по трудоустройству).\n",
    "\n",
    "Больше пяти лет **Python входит в тройку самых популярных языков** и в\n",
    "зарубежных рейтингах, и в российских. С каждым годом становится все больше желающих\n",
    "изучить этот язык.\n",
    "\n",
    "На языке **Python** написаны *миллионы* строчек кода, его используюь в самых разных областях: веб-разработка, научные вычисления, анализ данных, искусственный интелект, машинное обучение, автоматизация задач и многое другое.\n",
    "\n",
    "Самым главным преимуществом этого языка программирования является **простота и читаемость**. Синтаксис **Python** прост и интуитивно понятен, благодаря этому миллионы людей выбирают его. Эти же свойства делают его *отличным ЯП для начинающих* и опытных программистов."
   ]
  },
  {
   "cell_type": "markdown",
   "id": "4e042eb9",
   "metadata": {},
   "source": [
    "***\n",
    "### Динамическая типизация"
   ]
  },
  {
   "cell_type": "markdown",
   "id": "c7aa742f",
   "metadata": {},
   "source": [
    "Небольшое определение:\n",
    "\n",
    "*Что такое переменная?*\n",
    "\n",
    "*Переменная - это просто имя для какой-то информации, которую программа хранит и использует. \n",
    "Например, если вы хотите сохранить возраст пользователя, вы можете создать переменную с именем \"возраст\" и присвоить ей значение, например, 25. Теперь вы можете использовать это имя, чтобы получить или изменить возраст в программе.*\n",
    "\n",
    "**Динамическая типизация** - это когда тип переменной определяется, когда вы присваиваете ей значение. Например, если вы записываете число в переменную, она становится числом. Если записываете в нее же текст, то становится текстом.\n",
    "\n",
    "**Статическая типизация** - это когда тип переменной определяется, когда вы создаёте её. И этот тип не меняется. Если вы создали переменную и указали, что в ней будет число, то она всегда будет содержать число, и вы не сможете в неё записать, например, текст.\n",
    "\n",
    "**Python** относится к языкам программирования с *динамической типизацией*, вместе с такими языка как JavaScript и Ruby.\n",
    "Со статической типизацией являются такие языки C++, C, Java, Pascal. "
   ]
  },
  {
   "cell_type": "markdown",
   "id": "39a4e836",
   "metadata": {},
   "source": [
    "\n",
    "\n",
    "\n",
    "#### **Посмотрим на примере**\n",
    "\n",
    "Чтобы объявить переменную в Python, нам не нужно указывать ее тип, просто пишем:"
   ]
  },
  {
   "cell_type": "code",
   "execution_count": 1,
   "id": "dfbff6da",
   "metadata": {},
   "outputs": [
    {
     "data": {
      "text/plain": [
       "1"
      ]
     },
     "execution_count": 1,
     "metadata": {},
     "output_type": "execute_result"
    }
   ],
   "source": [
    "a = 1\n",
    "a #В jupyter-notebook это просто вывод значения переменной, равносильно print(a), т.е. мы распечатали значение"
   ]
  },
  {
   "cell_type": "markdown",
   "id": "271af234",
   "metadata": {},
   "source": [
    "Чтобы объявить перемнную в C++, Java или Pascal, сначала указываем тип переменной `integer` в данном случае, а после уже пишем ее имя `a` и присваиваем ей значение:"
   ]
  },
  {
   "cell_type": "markdown",
   "id": "8b87459f",
   "metadata": {},
   "source": [
    "```\n",
    "int a = 1;       // C++ or Java\n",
    "\n",
    "\n",
    "var:\n",
    "    a : Integer;\n",
    "...\n",
    "    a := 1;      // Pascal\n",
    "    \n",
    "```"
   ]
  },
  {
   "cell_type": "markdown",
   "id": "6784b3b4",
   "metadata": {},
   "source": [
    "Как же все-таки хранится и достается значение переменной?\n",
    "В Python у переменной имеется ссылка на объект в памяти, при этом самого типа нет.\n",
    "\n",
    "Поэтому мы можем даже писать так\n"
   ]
  },
  {
   "cell_type": "code",
   "execution_count": 2,
   "id": "57696b48",
   "metadata": {},
   "outputs": [],
   "source": [
    "a = 1\n",
    "a = 'rabbit'"
   ]
  },
  {
   "cell_type": "markdown",
   "id": "afeaa81d",
   "metadata": {},
   "source": [
    "1) если `а` была объявлена впервые, то создается переменная, которая ссылается на целое число `1`\n",
    "2) в это1 строчке мы удаляем предыдущую ссылку и создаем новую, которая указывает на строку `rabbit`"
   ]
  },
  {
   "cell_type": "markdown",
   "id": "8de087a6",
   "metadata": {},
   "source": [
    "```\n",
    "1) a----> 1\n",
    "\n",
    "2)        1\n",
    "   a----> rabbit\n",
    "```"
   ]
  },
  {
   "cell_type": "markdown",
   "id": "ea21471c",
   "metadata": {},
   "source": [
    "Рассмотрим другой пример:"
   ]
  },
  {
   "cell_type": "code",
   "execution_count": 3,
   "id": "488bf0af",
   "metadata": {},
   "outputs": [],
   "source": [
    "a = 1\n",
    "b = a\n",
    "a = 'rabbit'"
   ]
  },
  {
   "cell_type": "markdown",
   "id": "bf8e4b61",
   "metadata": {},
   "source": [
    "1) Создается переменная `a`, ссылка указывает на `1`\n",
    "2) Создается переменная `b`и она ссылается на тот же объект, что и `a` на `1`\n",
    "3) Теперь `a` ссылается на другой объект `rabbit`, а `b` все так же ссылается на `1`"
   ]
  },
  {
   "cell_type": "markdown",
   "id": "d6c38e38",
   "metadata": {},
   "source": [
    "```\n",
    "1)\n",
    "    a ---> 1\n",
    "\n",
    "2) \n",
    "    a ---> 1 <--- b\n",
    "   \n",
    "3) \n",
    "    b --->1\n",
    "    a ---> rabbit\n",
    "\n",
    "```"
   ]
  },
  {
   "cell_type": "markdown",
   "id": "5fbce09c",
   "metadata": {},
   "source": [
    "****\n",
    "**Что же такое объект?**\n",
    "\n",
    "*Объект - это как контейнер, в котором хранится информация и методы (действия), которые можно с ним выполнять.* \n",
    "Например, если мы говорим об объекте \"кошка\", то в нём может быть информация о цвете, возрасте и методы, такие как \"мурлыкать\" или \"ловить мышей\".\n",
    "\n",
    "Объекты в Python создаются динамически и автоматически управляются сборщиком мусора.\n",
    "\n",
    "Когда вы присваиваете переменной значение, Python создает объект нужного типа в памяти и затем связывает переменную с этим объектом. При этом переменная начинает ссылаться на объект в памяти, который содержит соответствующие данные.\n",
    "\n",
    "Таким образом, переменные в Python фактически являются ссылками на объекты, которые лежат в памяти. Важно отметить, что один и тот же объект может быть доступен через несколько переменных, и изменения, внесенные в одну переменную, будут видны через другие переменные, которые ссылались на этот же объект.\n",
    "***"
   ]
  },
  {
   "cell_type": "markdown",
   "id": "808c88fc",
   "metadata": {},
   "source": [
    "#### Как можно называть переменные и функции?\n",
    "\n",
    "Имена могут содержать буквы (как строчные, так и заглавные), цифры и символ подчеркивания (`_`), но не пробел и не могут начинаться с цифры.\n",
    "Имена чувствительны к регистру, то есть \"foo\" и \"Foo\" будут считаться разными именами.\n",
    "\n",
    "#### Комментарии\n",
    "\n",
    "Что это такое? Комментарии - это пояснение, которое не виден для программы, но помогает добавить объяснение или заметки к коду.\n",
    "\n",
    "Существует два вида комментариев. Однострочные и многострочные.\n",
    "Для однострочных используют `#` до комментария, для многострочных - `\"\"\"` сначала и с конца."
   ]
  },
  {
   "cell_type": "code",
   "execution_count": 132,
   "id": "5fe95409",
   "metadata": {},
   "outputs": [
    {
     "data": {
      "text/plain": [
       "5"
      ]
     },
     "execution_count": 132,
     "metadata": {},
     "output_type": "execute_result"
    }
   ],
   "source": [
    "# Это однострочный комментарий\n",
    "x = 5  # Это комментарий к строке кода\n",
    "   \n",
    "\"\"\"\n",
    "   Это\n",
    "   многострочный\n",
    "   комментарий\n",
    "\"\"\"\n",
    "x"
   ]
  },
  {
   "cell_type": "markdown",
   "id": "fe282907",
   "metadata": {},
   "source": [
    "### Базовые типы и структуры данных"
   ]
  },
  {
   "cell_type": "markdown",
   "id": "5dd8b6d2",
   "metadata": {},
   "source": [
    "***\n",
    "### Bool"
   ]
  },
  {
   "cell_type": "markdown",
   "id": "a2c47fb9",
   "metadata": {},
   "source": [
    "**Bool** - это логическая переменная, которая принимает значения True и False.\n",
    "False - соответствует число 0, а True - 1."
   ]
  },
  {
   "cell_type": "code",
   "execution_count": 4,
   "id": "5c22776a",
   "metadata": {},
   "outputs": [
    {
     "data": {
      "text/plain": [
       "False"
      ]
     },
     "execution_count": 4,
     "metadata": {},
     "output_type": "execute_result"
    }
   ],
   "source": [
    "a = False\n",
    "a"
   ]
  },
  {
   "cell_type": "code",
   "execution_count": 5,
   "id": "893cf19b",
   "metadata": {},
   "outputs": [
    {
     "data": {
      "text/plain": [
       "True"
      ]
     },
     "execution_count": 5,
     "metadata": {},
     "output_type": "execute_result"
    }
   ],
   "source": [
    "b = True\n",
    "b"
   ]
  },
  {
   "cell_type": "markdown",
   "id": "ff7cc5f8",
   "metadata": {},
   "source": [
    "***"
   ]
  },
  {
   "cell_type": "markdown",
   "id": "4ca79bda",
   "metadata": {},
   "source": [
    "### Int"
   ]
  },
  {
   "cell_type": "markdown",
   "id": "ae6081a1",
   "metadata": {},
   "source": [
    "**Int** - это целое число (integer).\n",
    "C числами мы может выполнять арифметические операции, такие как:\n",
    "```\n",
    " +   сложение\n",
    " -   вычитание\n",
    " *   умножение\n",
    " //  целочисленное деление (целая часть от деления)\n",
    " %   остаток от деления\n",
    " ** возведение в степень\n",
    "```"
   ]
  },
  {
   "cell_type": "code",
   "execution_count": 6,
   "id": "f0ecebf7",
   "metadata": {},
   "outputs": [
    {
     "data": {
      "text/plain": [
       "17"
      ]
     },
     "execution_count": 6,
     "metadata": {},
     "output_type": "execute_result"
    }
   ],
   "source": [
    "a = 12\n",
    "b = 5\n",
    "\n",
    "a + b"
   ]
  },
  {
   "cell_type": "code",
   "execution_count": 7,
   "id": "94b48a28",
   "metadata": {},
   "outputs": [
    {
     "data": {
      "text/plain": [
       "7"
      ]
     },
     "execution_count": 7,
     "metadata": {},
     "output_type": "execute_result"
    }
   ],
   "source": [
    "a - b"
   ]
  },
  {
   "cell_type": "code",
   "execution_count": 8,
   "id": "80071d99",
   "metadata": {},
   "outputs": [
    {
     "data": {
      "text/plain": [
       "60"
      ]
     },
     "execution_count": 8,
     "metadata": {},
     "output_type": "execute_result"
    }
   ],
   "source": [
    "a * b"
   ]
  },
  {
   "cell_type": "code",
   "execution_count": 9,
   "id": "79f5e858",
   "metadata": {},
   "outputs": [
    {
     "data": {
      "text/plain": [
       "2"
      ]
     },
     "execution_count": 9,
     "metadata": {},
     "output_type": "execute_result"
    }
   ],
   "source": [
    "a // b"
   ]
  },
  {
   "cell_type": "code",
   "execution_count": 10,
   "id": "dbb91add",
   "metadata": {},
   "outputs": [
    {
     "data": {
      "text/plain": [
       "2"
      ]
     },
     "execution_count": 10,
     "metadata": {},
     "output_type": "execute_result"
    }
   ],
   "source": [
    "a % b"
   ]
  },
  {
   "cell_type": "code",
   "execution_count": 11,
   "id": "42930982",
   "metadata": {},
   "outputs": [
    {
     "data": {
      "text/plain": [
       "248832"
      ]
     },
     "execution_count": 11,
     "metadata": {},
     "output_type": "execute_result"
    }
   ],
   "source": [
    "a ** b"
   ]
  },
  {
   "cell_type": "markdown",
   "id": "8e326680",
   "metadata": {},
   "source": [
    "В переменные можно записывать арифметические выражения и изменять переменную"
   ]
  },
  {
   "cell_type": "code",
   "execution_count": 12,
   "id": "5572bd79",
   "metadata": {},
   "outputs": [
    {
     "data": {
      "text/plain": [
       "(21, 5)"
      ]
     },
     "execution_count": 12,
     "metadata": {},
     "output_type": "execute_result"
    }
   ],
   "source": [
    "a = 8 + 4\n",
    "b = a - 7\n",
    "\n",
    "b = b + 1\n",
    "b += 1       #эти две строки делают одно и тоже\n",
    "\n",
    "#Таким же образом мы можем применять и сокращать другие операции\n",
    "a *= b\n",
    "b -= 2\n",
    "a //= b - 1\n",
    "\n",
    "(a, b)"
   ]
  },
  {
   "cell_type": "code",
   "execution_count": 13,
   "id": "a200842c",
   "metadata": {},
   "outputs": [
    {
     "data": {
      "text/plain": [
       "3"
      ]
     },
     "execution_count": 13,
     "metadata": {},
     "output_type": "execute_result"
    }
   ],
   "source": [
    "# Заметим,что остаток всегда положительный \n",
    "a = -2\n",
    "b = 5\n",
    "\n",
    "a % b"
   ]
  },
  {
   "cell_type": "markdown",
   "id": "127cc714",
   "metadata": {},
   "source": [
    "Так же мы можем работать с числами в разных системах счисления\n",
    "\n",
    "**Двоичная система счисления**:\n",
    "\n",
    "Для объявления числа в двоичной системе используется префикс `0b`.\n",
    "\n",
    "Для преобразования числа из десятичной системы в двоичную можно использовать функцию `bin()`.\n",
    "\n",
    "**Восьмеричная система счисления**:\n",
    "\n",
    "Для объявления числа в восьмеричной системе используется префикс `0o`. \n",
    "\n",
    "Для преобразования числа из десятичной системы в восьмеричную можно использовать функцию `oct()`.\n",
    "\n",
    "**Шестнадцатеричная система счисления**:\n",
    "\n",
    "Для объявления числа в шестнадцатеричной системе используется префикс `0x`.\n",
    "\n",
    "Для преобразования числа из десятичной системы в шестнадцатеричную можно использовать функцию `hex()`."
   ]
  },
  {
   "cell_type": "code",
   "execution_count": 14,
   "id": "4ced577b",
   "metadata": {},
   "outputs": [
    {
     "data": {
      "text/plain": [
       "(10, '0b1010')"
      ]
     },
     "execution_count": 14,
     "metadata": {},
     "output_type": "execute_result"
    }
   ],
   "source": [
    "# Двоичная система\n",
    "bin_num = 0b1010\n",
    "binary_num = bin(10)\n",
    "\n",
    "(bin_num, binary_num)"
   ]
  },
  {
   "cell_type": "code",
   "execution_count": 15,
   "id": "e854ba12",
   "metadata": {},
   "outputs": [
    {
     "data": {
      "text/plain": [
       "(10, '0o12')"
      ]
     },
     "execution_count": 15,
     "metadata": {},
     "output_type": "execute_result"
    }
   ],
   "source": [
    "# Восьмеричная система\n",
    "oct_num = 0o12\n",
    "octal_num = oct(10)\n",
    "\n",
    "(oct_num, octal_num)"
   ]
  },
  {
   "cell_type": "code",
   "execution_count": 16,
   "id": "c103db5a",
   "metadata": {},
   "outputs": [
    {
     "data": {
      "text/plain": [
       "(10, '0xa')"
      ]
     },
     "execution_count": 16,
     "metadata": {},
     "output_type": "execute_result"
    }
   ],
   "source": [
    "# Шестнадцатеричная система\n",
    "hex_num = 0xA\n",
    "hexadecimal_num = hex(10)\n",
    "\n",
    "(hex_num, hexadecimal_num)"
   ]
  },
  {
   "cell_type": "markdown",
   "id": "ed52c0fa",
   "metadata": {},
   "source": [
    "При этом, если вам нужно работать с числами в других системах счисления, вы можете использовать методы преобразования, такие как `int('1010', 3)` для преобразования строки в число в троичной системе или `int('A', 15)` для преобразования строки в число в пятнадцатиричной системе."
   ]
  },
  {
   "cell_type": "code",
   "execution_count": 17,
   "id": "c5944b4c",
   "metadata": {},
   "outputs": [
    {
     "data": {
      "text/plain": [
       "(30, 10)"
      ]
     },
     "execution_count": 17,
     "metadata": {},
     "output_type": "execute_result"
    }
   ],
   "source": [
    "th_num = int('1010', 3)\n",
    "fv_num = int('A', 15)\n",
    "\n",
    "(th_num, fv_num)"
   ]
  },
  {
   "cell_type": "markdown",
   "id": "9ebdd950",
   "metadata": {},
   "source": [
    "***"
   ]
  },
  {
   "cell_type": "markdown",
   "id": "8172ba57",
   "metadata": {},
   "source": [
    "### Float"
   ]
  },
  {
   "cell_type": "markdown",
   "id": "edd82b38",
   "metadata": {},
   "source": [
    "**Float** - число с плавающей точкой. Float имеет структуру хранения числа, сильно отличающуюся от чисел целого типа.\n",
    "\n",
    "Структура числа с плавающей запятой состоит из следующих частей:\n",
    "+ знак мантиссы `s` (указывает на отрицательность или положительность числа),\n",
    "+ мантисса `m` (выражает значение числа без учёта порядка),\n",
    "+ знак порядка `sp`,\n",
    "+ порядок `p`(выражает степень основания числа, на которое умножается мантисса, часто это exp).\n",
    "\n",
    " Формула примерно такая **$$(-1)^s·m·b^{sp · exp},$$** записывают лишь мантиссу и показатель степени, разделяя их буквой «E» (от англ. exponent). Основание при этом неявно полагают равным 10. Например, число 1,528535047⋅10−25 в этом случае записывается как 1.528535047E-25.\n",
    " \n",
    " Для действительных чисел появляется и операция деления `/`"
   ]
  },
  {
   "cell_type": "code",
   "execution_count": 18,
   "id": "42acd375",
   "metadata": {},
   "outputs": [
    {
     "data": {
      "text/plain": [
       "2.02"
      ]
     },
     "execution_count": 18,
     "metadata": {},
     "output_type": "execute_result"
    }
   ],
   "source": [
    "# Объявляем переменные типа float\n",
    "a = 5.05\n",
    "b = 2.5\n",
    "\n",
    "a / b"
   ]
  },
  {
   "cell_type": "code",
   "execution_count": 19,
   "id": "88f4c290",
   "metadata": {},
   "outputs": [
    {
     "data": {
      "text/plain": [
       "1.01"
      ]
     },
     "execution_count": 19,
     "metadata": {},
     "output_type": "execute_result"
    }
   ],
   "source": [
    "# Но! Мы так же можем делить на целые числа\n",
    "a = 5.05\n",
    "b = 5\n",
    "\n",
    "a / b\n",
    "# float / int = float"
   ]
  },
  {
   "cell_type": "code",
   "execution_count": 20,
   "id": "04f6e7c1",
   "metadata": {},
   "outputs": [
    {
     "data": {
      "text/plain": [
       "2.0"
      ]
     },
     "execution_count": 20,
     "metadata": {},
     "output_type": "execute_result"
    }
   ],
   "source": [
    "a = 5\n",
    "b = 2.5\n",
    "\n",
    "a / b\n",
    "# int / float = float"
   ]
  },
  {
   "cell_type": "code",
   "execution_count": 21,
   "id": "072a304f",
   "metadata": {},
   "outputs": [
    {
     "data": {
      "text/plain": [
       "1.6666666666666667"
      ]
     },
     "execution_count": 21,
     "metadata": {},
     "output_type": "execute_result"
    }
   ],
   "source": [
    "a = 5\n",
    "b = 3\n",
    "\n",
    "a / b\n",
    "# int / int = float"
   ]
  },
  {
   "cell_type": "code",
   "execution_count": 22,
   "id": "81570833",
   "metadata": {},
   "outputs": [
    {
     "data": {
      "text/plain": [
       "2.5"
      ]
     },
     "execution_count": 22,
     "metadata": {},
     "output_type": "execute_result"
    }
   ],
   "source": [
    "# С делением мы тоже так можем\n",
    "a /= 2\n",
    "\n",
    "a"
   ]
  },
  {
   "cell_type": "code",
   "execution_count": 23,
   "id": "b48f3bd1",
   "metadata": {
    "scrolled": true
   },
   "outputs": [
    {
     "data": {
      "text/plain": [
       "15.588457268119896"
      ]
     },
     "execution_count": 23,
     "metadata": {},
     "output_type": "execute_result"
    }
   ],
   "source": [
    "# Возведение в степень для float определено тоже\n",
    "b **= a\n",
    "\n",
    "b"
   ]
  },
  {
   "cell_type": "code",
   "execution_count": 24,
   "id": "44c2d536",
   "metadata": {},
   "outputs": [
    {
     "data": {
      "text/plain": [
       "(6.25, 39.42207090883399)"
      ]
     },
     "execution_count": 24,
     "metadata": {},
     "output_type": "execute_result"
    }
   ],
   "source": [
    "a = 2.5\n",
    "b = 2\n",
    "c = 4.01\n",
    "\n",
    "(a ** 2, a ** c)"
   ]
  },
  {
   "cell_type": "markdown",
   "id": "c33cb98a",
   "metadata": {},
   "source": [
    "***\n",
    "### List"
   ]
  },
  {
   "cell_type": "markdown",
   "id": "d721d65a",
   "metadata": {},
   "source": [
    "**List** - список (динамический массив), последовательность элементов. Каждый элемент списка имеет свой порядковый номер - индекс. Индексация в Python начинается с нуля, так же используются отрицательные индексы. Так же элементы могут быть разных типов. \n",
    "\n",
    "Инициализировать список можно с помощью квадратных скобок, можно также создать его пустым и позже заполнять, изменять и т.д."
   ]
  },
  {
   "cell_type": "code",
   "execution_count": 25,
   "id": "35950d4c",
   "metadata": {},
   "outputs": [
    {
     "data": {
      "text/plain": [
       "[1, 3.4, 3, 'rabbit']"
      ]
     },
     "execution_count": 25,
     "metadata": {},
     "output_type": "execute_result"
    }
   ],
   "source": [
    "a = 3.4\n",
    "lst = [1, a, 3, 'rabbit']\n",
    "\n",
    "# Создаем пустые списки\n",
    "lst2 = list()\n",
    "lst3 = []\n",
    "\n",
    "lst"
   ]
  },
  {
   "cell_type": "markdown",
   "id": "302f7f49",
   "metadata": {},
   "source": [
    "Теперь посмотрим как работает индексация."
   ]
  },
  {
   "cell_type": "code",
   "execution_count": 26,
   "id": "b9c90b4b",
   "metadata": {},
   "outputs": [
    {
     "data": {
      "text/plain": [
       "1"
      ]
     },
     "execution_count": 26,
     "metadata": {},
     "output_type": "execute_result"
    }
   ],
   "source": [
    "lst[0] # Распечатаем нулевой элемент"
   ]
  },
  {
   "cell_type": "code",
   "execution_count": 27,
   "id": "0cbb415e",
   "metadata": {},
   "outputs": [
    {
     "data": {
      "text/plain": [
       "'rabbit'"
      ]
     },
     "execution_count": 27,
     "metadata": {},
     "output_type": "execute_result"
    }
   ],
   "source": [
    "lst[-1] # Распечатает последний элемент  "
   ]
  },
  {
   "cell_type": "code",
   "execution_count": 28,
   "id": "d0cb31cb",
   "metadata": {},
   "outputs": [
    {
     "data": {
      "text/plain": [
       "(3.4, 3.4)"
      ]
     },
     "execution_count": 28,
     "metadata": {},
     "output_type": "execute_result"
    }
   ],
   "source": [
    "# Давайте посмотрим на первый и минус третий элемент\n",
    "# Чему они будут равны?\n",
    "(lst[1], lst[-3])"
   ]
  },
  {
   "cell_type": "markdown",
   "id": "547e88aa",
   "metadata": {},
   "source": [
    "Если мы хотим изменить определенный элемент, мы можем обратиться к нему по индексу и присвоить новое значение. Например:"
   ]
  },
  {
   "cell_type": "code",
   "execution_count": 29,
   "id": "15ce9ebc",
   "metadata": {},
   "outputs": [
    {
     "data": {
      "text/plain": [
       "[1, 3.4, 3, 175]"
      ]
     },
     "execution_count": 29,
     "metadata": {},
     "output_type": "execute_result"
    }
   ],
   "source": [
    "b = 175\n",
    "lst[3] = b\n",
    "\n",
    "lst"
   ]
  },
  {
   "cell_type": "markdown",
   "id": "ac6e13ea",
   "metadata": {},
   "source": [
    "Чтобы добавить элемент, нужно применить метод `append()`. Он добавит элемент в конец списка и увеличит его."
   ]
  },
  {
   "cell_type": "code",
   "execution_count": 30,
   "id": "a9776a64",
   "metadata": {},
   "outputs": [
    {
     "data": {
      "text/plain": [
       "[1, 3.4, 3, 175, 0]"
      ]
     },
     "execution_count": 30,
     "metadata": {},
     "output_type": "execute_result"
    }
   ],
   "source": [
    "lst.append(0) # Добавит 0 в конец\n",
    "\n",
    "lst"
   ]
  },
  {
   "cell_type": "markdown",
   "id": "67a7b5a0",
   "metadata": {},
   "source": [
    "При работе со списками нам часто важно знать его длину с помощью функции `len()`"
   ]
  },
  {
   "cell_type": "code",
   "execution_count": 31,
   "id": "989cbc05",
   "metadata": {},
   "outputs": [
    {
     "data": {
      "text/plain": [
       "5"
      ]
     },
     "execution_count": 31,
     "metadata": {},
     "output_type": "execute_result"
    }
   ],
   "source": [
    "len(lst)"
   ]
  },
  {
   "cell_type": "code",
   "execution_count": 32,
   "id": "77cef55e",
   "metadata": {},
   "outputs": [
    {
     "data": {
      "text/plain": [
       "7"
      ]
     },
     "execution_count": 32,
     "metadata": {},
     "output_type": "execute_result"
    }
   ],
   "source": [
    "# А теперь добавим еще пару элементов\n",
    "a = [1, a, 4]\n",
    "lst.append(a)\n",
    "lst.append(b)\n",
    "\n",
    "# Какой станет его длина теперь?\n",
    "len(lst)"
   ]
  },
  {
   "cell_type": "code",
   "execution_count": 33,
   "id": "a9682ed2",
   "metadata": {},
   "outputs": [
    {
     "data": {
      "text/plain": [
       "[1, 3.4, 3, 175, 0, [1, 3.4, 4], 175]"
      ]
     },
     "execution_count": 33,
     "metadata": {},
     "output_type": "execute_result"
    }
   ],
   "source": [
    "# Распечатаем lst и посмотрим как он изменился\n",
    "lst"
   ]
  },
  {
   "cell_type": "markdown",
   "id": "85ec5c6c",
   "metadata": {},
   "source": [
    "Со списками еще многое можно сделать, но об этом мы поговорим на следующей лекции"
   ]
  },
  {
   "cell_type": "markdown",
   "id": "b28df814",
   "metadata": {},
   "source": [
    "***\n",
    "### Str"
   ]
  },
  {
   "cell_type": "markdown",
   "id": "319b7bea",
   "metadata": {},
   "source": [
    "**Str (string)** - строка. Чтобы записать её, она должна быть в одинарных `'` или двойных кавычках `\"`."
   ]
  },
  {
   "cell_type": "code",
   "execution_count": 34,
   "id": "4c9b370b",
   "metadata": {},
   "outputs": [
    {
     "data": {
      "text/plain": [
       "('1234', 'rabbit 5')"
      ]
     },
     "execution_count": 34,
     "metadata": {},
     "output_type": "execute_result"
    }
   ],
   "source": [
    "s = '1234'\n",
    "str = \"rabbit 5\"\n",
    "\n",
    "(s, str)"
   ]
  },
  {
   "cell_type": "markdown",
   "id": "7f2f6ea6",
   "metadata": {},
   "source": [
    "Строки можно представлять как список символов, них есть такая же индексация как и у списков."
   ]
  },
  {
   "cell_type": "code",
   "execution_count": 35,
   "id": "8d543285",
   "metadata": {},
   "outputs": [
    {
     "data": {
      "text/plain": [
       "'b'"
      ]
     },
     "execution_count": 35,
     "metadata": {},
     "output_type": "execute_result"
    }
   ],
   "source": [
    "a = str[2]\n",
    "\n",
    "a"
   ]
  },
  {
   "cell_type": "code",
   "execution_count": 36,
   "id": "f79cddfb",
   "metadata": {},
   "outputs": [
    {
     "data": {
      "text/plain": [
       "' '"
      ]
     },
     "execution_count": 36,
     "metadata": {},
     "output_type": "execute_result"
    }
   ],
   "source": [
    "b = str[-2]\n",
    "\n",
    "b"
   ]
  },
  {
   "cell_type": "markdown",
   "id": "b722b6ed",
   "metadata": {},
   "source": [
    "Подробнее про строки также поговрим на следующей лекции."
   ]
  },
  {
   "cell_type": "markdown",
   "id": "1617f62c",
   "metadata": {},
   "source": [
    "***\n",
    "### Tuple"
   ]
  },
  {
   "cell_type": "markdown",
   "id": "b6434e07",
   "metadata": {},
   "source": [
    "**Tuple** - кортеж. Тоже похож на список, но в кортеж нельзя изменять ни элемнты, ни длину.\n",
    "\n",
    "Чтобы инициализировать кортеж, необходимо записать элементы в круглых скобках."
   ]
  },
  {
   "cell_type": "code",
   "execution_count": 37,
   "id": "e418d73a",
   "metadata": {},
   "outputs": [
    {
     "data": {
      "text/plain": [
       "('b', 2, 4.01)"
      ]
     },
     "execution_count": 37,
     "metadata": {},
     "output_type": "execute_result"
    }
   ],
   "source": [
    "tpl = (a, 2, c) # Кортежи также могут содержать элементы разных типов\n",
    "\n",
    "tpl"
   ]
  },
  {
   "cell_type": "markdown",
   "id": "8f172a74",
   "metadata": {},
   "source": [
    "Что примечательно, кортеж может содержать элементы изменяемого типа."
   ]
  },
  {
   "cell_type": "code",
   "execution_count": 38,
   "id": "db53b2ad",
   "metadata": {},
   "outputs": [
    {
     "data": {
      "text/plain": [
       "(1, [1, 2], 5.0)"
      ]
     },
     "execution_count": 38,
     "metadata": {},
     "output_type": "execute_result"
    }
   ],
   "source": [
    "a = [1, 2]\n",
    "tpl = (1, a, 5.0)\n",
    "\n",
    "tpl"
   ]
  },
  {
   "cell_type": "markdown",
   "id": "5538e3c3",
   "metadata": {},
   "source": [
    "Мы можем изменить массив `a`, обратившись напрямую к нему, но не изменять элемент кортежа. Посмотрим на примере:"
   ]
  },
  {
   "cell_type": "code",
   "execution_count": 39,
   "id": "fb0b90ec",
   "metadata": {},
   "outputs": [
    {
     "data": {
      "text/plain": [
       "(1, ['2', 2], 5.0)"
      ]
     },
     "execution_count": 39,
     "metadata": {},
     "output_type": "execute_result"
    }
   ],
   "source": [
    "a[0] = '2' # изменили список а\n",
    "\n",
    "tpl"
   ]
  },
  {
   "cell_type": "code",
   "execution_count": 40,
   "id": "784cfffc",
   "metadata": {},
   "outputs": [
    {
     "ename": "TypeError",
     "evalue": "'tuple' object does not support item assignment",
     "output_type": "error",
     "traceback": [
      "\u001b[1;31m---------------------------------------------------------------------------\u001b[0m",
      "\u001b[1;31mTypeError\u001b[0m                                 Traceback (most recent call last)",
      "Cell \u001b[1;32mIn [40], line 2\u001b[0m\n\u001b[0;32m      1\u001b[0m \u001b[38;5;66;03m# А теперь попробуем изменить элемент кортежа\u001b[39;00m\n\u001b[1;32m----> 2\u001b[0m \u001b[43mtpl\u001b[49m\u001b[43m[\u001b[49m\u001b[38;5;241;43m1\u001b[39;49m\u001b[43m]\u001b[49m \u001b[38;5;241m=\u001b[39m \u001b[38;5;241m3\u001b[39m\n",
      "\u001b[1;31mTypeError\u001b[0m: 'tuple' object does not support item assignment"
     ]
    }
   ],
   "source": [
    "# А теперь попробуем изменить элемент кортежа\n",
    "tpl[1] = 3"
   ]
  },
  {
   "cell_type": "markdown",
   "id": "65fd0c73",
   "metadata": {},
   "source": [
    "Мы получили ошибку в попытках изменить элементы кортежа, но мы все также можем обращаться к элементам кортежа и узнавать их значения."
   ]
  },
  {
   "cell_type": "code",
   "execution_count": 41,
   "id": "a36e36cd",
   "metadata": {},
   "outputs": [
    {
     "data": {
      "text/plain": [
       "5.0"
      ]
     },
     "execution_count": 41,
     "metadata": {},
     "output_type": "execute_result"
    }
   ],
   "source": [
    "b = tpl[-1]\n",
    "\n",
    "b"
   ]
  },
  {
   "cell_type": "code",
   "execution_count": 42,
   "id": "c2d09152",
   "metadata": {},
   "outputs": [
    {
     "data": {
      "text/plain": [
       "3"
      ]
     },
     "execution_count": 42,
     "metadata": {},
     "output_type": "execute_result"
    }
   ],
   "source": [
    "# Длину мы так же можем узнать с помощью функции len()\n",
    "len(tpl)"
   ]
  },
  {
   "cell_type": "markdown",
   "id": "dff7c75d",
   "metadata": {},
   "source": [
    "***\n",
    "### Другие типы"
   ]
  },
  {
   "cell_type": "markdown",
   "id": "3bad2e52",
   "metadata": {},
   "source": [
    "Мы с вами изучили только небольшую часть типов данных, доступных в Python. Стандартная библиотека Python и сторонние библиотеки предлагают еще больше типов данных и структур данных для различных задач и сценариев использования: dictionaris, sets, functions, classes, files, modules, exseptions и т.д. Python известен своей обширной и гибкой экосистемой, которая обеспечивает разнообразные инструменты и возможности для разработчиков."
   ]
  },
  {
   "cell_type": "markdown",
   "id": "130e1cc9",
   "metadata": {},
   "source": [
    "***\n",
    "### Приведение типов"
   ]
  },
  {
   "cell_type": "markdown",
   "id": "3d6afef7",
   "metadata": {},
   "source": [
    "Мы уже знаем несколько различных типов данных, но хотелось бы уметь приводить один в другой. Например: `5.0` (float) -> `5` (int) или `'22'` (str) -> `22` (int)\n",
    "\n",
    "Для этого существуют определенные функции:\n",
    "+ bool()     \\- к логическому типу\n",
    "+ int()      \\- к целому числу\n",
    "+ float()    \\- к действительному числу\n",
    "+ list()     \\- к списку\n",
    "+ string()   \\- к строке\n",
    "+ tuple()    \\- к кортежу\n",
    "\n",
    "Эти функции также можно использовать если хотим инициализировать переменную определенным типом. Например: `float(5)` -> переменная будет иметь тип `float`, а не `int`."
   ]
  },
  {
   "cell_type": "code",
   "execution_count": 43,
   "id": "b78638a0",
   "metadata": {},
   "outputs": [
    {
     "data": {
      "text/plain": [
       "(5.6, 6, ['1', '2', '3', '4'], ('c', 'd'), False)"
      ]
     },
     "execution_count": 43,
     "metadata": {},
     "output_type": "execute_result"
    }
   ],
   "source": [
    "fl = float(5.6)\n",
    "integer = int('6')\n",
    "lst = list('1234')\n",
    "tpl = tuple('cd')\n",
    "f = bool(0)\n",
    "\n",
    "(fl, integer, lst, tpl, f)"
   ]
  },
  {
   "cell_type": "markdown",
   "id": "c7d5ffe9",
   "metadata": {},
   "source": [
    "    Но не каждый тип можно преобразовать в другой. Например, в каждой строке кода ниже будет ошибка:"
   ]
  },
  {
   "cell_type": "code",
   "execution_count": null,
   "id": "95f874f0",
   "metadata": {},
   "outputs": [],
   "source": [
    "int('cc')\n",
    "float('foo')\n",
    "float('0,55')\n",
    "list(1123)"
   ]
  },
  {
   "cell_type": "markdown",
   "id": "2ce94d34",
   "metadata": {},
   "source": [
    "Чтобы узнать тип переменной, необходимо использовать функцию `type()`"
   ]
  },
  {
   "cell_type": "code",
   "execution_count": 44,
   "id": "f42c44b3",
   "metadata": {},
   "outputs": [
    {
     "data": {
      "text/plain": [
       "(float, int, list)"
      ]
     },
     "execution_count": 44,
     "metadata": {},
     "output_type": "execute_result"
    }
   ],
   "source": [
    "(type(fl), type(integer), type(lst))"
   ]
  },
  {
   "cell_type": "markdown",
   "id": "b0a81c0f",
   "metadata": {},
   "source": [
    "***\n",
    "### Ввод и вывод"
   ]
  },
  {
   "cell_type": "markdown",
   "id": "eb6bb8cd",
   "metadata": {},
   "source": [
    "Всю сегодняшнюю лекцию мы пользовались возможностями jupyter-notebook и выводили значение, просто написав имя переменной внизу, но в интегрированных средах разработки (и в домашних задачах) нам необходимо выводить и получать данных. Давайье научимся этому!\n",
    "\n",
    "Познакомимся с вводом и выводом данных через консоль, также называется ручным способом. \n",
    "\n",
    "`input()` \\- получает *строку* которую, вы ввели \n",
    "\n",
    "`print()` \\- печатает то, что вы передадите"
   ]
  },
  {
   "cell_type": "markdown",
   "id": "062ab3dc",
   "metadata": {},
   "source": [
    "`input('Здесь вы можете написать текст, который увидет пользователь перед вводом')`"
   ]
  },
  {
   "cell_type": "code",
   "execution_count": 45,
   "id": "dc01bc43",
   "metadata": {},
   "outputs": [
    {
     "name": "stdout",
     "output_type": "stream",
     "text": [
      "Введите число 5\n",
      "<class 'str'>\n"
     ]
    }
   ],
   "source": [
    "a = input('Введите число ')\n",
    "print(type(a))"
   ]
  },
  {
   "cell_type": "markdown",
   "id": "38dc3c29",
   "metadata": {},
   "source": [
    "Мы ввели число, но функция `input()` возвращает значение типа `str`, и чтобы использовать введеной число как `int`, нам необходимо привести его к нужному типу."
   ]
  },
  {
   "cell_type": "code",
   "execution_count": 46,
   "id": "ac648648",
   "metadata": {},
   "outputs": [
    {
     "name": "stdout",
     "output_type": "stream",
     "text": [
      "<class 'int'>\n"
     ]
    }
   ],
   "source": [
    "a = int(a)\n",
    "print(type(a))"
   ]
  },
  {
   "cell_type": "markdown",
   "id": "87a630c8",
   "metadata": {},
   "source": [
    "А что если в одной строке записано несколько чисел? \n",
    "Мы используем метод `split()`. Он разделяет строку по \"разделителю\", который передают  внутри скобок. "
   ]
  },
  {
   "cell_type": "code",
   "execution_count": 47,
   "id": "e1265cb4",
   "metadata": {},
   "outputs": [
    {
     "name": "stdout",
     "output_type": "stream",
     "text": [
      "4 5\n",
      "4\n",
      "5\n"
     ]
    }
   ],
   "source": [
    "a, b = input().split(' ') # Разделитель здесь - это пробел\n",
    "print(a)\n",
    "print(b)"
   ]
  },
  {
   "cell_type": "markdown",
   "id": "9df6e3ef",
   "metadata": {},
   "source": [
    "Но давайте, так же посмотрим на тип `a` и `b`"
   ]
  },
  {
   "cell_type": "code",
   "execution_count": 48,
   "id": "ecb7f221",
   "metadata": {},
   "outputs": [
    {
     "name": "stdout",
     "output_type": "stream",
     "text": [
      "<class 'str'>\n",
      "<class 'str'>\n"
     ]
    }
   ],
   "source": [
    "print(type(a))\n",
    "print(type(b))"
   ]
  },
  {
   "cell_type": "markdown",
   "id": "dd2decc6",
   "metadata": {},
   "source": [
    "Можно ли как-то применить преобразование, к `int` например, сразу ко всем числам из ввода?\n",
    "\n",
    "\\- Можно. Для этого используем функцию `map()`, которая применит функцию к передаваемому объекту"
   ]
  },
  {
   "cell_type": "code",
   "execution_count": 49,
   "id": "e9361dcd",
   "metadata": {},
   "outputs": [
    {
     "name": "stdout",
     "output_type": "stream",
     "text": [
      "4 5\n",
      "(4, <class 'int'>)\n",
      "(5, <class 'int'>)\n"
     ]
    }
   ],
   "source": [
    "s = input().split(' ')\n",
    "a, b = map(int, s)\n",
    "\n",
    "# или можно сразу map(int, input().split(' ')) \n",
    "\n",
    "print((a, type(a)))\n",
    "print((b, type(b)))"
   ]
  },
  {
   "cell_type": "markdown",
   "id": "db8b2ac4",
   "metadata": {},
   "source": [
    "Если же нам нужно записать все переданные числа в лист, что делать?"
   ]
  },
  {
   "cell_type": "code",
   "execution_count": 50,
   "id": "ec055968",
   "metadata": {},
   "outputs": [
    {
     "name": "stdout",
     "output_type": "stream",
     "text": [
      "1 2 3 5\n",
      "[1, 2, 3, 5]\n"
     ]
    }
   ],
   "source": [
    "lst = list(map(int, input().split(' ')))\n",
    "print(lst)"
   ]
  },
  {
   "cell_type": "markdown",
   "id": "05aa313b",
   "metadata": {},
   "source": [
    "Теперь поговорим немного о функции `print()`\n",
    "Различные переменный, выражения, числа, строки и т.д. можно передавать в функцию, и она распечатает их в одной строке через запятую, а следующий ввод начнется уже с новой строки."
   ]
  },
  {
   "cell_type": "code",
   "execution_count": 51,
   "id": "2fc8b0d2",
   "metadata": {},
   "outputs": [
    {
     "name": "stdout",
     "output_type": "stream",
     "text": [
      "4 <class 'int'>\n",
      "4  +  5  =  9\n"
     ]
    }
   ],
   "source": [
    "print(a, type(a))\n",
    "print(a, ' + ', b, ' = ', a + b)"
   ]
  },
  {
   "cell_type": "markdown",
   "id": "984471e5",
   "metadata": {},
   "source": [
    "Функция `print()` имеет несколько параметров:\n",
    "+ sep \\- разделитель\n",
    "+ end \\- то, чем закончится вывод\n",
    "\n",
    "Т.е. обычная функция `print(a)` - это то же самое, что и \n",
    "\n",
    "`print(a, sep=' ', end='\\n'` \n",
    "\n",
    "`'\\n'` - это символ обозначающий перевод на новую строчку\n",
    "\n",
    "Например: если мы хотим написать список покупок через запятую, нам необходимо просто указать параметр `sep=','`"
   ]
  },
  {
   "cell_type": "code",
   "execution_count": 52,
   "id": "2078a302",
   "metadata": {},
   "outputs": [
    {
     "name": "stdout",
     "output_type": "stream",
     "text": [
      "Milk, eggs, bread!\n"
     ]
    }
   ],
   "source": [
    "a = 'Milk'\n",
    "b = 'eggs'\n",
    "c = 'bread'\n",
    "print(a, b, c, sep=', ', end='!\\n')"
   ]
  },
  {
   "cell_type": "markdown",
   "id": "1c973d4a",
   "metadata": {},
   "source": [
    "Для списков есть классная фича, если написать `*` перед списком, то все содержимое листа выведется через пробел."
   ]
  },
  {
   "cell_type": "code",
   "execution_count": 53,
   "id": "92c02459",
   "metadata": {},
   "outputs": [
    {
     "name": "stdout",
     "output_type": "stream",
     "text": [
      "1 2 3 5\n"
     ]
    }
   ],
   "source": [
    "print(*lst)"
   ]
  },
  {
   "cell_type": "markdown",
   "id": "76b54a55",
   "metadata": {},
   "source": [
    "***\n",
    "### Заключение"
   ]
  },
  {
   "cell_type": "markdown",
   "id": "7f48ac84",
   "metadata": {},
   "source": [
    "На сегодняшней лекции мы:\n",
    "+ ответили на вопрос: \"Что такое ЯП Python?\"\n",
    "+ поговорили о Динамической типизации\n",
    "+ узнали «Что такое переменная и объект»\n",
    "+ познакомились с базовыми типами и структурами данных\n",
    "+ изучили как приводить типы\n",
    "+ научились вводить и выводить данные"
   ]
  },
  {
   "cell_type": "code",
   "execution_count": null,
   "id": "b1e053b9",
   "metadata": {},
   "outputs": [],
   "source": []
  }
 ],
 "metadata": {
  "kernelspec": {
   "display_name": "Python 3 (ipykernel)",
   "language": "python",
   "name": "python3"
  },
  "language_info": {
   "codemirror_mode": {
    "name": "ipython",
    "version": 3
   },
   "file_extension": ".py",
   "mimetype": "text/x-python",
   "name": "python",
   "nbconvert_exporter": "python",
   "pygments_lexer": "ipython3",
   "version": "3.10.11"
  }
 },
 "nbformat": 4,
 "nbformat_minor": 5
}
