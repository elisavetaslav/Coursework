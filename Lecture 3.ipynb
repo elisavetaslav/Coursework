{
 "cells": [
  {
   "cell_type": "markdown",
   "id": "be5cdaff",
   "metadata": {},
   "source": [
    "## Лекция 3"
   ]
  },
  {
   "cell_type": "markdown",
   "id": "ff90dbe6",
   "metadata": {},
   "source": [
    "***\n",
    "### Локальные и глобальные переменные"
   ]
  },
  {
   "cell_type": "markdown",
   "id": "d07d8e76",
   "metadata": {},
   "source": [
    "**Локальные и глобальные переменные** - это способы хранения данных в программе, но они имеют разные области видимости и доступа.\n",
    "\n",
    "**Локальные переменные** - это переменные, которые определены внутри определенной области видимости, такой как функция или блок кода. Они существуют только внутри этой области видимости и доступны только внутри нее.\n",
    "\n",
    "**Глобальные переменные** - это переменные, которые определены в основной части программы. Они доступны из любой части программы, включая функции.\n"
   ]
  },
  {
   "cell_type": "markdown",
   "id": "08ed35d3",
   "metadata": {},
   "source": [
    "У каждой переменной есть свое время жизни. Она живет от момента ее создания до конца блока.\n",
    "\n",
    "Блок кода в Python отделяется табами и в этом блоке и живут локальные переменные."
   ]
  },
  {
   "cell_type": "code",
   "execution_count": null,
   "id": "70694d0f",
   "metadata": {},
   "outputs": [],
   "source": [
    "a = 5      # глобальная переменная\n",
    "s = 'str'  # глобальная переменная\n",
    "# созданы переменные a, str они будут жить до конца программы,\n",
    "# и в любой часте кода мы можем к ним обратиться\n",
    "\n",
    "for i in range(1, 10):\n",
    "    # начался блок цикла for\n",
    "    # создалась i - она локальная переменная для этого цикла\n",
    "    \n",
    "    b = 3  # локальная переменная\n",
    "    \n",
    "    if i % 2 == 0:\n",
    "        # начался блок if\n",
    "        c = a # создалась локальная для if переменная\n",
    "        \n",
    "        # конец блока if\n",
    "        # после этой строчки с умрет и к ней нельзя будет обратиться\n",
    "    else:\n",
    "        # начался блок else\n",
    "        c = s # создалась локальная для else переменная\n",
    "        \n",
    "        # конец блока else\n",
    "        # после этой строчки с умрет и к ней нельзя будет обратиться\n",
    "    \n",
    "    #print(c) - выведет ошибку, так как программа не знает перменную с\n",
    "    \n",
    "    print(s, b)\n",
    "    \n",
    "    # конец блока for\n",
    "    # после этой строчки умрут b и i\n",
    "print(s, a)\n",
    "# конец программы\n",
    "# здесь умрут все глобальные переменные, т.е. s и a"
   ]
  },
  {
   "cell_type": "markdown",
   "id": "5f8b71a6",
   "metadata": {},
   "source": [
    "***\n",
    "### Функции"
   ]
  },
  {
   "cell_type": "markdown",
   "id": "0dd77c5d",
   "metadata": {},
   "source": [
    "**Функция** - это кусок кода, который выполняет определенную задачу или действие. Она позволяет выполнить какую-то операцию, используя определенные входные данные (аргументы), и возвращает результат.\n",
    "\n",
    "Если, например, вам многократно в разных местах кода нужно вычислять одну и ту же формулу, можно вынести нахождение этой формулы, и в нужных местах просто вызывать ее с нужными аргументами. \n",
    "\n",
    "**Из чего состоит функция?**\n",
    "```\n",
    "def имя_функции(аргументы функции через запятую):\n",
    "    ...\n",
    "    тело функции\n",
    "    ...\n",
    "    return возвращаемое_значение\n",
    "```\n",
    "\n",
    "**Аргументы** функции- это данные, которые вы передаете в функцию для выполнения операции.\n",
    "\n",
    "**Тело** функции- это блок кода, который выполняет определенную задачу.\n",
    "\n",
    "**Возвращаемое значение** - это то, что после выполнения операции функция вернет.\n",
    "\n",
    "**Параметры** функции - это имена переменных, которые вы используете в определении функции для работы с переданными данными (аргументами).\n",
    "\n",
    "**Вызов функции** - это место в коде, где вы используете имя функции и передаете значения для аргументов.\n",
    "\n",
    "Давайте посмотрим на примере:\n",
    "В разных частях программы мы постоянно считаем сумму квадратов двух чисел. Давайте напишем функцию и будем вызывать её.\n"
   ]
  },
  {
   "cell_type": "code",
   "execution_count": 1,
   "id": "fd0f8f0f",
   "metadata": {},
   "outputs": [],
   "source": [
    "def sum_sqrt(a, b):\n",
    "    ans = a**2 + b**2\n",
    "    return ans"
   ]
  },
  {
   "cell_type": "markdown",
   "id": "1aa160d3",
   "metadata": {},
   "source": [
    "Аргументы функции в примере - это a и b\n",
    "Возвращаемое значение - это ans\n",
    "\n",
    "Давайте попробуем вызвать эту функцию"
   ]
  },
  {
   "cell_type": "code",
   "execution_count": 2,
   "id": "3c25fde3",
   "metadata": {},
   "outputs": [
    {
     "name": "stdout",
     "output_type": "stream",
     "text": [
      "25\n"
     ]
    }
   ],
   "source": [
    "num1 = 3\n",
    "num2 = 4\n",
    "sum_nums_sqrt = sum_sqrt(num1, num2)\n",
    "print(sum_nums_sqrt)"
   ]
  },
  {
   "cell_type": "markdown",
   "id": "f27a900b",
   "metadata": {},
   "source": [
    "**Что происходит, когда мы вызываем функцию?**\n",
    "\n",
    "В нее передаются аргументы `num1` и `num2` и присваиваются локальным переменным функции `a` и `b`.\n",
    "\n",
    "`a = num1, b = num2`\n",
    "\n",
    "Далее идут преобразования с локальными переменными.\n",
    "\n",
    "После слова `return` идет то, что мы вернем из функции.\n",
    "Т.е. `sum_nums_sqrt = ans`\n",
    "(строчки после слова `return` не выполняется, действует как `break` для циклов)\n",
    "\n",
    "Порядок передаваемых аргументов важен! Давайте посмотрим на другую функцию и сравним результаты."
   ]
  },
  {
   "cell_type": "code",
   "execution_count": 3,
   "id": "b67bc6ed",
   "metadata": {},
   "outputs": [
    {
     "name": "stdout",
     "output_type": "stream",
     "text": [
      "-7\n",
      "7\n"
     ]
    }
   ],
   "source": [
    "def dif_sqrt(a, b):\n",
    "    return a**2 - b**2\n",
    "\n",
    "num1 = 3\n",
    "num2 = 4\n",
    "print(dif_sqrt(num1, num2)) # 3**2 - 4**2 = 9 - 16\n",
    "print(dif_sqrt(num2, num1)) # 4**2 - 3**2 = 16 - 9 "
   ]
  },
  {
   "cell_type": "markdown",
   "id": "5bdab61c",
   "metadata": {},
   "source": [
    "Также мы можем устанавливать параметрам значение по умолчанию, т.е. мы можем ввести меньшее количество данных, а оставшиеся присвоят значения по умолчанию.\n",
    "Аргументы со значением по умолчанию называются **именнованными**, а  остальные - **позиционными**."
   ]
  },
  {
   "cell_type": "code",
   "execution_count": 4,
   "id": "33253594",
   "metadata": {},
   "outputs": [
    {
     "name": "stdout",
     "output_type": "stream",
     "text": [
      "Hello, Alice!\n",
      "Hi, Bob!\n"
     ]
    }
   ],
   "source": [
    "def greet(name, greeting=\"Hello\"):\n",
    "    return f\"{greeting}, {name}!\"\n",
    "\n",
    "print(greet(\"Alice\"))\n",
    "print(greet(\"Bob\", \"Hi\"))"
   ]
  },
  {
   "cell_type": "markdown",
   "id": "d7fe4071",
   "metadata": {},
   "source": [
    "Но параметры со значением по умолчанию мы ставим в конец, иначе будет ошибка"
   ]
  },
  {
   "cell_type": "code",
   "execution_count": 5,
   "id": "186633cd",
   "metadata": {},
   "outputs": [
    {
     "ename": "SyntaxError",
     "evalue": "non-default argument follows default argument (2885966047.py, line 1)",
     "output_type": "error",
     "traceback": [
      "\u001b[1;36m  Cell \u001b[1;32mIn [5], line 1\u001b[1;36m\u001b[0m\n\u001b[1;33m    def greet(greeting=\"Hello\", name):\u001b[0m\n\u001b[1;37m                                ^\u001b[0m\n\u001b[1;31mSyntaxError\u001b[0m\u001b[1;31m:\u001b[0m non-default argument follows default argument\n"
     ]
    }
   ],
   "source": [
    "def greet(greeting=\"Hello\", name):\n",
    "    return f\"{greeting}, {name}!\"\n"
   ]
  },
  {
   "cell_type": "markdown",
   "id": "d12f40bb",
   "metadata": {},
   "source": [
    "Напишем функцию с более чем одним значением по умолчанию."
   ]
  },
  {
   "cell_type": "code",
   "execution_count": 6,
   "id": "e44cbce5",
   "metadata": {},
   "outputs": [
    {
     "name": "stdout",
     "output_type": "stream",
     "text": [
      "11.0\n",
      "22.0\n",
      "21.0\n"
     ]
    }
   ],
   "source": [
    "# Функция вычисляет общую стоимость товаров со ставкой налога\n",
    "def calculate_cost(price, quantity=1, tax_rate=0.1):\n",
    "    total = price * quantity\n",
    "    total += total * tax_rate\n",
    "    return total\n",
    "\n",
    "print(calculate_cost(10))\n",
    "print(calculate_cost(10, 2))\n",
    "print(calculate_cost(10, 2, 0.05))"
   ]
  },
  {
   "cell_type": "code",
   "execution_count": 7,
   "id": "4b4a2234",
   "metadata": {},
   "outputs": [
    {
     "name": "stdout",
     "output_type": "stream",
     "text": [
      "10.5\n"
     ]
    }
   ],
   "source": [
    "# Но что если мы хотим определенный параметр взять другим, \n",
    "# а другие по умолчанию (ну или мы не помним порядок парметров).\n",
    "# То можем явно указать значения параметра.\n",
    "\n",
    "print(calculate_cost(10, tax_rate=0.05))"
   ]
  },
  {
   "cell_type": "code",
   "execution_count": null,
   "id": "ad5f8b9f",
   "metadata": {},
   "outputs": [],
   "source": [
    "print(calculate_cost(tax_rate=0.05, 10))\n",
    "#Так не сработает, т.к. 10 - позиционный аргумент\n",
    "\n",
    "# Но можно переписать её вот так, и она заработает\n",
    "print(calculate_cost(tax_rate=0.05, price = 10))"
   ]
  },
  {
   "cell_type": "markdown",
   "id": "4be0ea39",
   "metadata": {},
   "source": [
    "Ещё парочка примеров функций."
   ]
  },
  {
   "cell_type": "code",
   "execution_count": 9,
   "id": "ca8607a6",
   "metadata": {},
   "outputs": [
    {
     "name": "stdout",
     "output_type": "stream",
     "text": [
      "True\n"
     ]
    }
   ],
   "source": [
    "# Функция проверки число на простоту\n",
    "def is_prime(n):\n",
    "    if n <= 1:\n",
    "        return False\n",
    "    \n",
    "    for i in range(2, int(n**0.5) + 1):\n",
    "        if n % i == 0:\n",
    "            return False\n",
    "    \n",
    "    return True\n",
    "\n",
    "print(is_prime(17))  "
   ]
  },
  {
   "cell_type": "code",
   "execution_count": 10,
   "id": "9b1a6414",
   "metadata": {},
   "outputs": [
    {
     "name": "stdout",
     "output_type": "stream",
     "text": [
      "600\n",
      "540.0\n"
     ]
    }
   ],
   "source": [
    "# Функция вычисляет общую сумму со скидкой\n",
    "def calculate_total(prices, discount=0):\n",
    "    total = 0\n",
    "    \n",
    "    for price in prices:\n",
    "        total += price\n",
    "    \n",
    "    total -= total * discount\n",
    "    return total\n",
    "\n",
    "prices = [100, 200, 300]\n",
    "print(calculate_total(prices))\n",
    "print(calculate_total(prices, 0.1))"
   ]
  },
  {
   "cell_type": "markdown",
   "id": "d9dc2619",
   "metadata": {},
   "source": [
    "Функции могут возвращать несколько значений, они будут объединены в кортеж."
   ]
  },
  {
   "cell_type": "code",
   "execution_count": 11,
   "id": "ce8b1ae8",
   "metadata": {},
   "outputs": [
    {
     "name": "stdout",
     "output_type": "stream",
     "text": [
      "(600, 540.0)\n"
     ]
    }
   ],
   "source": [
    "def calculate_total(prices, discount=0):\n",
    "    total = 0\n",
    "    \n",
    "    for price in prices:\n",
    "        total += price\n",
    "    \n",
    "    total_with_discount = total - total * discount\n",
    "    return total, total_with_discount\n",
    "\n",
    "prices = [100, 200, 300]\n",
    "print(calculate_total(prices, 0.1))"
   ]
  },
  {
   "cell_type": "markdown",
   "id": "adec17b7",
   "metadata": {},
   "source": [
    "***\n",
    "### *args, **kwargs"
   ]
  },
  {
   "cell_type": "markdown",
   "id": "4cb784e9",
   "metadata": {},
   "source": [
    "`*args` и `**kwargs` - это специальные параметры, которые могут быть использованы в Python для передачи переменного количества аргументов в функцию. Они позволяют функции принимать произвольное количество позиционных аргументов и произвольное количество именованных аргументов соответственно.\n",
    "\n",
    "+ `*args`:\n",
    "   - Параметр `*args` позволяет передавать произвольное количество позиционных аргументов в функцию.\n",
    "   - Символ `*` перед именем параметра означает, что все аргументы, переданные после него, будут собраны в кортеж (tuple) и переданы в этот параметр. И мы как бы распаковываем кортеж.\n",
    "   \n",
    "+ `**kwargs`:\n",
    "   - Параметр `**kwargs` позволяет передавать произвольное количество именованных аргументов в функцию.\n",
    "   - Символ `**` перед именем параметра означает, что все переданные именованные аргументы будут собраны в словарь (dict) и переданы в этот параметр. И мы как бы распаковываем словарь, он превращается в список пар, и мы распаковываем пары еще раз.\n",
    "  \n"
   ]
  },
  {
   "cell_type": "code",
   "execution_count": 12,
   "id": "49054444",
   "metadata": {},
   "outputs": [
    {
     "name": "stdout",
     "output_type": "stream",
     "text": [
      "1 2 3 \n",
      "(1, 2, 3)\n",
      "hello world ! \n",
      "('hello', 'world', '!')\n"
     ]
    }
   ],
   "source": [
    "def f(*args):\n",
    "    for arg in args:\n",
    "        print(arg, end=' ')\n",
    "    print()\n",
    "    print(args)\n",
    "\n",
    "f(1, 2, 3)\n",
    "f(\"hello\", \"world\", \"!\")"
   ]
  },
  {
   "cell_type": "code",
   "execution_count": 13,
   "id": "173d0bfe",
   "metadata": {},
   "outputs": [
    {
     "name": "stdout",
     "output_type": "stream",
     "text": [
      "name : Alice\n",
      "age : 30\n",
      "{'name': 'Alice', 'age': 30}\n",
      "name age\n",
      "country : USA\n",
      "city : New York\n",
      "population : 8500000\n",
      "{'country': 'USA', 'city': 'New York', 'population': 8500000}\n",
      "country city population\n"
     ]
    }
   ],
   "source": [
    "def f(**kwargs):\n",
    "    for key, value in kwargs.items():\n",
    "        print(key, \":\", value)\n",
    "    print(kwargs)\n",
    "    print(*kwargs) # выведет ключи пар\n",
    "f(name=\"Alice\", age=30)\n",
    "f(country=\"USA\", city=\"New York\", population=8500000)"
   ]
  },
  {
   "cell_type": "markdown",
   "id": "b7b04d58",
   "metadata": {},
   "source": [
    "Что если передавать и `*args`, и `**kwargs`, и обычные позиционные и именнованные аргументы?"
   ]
  },
  {
   "cell_type": "code",
   "execution_count": 14,
   "id": "009b7ee6",
   "metadata": {
    "scrolled": true
   },
   "outputs": [
    {
     "name": "stdout",
     "output_type": "stream",
     "text": [
      "(0, 8, 'c', 5.4) {'name': 'Andrew', 'age': 20}\n",
      "Andrew 20.5 ('O', 'M', 'G') {'city': 'NYC', 'university': 'HSE'}\n"
     ]
    }
   ],
   "source": [
    "def f(*args, **kwargs):\n",
    "    print(args, kwargs)\n",
    "\n",
    "f(0, 8, 'c', 5.4, name = 'Andrew', age = 20)\n",
    "\n",
    "def g(name, age=10, *args, **kwargs):\n",
    "    print(name, age, args, kwargs)\n",
    "\n",
    "g('Andrew', 20.5, 'O', 'M', \"G\", city = 'NYC', university = 'HSE')"
   ]
  },
  {
   "cell_type": "markdown",
   "id": "46a459f9",
   "metadata": {},
   "source": [
    "***\n",
    "### Лямбда-функции"
   ]
  },
  {
   "cell_type": "markdown",
   "id": "61ca5bbe",
   "metadata": {},
   "source": [
    "Когда функции состоят только из одной строки с `return`, очень удобно использовать лямбда-функции.\n",
    "Например:\n",
    "```\n",
    "def sum(a, b, c):\n",
    "    return a + b + c\n",
    "\n",
    "sum(1, 3, 5)\n",
    "```\n",
    "Эту функцию можно переписать так:\n",
    "```\n",
    "sum = lambda a, b, c: a + b + c\n",
    "\n",
    "sum(1, 3, 5)\n",
    "```"
   ]
  },
  {
   "cell_type": "code",
   "execution_count": 15,
   "id": "0ac689d1",
   "metadata": {},
   "outputs": [
    {
     "data": {
      "text/plain": [
       "9"
      ]
     },
     "execution_count": 15,
     "metadata": {},
     "output_type": "execute_result"
    }
   ],
   "source": [
    "def sum(a, b, c):\n",
    "    return a + b + c\n",
    "\n",
    "sum(1, 3, 5)"
   ]
  },
  {
   "cell_type": "code",
   "execution_count": 16,
   "id": "47fe867a",
   "metadata": {},
   "outputs": [
    {
     "data": {
      "text/plain": [
       "9"
      ]
     },
     "execution_count": 16,
     "metadata": {},
     "output_type": "execute_result"
    }
   ],
   "source": [
    "sum = lambda a, b, c: a + b + c\n",
    "\n",
    "sum(1, 3, 5)"
   ]
  },
  {
   "cell_type": "code",
   "execution_count": 17,
   "id": "266585f5",
   "metadata": {},
   "outputs": [
    {
     "name": "stdout",
     "output_type": "stream",
     "text": [
      "True\n",
      "False\n"
     ]
    }
   ],
   "source": [
    "# Можно еще использовать if\n",
    "# lambda аргс : знач_если_усл_правда if условие else знач_иначе\n",
    "\n",
    "# Проверка числа на четность\n",
    "is_even = lambda n: True if n % 2 == 0 else False\n",
    "\n",
    "print(is_even(2))\n",
    "print(is_even(5))"
   ]
  },
  {
   "cell_type": "markdown",
   "id": "a7c1469c",
   "metadata": {},
   "source": [
    "***\n",
    "### Рекурсия\n"
   ]
  },
  {
   "cell_type": "markdown",
   "id": "c8c7de54",
   "metadata": {},
   "source": [
    "**Рекурсия** - это процесс, при котором функция вызывает саму себя. В задачах с рекурсией важно задать условия выхода из нее, иначе она никогда не закончится.\n",
    "\n",
    "Давайте посмотрим на примере:\n",
    "Задача: \n",
    "Вычислить факториал числа `n!` (`!` - это факториал)\n",
    "Вспомним, что `f(n) = n! = n • (n-1) • (n-2) • ... • 2 • 1`\n",
    "Рекурския это, можно сказать вложенные функции с каким-то условием.\n",
    "Так что факториал `f(n)` можем предствить как `f(n) = n • f(n-1) <=> n! = n • (n-1)!`"
   ]
  },
  {
   "cell_type": "code",
   "execution_count": 18,
   "id": "feaae61e",
   "metadata": {},
   "outputs": [
    {
     "name": "stdout",
     "output_type": "stream",
     "text": [
      "Факториал числа 5 равен: 120\n"
     ]
    }
   ],
   "source": [
    "def factorial(n):\n",
    "    # База рекурсии: если n равно 0 или 1, возвращаем 1\n",
    "    # Это условия выхода из рекурсии, т.к. функция не вызывается снова\n",
    "    if n <= 1:\n",
    "        return 1\n",
    "    # Вычисляем факториал числа n как n * (n - 1)!\n",
    "    else:\n",
    "        return n * factorial(n - 1)\n",
    "\n",
    "n = 5\n",
    "result = factorial(n)\n",
    "print(f\"Факториал числа {n} равен:\", result)"
   ]
  },
  {
   "cell_type": "code",
   "execution_count": 19,
   "id": "77e2db5f",
   "metadata": {},
   "outputs": [
    {
     "name": "stdout",
     "output_type": "stream",
     "text": [
      "Факториал числа 5 равен: 120\n"
     ]
    }
   ],
   "source": [
    "# В большинстве случаях рекурсию можно заменить на достаточно простой цикл\n",
    "def factorial(n):\n",
    "    result = 1\n",
    "    for i in range(1, n + 1):\n",
    "        result *= i\n",
    "    return result\n",
    "\n",
    "n = 5\n",
    "result = factorial(n)\n",
    "print(f\"Факториал числа {n} равен:\", result)"
   ]
  },
  {
   "cell_type": "code",
   "execution_count": null,
   "id": "9a65bff3",
   "metadata": {},
   "outputs": [],
   "source": [
    "# Есть ограничение по количеству рекурсий в Python, примерно 1000\n",
    "# Этот код будет завершен с ошибкой\n",
    "print(f\"Факториал числа {n} равен:\", factorial(2000))\n",
    "\n",
    "# Но мы можем обойти это ограничение и установить свое количество\n",
    "sys.setrecursionlimit(2*10**6)"
   ]
  },
  {
   "cell_type": "markdown",
   "id": "dbcd038d",
   "metadata": {},
   "source": [
    "В чем же плюсы и минусы рекурсивных функций?\n",
    "\n",
    "`+`\n",
    "+ Простота\n",
    "+ Понятность\n",
    "+ Удобство для некоторых задач\n",
    "\n",
    "`-`\n",
    "+ При большом количестве вызовов менее эффективна\n",
    "+ Большое потребление памяти\n",
    "+ Сложность отладки* кода\n",
    "+ Риск бесконечной рекурсии\n",
    "\n",
    "**Отладка - это процесс поиска и исправления ошибок в программном коде.*"
   ]
  },
  {
   "cell_type": "markdown",
   "id": "561f6d29",
   "metadata": {},
   "source": [
    "***\n",
    "### ООП"
   ]
  },
  {
   "cell_type": "markdown",
   "id": "5b22c842",
   "metadata": {},
   "source": [
    "**ООП** - это способ написания кода, в котором мы думаем о наших программных объектах, как о реальных объектах из реального мира. \n",
    "\n",
    "Каждый объект имеет свои характеристики (например, цвет, размер) и умеет делать что-то (например, двигаться, издавать звуки). В ООП мы пытаемся создать программные объекты, которые работают подобно реальным объектам.\n",
    "\n",
    "Например, если мы пишем программу о зоопарке, то у нас могут быть объекты \"зверь\", \"птица\" и т.д. Каждый зверь может иметь свой цвет, размер и способности, такие как бегать или прыгать.\n",
    "\n",
    "ООП помогает нам организовывать наш код так, чтобы он был чистым, структурированным и легко понимаемым. Мы можем создавать шаблоны (классы), которые описывают, как создавать наши объекты, и использовать эти шаблоны для создания множества объектов с различными характеристиками и способностями.\n"
   ]
  },
  {
   "cell_type": "markdown",
   "id": "71443580",
   "metadata": {},
   "source": [
    "***\n",
    "### Классы"
   ]
  },
  {
   "cell_type": "markdown",
   "id": "ee1541a7",
   "metadata": {},
   "source": [
    "**Класс** - это специальная конструкция в программировании, которая определяет новый тип данных. Класс определяет структуру и поведение объектов этого типа. Например, класс int в Python определяет тип данных для работы с целыми числами, указывая, какие операции можно выполнять с этими числами.\n",
    "\n",
    "**Объект** (или экземпляр) -\n",
    "это конкретное представление или реализация класса. Например, если мы создаем объект с помощью класса int, то этот объект представляет собой конкретное целое число, например, число 5.\n",
    "\n",
    "Синстаксис такой\n",
    "```\n",
    "class имя_класса:\n",
    "    ...\n",
    "    сама реализация класса\n",
    "    методы\n",
    "```\n",
    "Важные аспекты о классах:\n",
    "\n",
    "1. Атрибуты:\n",
    "   - Атрибуты - это переменные, которые принадлежат классу. Они описывают состояние объекта и могут быть переменными или константами.\n",
    "   - Для создания атрибутов нужно определить их внутри класса.\n",
    "   - Атрибуты могут быть разных типов данных, таких как числа, строки, списки и т.д.\n",
    "\n",
    "   \n",
    "2. Методы:\n",
    "   - Методы класса - это функции, определенные внутри класса, которые могут выполнять операции с атрибутами объекта.\n",
    "   - Они описывают поведение объекта и могут модифицировать его состояние.\n",
    "   - Методы обычно принимают параметр self, который ссылается на текущий экземпляр класса.\n",
    "   - Методы могут обращаться к атрибутам класса и изменять их состояние.\n",
    "   \n",
    "Давайте создадим класс и добавим атрибутов"
   ]
  },
  {
   "cell_type": "code",
   "execution_count": 20,
   "id": "b19fb938",
   "metadata": {},
   "outputs": [],
   "source": [
    "class Dog:\n",
    "    # Атрибуты класса\n",
    "    species = \"Canis familiaris\"\n",
    "    sounds = \"Barks\""
   ]
  },
  {
   "cell_type": "markdown",
   "id": "684abf16",
   "metadata": {},
   "source": [
    "Теперь давайте добавим один метод, специальный метод `__init__`.\n",
    "``` \n",
    "def __init__(self, аргументы):\n",
    "    ...\n",
    "    тело функции\n",
    "```\n",
    "\n",
    "`__init__` называется конструктором класса. Он автоматически вызывается при создании нового объекта класса и используется для инициализации атрибутов объекта.\n",
    "\n",
    "`self` в Python - это ссылка на сам объект, который вызывает метод класса. Она передается в качестве первого аргумента в определение метода класса и используется для доступа к атрибутам и методам этого объекта внутри метода.\n",
    "\n",
    "Дополним наш класс таким методом"
   ]
  },
  {
   "cell_type": "code",
   "execution_count": 21,
   "id": "df25fff7",
   "metadata": {},
   "outputs": [],
   "source": [
    "class Dog:\n",
    "    # Атрибуты класса\n",
    "    species = \"Canis familiaris\"\n",
    "    sounds = \"Woof\"\n",
    "\n",
    "    # Конструктор класса\n",
    "    def __init__(self, name, age):\n",
    "        self.name = name  # Атрибут экземпляра\n",
    "        self.age = age    # Атрибут экземпляра\n",
    "\n",
    "        # Атрибуты экземпляров разные из-за возможности разной инициализации"
   ]
  },
  {
   "cell_type": "markdown",
   "id": "47b7f309",
   "metadata": {},
   "source": [
    "Давайте создадим экземляр нашего класса. Но как это сделать?\n",
    "\n",
    "Для создания объекта класса используется вызов класса, передавая необходимые аргументы конструктору класса.\n",
    "\n",
    "А методы объекта вызываются через точечную нотацию, используя имя объекта."
   ]
  },
  {
   "cell_type": "code",
   "execution_count": 22,
   "id": "ac9c4b89",
   "metadata": {},
   "outputs": [
    {
     "name": "stdout",
     "output_type": "stream",
     "text": [
      "Bobik - 3\n",
      "Canis familiaris\n",
      "Woof\n"
     ]
    }
   ],
   "source": [
    "my_dog = Dog(\"Bobik\", 3)\n",
    "\n",
    "# Мы можем распечатать его Атрибуты\n",
    "\n",
    "print(my_dog.name, '-', my_dog.age)\n",
    "\n",
    "# Также можем распечатать и атрибуты самого класса\n",
    "print(my_dog.species)\n",
    "print(my_dog.sounds)"
   ]
  },
  {
   "cell_type": "markdown",
   "id": "98cb9b97",
   "metadata": {},
   "source": [
    "Теперь добавим еще один метод"
   ]
  },
  {
   "cell_type": "code",
   "execution_count": 23,
   "id": "17645c1d",
   "metadata": {},
   "outputs": [],
   "source": [
    "class Dog:\n",
    "    species = \"Canis familiaris\"\n",
    "    sounds = \"Woof\"\n",
    "\n",
    "    def __init__(self, name, age):\n",
    "        self.name = name\n",
    "        self.age = age\n",
    "\n",
    "    # Метод класса\n",
    "    def speak(self):\n",
    "        return f\"{self.name} says {self.sounds}!\"\n"
   ]
  },
  {
   "cell_type": "code",
   "execution_count": 24,
   "id": "bfd60de0",
   "metadata": {},
   "outputs": [
    {
     "name": "stdout",
     "output_type": "stream",
     "text": [
      "Bobik says Woof!\n"
     ]
    }
   ],
   "source": [
    "my_dog = Dog(\"Bobik\", 3)\n",
    "print(my_dog.speak())"
   ]
  },
  {
   "cell_type": "markdown",
   "id": "71e07754",
   "metadata": {},
   "source": [
    "Но атрибуты класса и объекта можно менять извне. Такие атрибуты называются публичными. (Все атрибуты этого класса публичные)\n",
    "При изменении атрибута класса, он не измениться для всех экземпляров, так как мы, считайте, создаем новый атрибут внутри."
   ]
  },
  {
   "cell_type": "code",
   "execution_count": 25,
   "id": "4734ef45",
   "metadata": {},
   "outputs": [
    {
     "name": "stdout",
     "output_type": "stream",
     "text": [
      "Bobik says Meow!\n",
      "Bobby says Woof!\n"
     ]
    }
   ],
   "source": [
    "my_dog2 = Dog('Bobby', 2)\n",
    "\n",
    "my_dog.sounds = 'Meow'\n",
    "print(my_dog.speak())\n",
    "print(my_dog2.speak())"
   ]
  },
  {
   "cell_type": "markdown",
   "id": "a08cc281",
   "metadata": {},
   "source": [
    "Мы уже поговорили немного о публичных полях. Теперь обсудим, что если поля и методы будут не публичными.\n",
    "\n",
    "Приватные методы и поля в Python - это специальные члены класса, к которым нельзя обращаться напрямую извне класса. Они предназначены для внутреннего использования внутри класса и не должны быть доступны извне.\n",
    "\n",
    "Приватные поля начинаются с двойного подчеркивания , например, `_name`. Они могут быть доступны только внутри класса и в его наследниках (об этом поговорим позже).\n",
    "\n",
    "Приватные методы также начинаются с двойного подчеркивания , например, `__method()`. Они могут быть вызваны только изнутри класса и не могут быть вызваны извне класса или экземпляра класса."
   ]
  },
  {
   "cell_type": "code",
   "execution_count": 26,
   "id": "e1e547a1",
   "metadata": {},
   "outputs": [],
   "source": [
    "class Dog:\n",
    "    species = \"Canis familiaris\"\n",
    "    sounds = \"Woof\"\n",
    "\n",
    "    def __init__(self, name, age, weakness):\n",
    "        self.name = name\n",
    "        self.age = age\n",
    "        self.__weakness = weakness\n",
    "\n",
    "    def speak(self):\n",
    "        return f\"{self.name} says {self.sounds}!\"\n",
    "    \n",
    "    def __get_weakness(self):\n",
    "        return self.__weakness\n",
    "    \n",
    "    def print_weakness(self):\n",
    "        print(f'Weakness: {self.__get_weakness()}')\n"
   ]
  },
  {
   "cell_type": "code",
   "execution_count": 27,
   "id": "e65e968d",
   "metadata": {},
   "outputs": [],
   "source": [
    "my_dog = Dog('Bobik', 3, 'tennis balls')"
   ]
  },
  {
   "cell_type": "code",
   "execution_count": 28,
   "id": "39691a80",
   "metadata": {},
   "outputs": [
    {
     "ename": "AttributeError",
     "evalue": "'Dog' object has no attribute '__weakness'",
     "output_type": "error",
     "traceback": [
      "\u001b[1;31m---------------------------------------------------------------------------\u001b[0m",
      "\u001b[1;31mAttributeError\u001b[0m                            Traceback (most recent call last)",
      "Cell \u001b[1;32mIn [28], line 2\u001b[0m\n\u001b[0;32m      1\u001b[0m \u001b[38;5;66;03m# Попробуем обратиться к приватному полю\u001b[39;00m\n\u001b[1;32m----> 2\u001b[0m \u001b[43mmy_dog\u001b[49m\u001b[38;5;241;43m.\u001b[39;49m\u001b[43m__weakness\u001b[49m\n",
      "\u001b[1;31mAttributeError\u001b[0m: 'Dog' object has no attribute '__weakness'"
     ]
    }
   ],
   "source": [
    "# Попробуем обратиться к приватному полю\n",
    "my_dog.__weakness"
   ]
  },
  {
   "cell_type": "code",
   "execution_count": 29,
   "id": "a1b96b53",
   "metadata": {},
   "outputs": [
    {
     "ename": "AttributeError",
     "evalue": "'Dog' object has no attribute '__get_weakness'",
     "output_type": "error",
     "traceback": [
      "\u001b[1;31m---------------------------------------------------------------------------\u001b[0m",
      "\u001b[1;31mAttributeError\u001b[0m                            Traceback (most recent call last)",
      "Cell \u001b[1;32mIn [29], line 2\u001b[0m\n\u001b[0;32m      1\u001b[0m \u001b[38;5;66;03m# Попробуем обратиться к приватному методу\u001b[39;00m\n\u001b[1;32m----> 2\u001b[0m \u001b[43mmy_dog\u001b[49m\u001b[38;5;241;43m.\u001b[39;49m\u001b[43m__get_weakness\u001b[49m()\n",
      "\u001b[1;31mAttributeError\u001b[0m: 'Dog' object has no attribute '__get_weakness'"
     ]
    }
   ],
   "source": [
    "# Попробуем обратиться к приватному методу\n",
    "my_dog.__get_weakness()"
   ]
  },
  {
   "cell_type": "code",
   "execution_count": 30,
   "id": "80db3a17",
   "metadata": {},
   "outputs": [
    {
     "name": "stdout",
     "output_type": "stream",
     "text": [
      "Weakness: tennis balls\n"
     ]
    }
   ],
   "source": [
    "# Но если мы вызовем приватную функцию в методе класса\n",
    "my_dog.print_weakness()"
   ]
  },
  {
   "cell_type": "markdown",
   "id": "7fd31612",
   "metadata": {},
   "source": [
    "***\n",
    "### Специальные методы"
   ]
  },
  {
   "cell_type": "markdown",
   "id": "fe446410",
   "metadata": {},
   "source": [
    "Но что за методы с подчеркиваниями с двух сторон, как `__init__`?\n",
    "\n",
    "**Специальные методы**\n",
    "\n",
    "`__new__` - используется для создания новых экземпляров класса, вызывается перед методом init. Полезно, например, если необходимо настроить объект до его инициализации или изменить способ создания объекта в зависимости от определенных условий.\n",
    "\n",
    "`__init__` - конструктор класса\n",
    "\n",
    "`__del__` - деструктор класса (при удалении объекта, очищает всю задействованную память)\n",
    "\n",
    "`__str__` - представление в виде строки\n",
    "\n",
    "`__repr__` - официальное представление объекта (строка)"
   ]
  },
  {
   "cell_type": "code",
   "execution_count": 31,
   "id": "6b00551c",
   "metadata": {},
   "outputs": [],
   "source": [
    "class Dog:\n",
    "    species = \"Canis familiaris\"\n",
    "    sounds = \"Woof\"\n",
    "\n",
    "    def __init__(self, name, age, weakness):\n",
    "        self.name = name\n",
    "        self.age = age\n",
    "        self.__weakness = weakness\n",
    "\n",
    "    def speak(self):\n",
    "        return f\"{self.name} says {self.sounds}!\"\n",
    "    \n",
    "    def __get_weakness(self):\n",
    "        return self.__weakness\n",
    "    \n",
    "    def print_weakness(self):\n",
    "        print(f'Weakness: {self.__get_weakness()}')\n",
    "    \n",
    "    def __str__(self):\n",
    "        return f'DOG Name: {self.name}, age: {self.age}'\n",
    "    \n",
    "    def __repr__(self):\n",
    "        return f'class Dog:{self.name}, {self.age}'\n",
    "    \n",
    "    def __del__(self):\n",
    "        print('Вызвался деструктор.')"
   ]
  },
  {
   "cell_type": "code",
   "execution_count": 32,
   "id": "f9537e55",
   "metadata": {},
   "outputs": [
    {
     "name": "stdout",
     "output_type": "stream",
     "text": [
      "<__main__.Dog object at 0x000002498D9FFC70>\n",
      "DOG Name: Bobik, age: 3\n"
     ]
    }
   ],
   "source": [
    "# Давайте распечатаем объект прошлой версии класса \n",
    "# Kакое было строковое представление?\n",
    "print(my_dog2)\n",
    "\n",
    "# у нас уже определен объект my_dog\n",
    "# Поэтому, если мы записываем новое значение в переменную\n",
    "# То старый объект удаляется, т.е. вызывается деструктор\n",
    "my_dog = Dog('Bobik', 3, 'tennis balls')\n",
    "\n",
    "print(my_dog)"
   ]
  },
  {
   "cell_type": "markdown",
   "id": "90d713a5",
   "metadata": {},
   "source": [
    "### Заключение"
   ]
  },
  {
   "cell_type": "markdown",
   "id": "8ddb41e8",
   "metadata": {},
   "source": [
    "На сегодняшней лекции мы узнали о:\n",
    "+ локальных и глобальных переменных\n",
    "+ функциях\n",
    "+ `*args`, `**keargs`\n",
    "+ лямбда-функциях\n",
    "+ рекурсии\n",
    "+ том, что такое ООП\n",
    "+ классах\n",
    "+ специальных методах"
   ]
  }
 ],
 "metadata": {
  "kernelspec": {
   "display_name": "Python 3 (ipykernel)",
   "language": "python",
   "name": "python3"
  },
  "language_info": {
   "codemirror_mode": {
    "name": "ipython",
    "version": 3
   },
   "file_extension": ".py",
   "mimetype": "text/x-python",
   "name": "python",
   "nbconvert_exporter": "python",
   "pygments_lexer": "ipython3",
   "version": "3.10.11"
  }
 },
 "nbformat": 4,
 "nbformat_minor": 5
}
